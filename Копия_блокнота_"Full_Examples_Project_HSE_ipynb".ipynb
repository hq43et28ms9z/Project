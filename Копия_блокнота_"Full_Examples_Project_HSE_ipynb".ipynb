{
  "nbformat": 4,
  "nbformat_minor": 0,
  "metadata": {
    "colab": {
      "name": "Копия блокнота \"Full_Examples_Project_HSE.ipynb\"",
      "provenance": [],
      "collapsed_sections": [
        "Jek4Q-uu2IN0"
      ],
      "include_colab_link": true
    },
    "kernelspec": {
      "name": "python3",
      "display_name": "Python 3"
    },
    "language_info": {
      "name": "python"
    }
  },
  "cells": [
    {
      "cell_type": "markdown",
      "metadata": {
        "id": "view-in-github",
        "colab_type": "text"
      },
      "source": [
        "<a href=\"https://colab.research.google.com/github/hq43et28ms9z/Project/blob/main/%D0%9A%D0%BE%D0%BF%D0%B8%D1%8F_%D0%B1%D0%BB%D0%BE%D0%BA%D0%BD%D0%BE%D1%82%D0%B0_%22Full_Examples_Project_HSE_ipynb%22.ipynb\" target=\"_parent\"><img src=\"https://colab.research.google.com/assets/colab-badge.svg\" alt=\"Open In Colab\"/></a>"
      ]
    },
    {
      "cell_type": "markdown",
      "source": [
        "## Скачивание нужных файлов"
      ],
      "metadata": {
        "id": "Np14USHiPTbg"
      }
    },
    {
      "cell_type": "code",
      "source": [
        "! wget ftp://ftp.ncbi.nlm.nih.gov/genomes/all/GCA/000/342/415/GCA_000342415.1_JCVI-bewag-v1.1/GCA_000342415.1_JCVI-bewag-v1.1_genomic.fna.gz\n",
        "! wget ftp://ftp.ncbi.nlm.nih.gov/genomes/all/GCA/000/003/225/GCA_000003225.1_ASM322v1/GCA_000003225.1_ASM322v1_genomic.fna.gz\n",
        "! wget ftp://ftp.ncbi.nlm.nih.gov/genomes/all/GCA/000/740/895/GCA_000740895.1_ASM74089v1/GCA_000740895.1_ASM74089v1_genomic.fna.gz\n",
        "! wget ftp://ftp.ncbi.nlm.nih.gov/genomes/all/GCA/000/165/365/GCA_000165365.1_ASM16536v1/GCA_000165365.1_ASM16536v1_genomic.fna.gz\n",
        "! wget ftp://ftp.ncbi.nlm.nih.gov/genomes/all/GCA/000/691/945/GCA_000691945.2_ASM69194v2/GCA_000691945.2_ASM69194v2_genomic.fna.gz"
      ],
      "metadata": {
        "id": "ky7d40P7PRYp",
        "colab": {
          "base_uri": "https://localhost:8080/"
        },
        "outputId": "7502d597-6fd7-4ede-cfbf-00ae263157be"
      },
      "execution_count": 3,
      "outputs": [
        {
          "output_type": "stream",
          "name": "stdout",
          "text": [
            "--2022-06-14 11:31:34--  ftp://ftp.ncbi.nlm.nih.gov/genomes/all/GCA/000/342/415/GCA_000342415.1_JCVI-bewag-v1.1/GCA_000342415.1_JCVI-bewag-v1.1_genomic.fna.gz\n",
            "           => ‘GCA_000342415.1_JCVI-bewag-v1.1_genomic.fna.gz’\n",
            "Resolving ftp.ncbi.nlm.nih.gov (ftp.ncbi.nlm.nih.gov)... 165.112.9.228, 165.112.9.230, 2607:f220:41e:250::10, ...\n",
            "Connecting to ftp.ncbi.nlm.nih.gov (ftp.ncbi.nlm.nih.gov)|165.112.9.228|:21... connected.\n",
            "Logging in as anonymous ... Logged in!\n",
            "==> SYST ... done.    ==> PWD ... done.\n",
            "==> TYPE I ... done.  ==> CWD (1) /genomes/all/GCA/000/342/415/GCA_000342415.1_JCVI-bewag-v1.1 ... done.\n",
            "==> SIZE GCA_000342415.1_JCVI-bewag-v1.1_genomic.fna.gz ... 3635078\n",
            "==> PASV ... done.    ==> RETR GCA_000342415.1_JCVI-bewag-v1.1_genomic.fna.gz ... done.\n",
            "Length: 3635078 (3.5M) (unauthoritative)\n",
            "\n",
            "GCA_000342415.1_JCV 100%[===================>]   3.47M  5.09MB/s    in 0.7s    \n",
            "\n",
            "2022-06-14 11:31:36 (5.09 MB/s) - ‘GCA_000342415.1_JCVI-bewag-v1.1_genomic.fna.gz’ saved [3635078]\n",
            "\n",
            "--2022-06-14 11:31:36--  ftp://ftp.ncbi.nlm.nih.gov/genomes/all/GCA/000/003/225/GCA_000003225.1_ASM322v1/GCA_000003225.1_ASM322v1_genomic.fna.gz\n",
            "           => ‘GCA_000003225.1_ASM322v1_genomic.fna.gz’\n",
            "Resolving ftp.ncbi.nlm.nih.gov (ftp.ncbi.nlm.nih.gov)... 165.112.9.228, 165.112.9.230, 2607:f220:41e:250::10, ...\n",
            "Connecting to ftp.ncbi.nlm.nih.gov (ftp.ncbi.nlm.nih.gov)|165.112.9.228|:21... connected.\n",
            "Logging in as anonymous ... Logged in!\n",
            "==> SYST ... done.    ==> PWD ... done.\n",
            "==> TYPE I ... done.  ==> CWD (1) /genomes/all/GCA/000/003/225/GCA_000003225.1_ASM322v1 ... done.\n",
            "==> SIZE GCA_000003225.1_ASM322v1_genomic.fna.gz ... 2576853\n",
            "==> PASV ... done.    ==> RETR GCA_000003225.1_ASM322v1_genomic.fna.gz ... done.\n",
            "Length: 2576853 (2.5M) (unauthoritative)\n",
            "\n",
            "GCA_000003225.1_ASM 100%[===================>]   2.46M  3.63MB/s    in 0.7s    \n",
            "\n",
            "2022-06-14 11:31:38 (3.63 MB/s) - ‘GCA_000003225.1_ASM322v1_genomic.fna.gz’ saved [2576853]\n",
            "\n",
            "--2022-06-14 11:31:38--  ftp://ftp.ncbi.nlm.nih.gov/genomes/all/GCA/000/740/895/GCA_000740895.1_ASM74089v1/GCA_000740895.1_ASM74089v1_genomic.fna.gz\n",
            "           => ‘GCA_000740895.1_ASM74089v1_genomic.fna.gz’\n",
            "Resolving ftp.ncbi.nlm.nih.gov (ftp.ncbi.nlm.nih.gov)... 165.112.9.228, 165.112.9.230, 2607:f220:41e:250::10, ...\n",
            "Connecting to ftp.ncbi.nlm.nih.gov (ftp.ncbi.nlm.nih.gov)|165.112.9.228|:21... connected.\n",
            "Logging in as anonymous ... Logged in!\n",
            "==> SYST ... done.    ==> PWD ... done.\n",
            "==> TYPE I ... done.  ==> CWD (1) /genomes/all/GCA/000/740/895/GCA_000740895.1_ASM74089v1 ... done.\n",
            "==> SIZE GCA_000740895.1_ASM74089v1_genomic.fna.gz ... 2830435\n",
            "==> PASV ... done.    ==> RETR GCA_000740895.1_ASM74089v1_genomic.fna.gz ... done.\n",
            "Length: 2830435 (2.7M) (unauthoritative)\n",
            "\n",
            "GCA_000740895.1_ASM 100%[===================>]   2.70M  3.16MB/s    in 0.9s    \n",
            "\n",
            "2022-06-14 11:31:40 (3.16 MB/s) - ‘GCA_000740895.1_ASM74089v1_genomic.fna.gz’ saved [2830435]\n",
            "\n",
            "--2022-06-14 11:31:40--  ftp://ftp.ncbi.nlm.nih.gov/genomes/all/GCA/000/165/365/GCA_000165365.1_ASM16536v1/GCA_000165365.1_ASM16536v1_genomic.fna.gz\n",
            "           => ‘GCA_000165365.1_ASM16536v1_genomic.fna.gz’\n",
            "Resolving ftp.ncbi.nlm.nih.gov (ftp.ncbi.nlm.nih.gov)... 165.112.9.228, 165.112.9.230, 2607:f220:41e:250::10, ...\n",
            "Connecting to ftp.ncbi.nlm.nih.gov (ftp.ncbi.nlm.nih.gov)|165.112.9.228|:21... connected.\n",
            "Logging in as anonymous ... Logged in!\n",
            "==> SYST ... done.    ==> PWD ... done.\n",
            "==> TYPE I ... done.  ==> CWD (1) /genomes/all/GCA/000/165/365/GCA_000165365.1_ASM16536v1 ... done.\n",
            "==> SIZE GCA_000165365.1_ASM16536v1_genomic.fna.gz ... 2588830\n",
            "==> PASV ... done.    ==> RETR GCA_000165365.1_ASM16536v1_genomic.fna.gz ... done.\n",
            "Length: 2588830 (2.5M) (unauthoritative)\n",
            "\n",
            "GCA_000165365.1_ASM 100%[===================>]   2.47M  3.62MB/s    in 0.7s    \n",
            "\n",
            "2022-06-14 11:31:42 (3.62 MB/s) - ‘GCA_000165365.1_ASM16536v1_genomic.fna.gz’ saved [2588830]\n",
            "\n",
            "--2022-06-14 11:31:42--  ftp://ftp.ncbi.nlm.nih.gov/genomes/all/GCA/000/691/945/GCA_000691945.2_ASM69194v2/GCA_000691945.2_ASM69194v2_genomic.fna.gz\n",
            "           => ‘GCA_000691945.2_ASM69194v2_genomic.fna.gz’\n",
            "Resolving ftp.ncbi.nlm.nih.gov (ftp.ncbi.nlm.nih.gov)... 165.112.9.228, 165.112.9.230, 2607:f220:41e:250::10, ...\n",
            "Connecting to ftp.ncbi.nlm.nih.gov (ftp.ncbi.nlm.nih.gov)|165.112.9.228|:21... connected.\n",
            "Logging in as anonymous ... Logged in!\n",
            "==> SYST ... done.    ==> PWD ... done.\n",
            "==> TYPE I ... done.  ==> CWD (1) /genomes/all/GCA/000/691/945/GCA_000691945.2_ASM69194v2 ... done.\n",
            "==> SIZE GCA_000691945.2_ASM69194v2_genomic.fna.gz ... 2032356\n",
            "==> PASV ... done.    ==> RETR GCA_000691945.2_ASM69194v2_genomic.fna.gz ... done.\n",
            "Length: 2032356 (1.9M) (unauthoritative)\n",
            "\n",
            "GCA_000691945.2_ASM 100%[===================>]   1.94M  2.42MB/s    in 0.8s    \n",
            "\n",
            "2022-06-14 11:31:45 (2.42 MB/s) - ‘GCA_000691945.2_ASM69194v2_genomic.fna.gz’ saved [2032356]\n",
            "\n"
          ]
        }
      ]
    },
    {
      "cell_type": "code",
      "source": [
        "! wget ftp://ftp.ncbi.nlm.nih.gov/genomes/all/GCA/000/342/415/GCA_000342415.1_JCVI-bewag-v1.1/GCA_000342415.1_JCVI-bewag-v1.1_feature_table.txt.gz\n",
        "! wget ftp://ftp.ncbi.nlm.nih.gov/genomes/all/GCA/000/003/225/GCA_000003225.1_ASM322v1/GCA_000003225.1_ASM322v1_feature_table.txt.gz\n",
        "! wget ftp://ftp.ncbi.nlm.nih.gov/genomes/all/GCA/000/740/895/GCA_000740895.1_ASM74089v1/GCA_000740895.1_ASM74089v1_feature_table.txt.gz\n",
        "! wget ftp://ftp.ncbi.nlm.nih.gov/genomes/all/GCA/000/165/365/GCA_000165365.1_ASM16536v1/GCA_000165365.1_ASM16536v1_feature_table.txt.gz\n",
        "! wget ftp://ftp.ncbi.nlm.nih.gov/genomes/all/GCA/000/691/945/GCA_000691945.2_ASM69194v2/GCA_000691945.2_ASM69194v2_feature_table.txt.gz\n"
      ],
      "metadata": {
        "colab": {
          "base_uri": "https://localhost:8080/"
        },
        "id": "b1WGGSIvMsY2",
        "outputId": "a8b52932-c0ba-46a9-9c69-1cfeeee7318a"
      },
      "execution_count": 2,
      "outputs": [
        {
          "output_type": "stream",
          "name": "stdout",
          "text": [
            "--2022-06-14 11:31:25--  ftp://ftp.ncbi.nlm.nih.gov/genomes/all/GCA/000/342/415/GCA_000342415.1_JCVI-bewag-v1.1/GCA_000342415.1_JCVI-bewag-v1.1_feature_table.txt.gz\n",
            "           => ‘GCA_000342415.1_JCVI-bewag-v1.1_feature_table.txt.gz’\n",
            "Resolving ftp.ncbi.nlm.nih.gov (ftp.ncbi.nlm.nih.gov)... 165.112.9.228, 165.112.9.230, 2607:f220:41e:250::10, ...\n",
            "Connecting to ftp.ncbi.nlm.nih.gov (ftp.ncbi.nlm.nih.gov)|165.112.9.228|:21... connected.\n",
            "Logging in as anonymous ... Logged in!\n",
            "==> SYST ... done.    ==> PWD ... done.\n",
            "==> TYPE I ... done.  ==> CWD (1) /genomes/all/GCA/000/342/415/GCA_000342415.1_JCVI-bewag-v1.1 ... done.\n",
            "==> SIZE GCA_000342415.1_JCVI-bewag-v1.1_feature_table.txt.gz ... 242067\n",
            "==> PASV ... done.    ==> RETR GCA_000342415.1_JCVI-bewag-v1.1_feature_table.txt.gz ... done.\n",
            "Length: 242067 (236K) (unauthoritative)\n",
            "\n",
            "GCA_000342415.1_JCV 100%[===================>] 236.39K   565KB/s    in 0.4s    \n",
            "\n",
            "2022-06-14 11:31:26 (565 KB/s) - ‘GCA_000342415.1_JCVI-bewag-v1.1_feature_table.txt.gz’ saved [242067]\n",
            "\n",
            "--2022-06-14 11:31:26--  ftp://ftp.ncbi.nlm.nih.gov/genomes/all/GCA/000/003/225/GCA_000003225.1_ASM322v1/GCA_000003225.1_ASM322v1_feature_table.txt.gz\n",
            "           => ‘GCA_000003225.1_ASM322v1_feature_table.txt.gz’\n",
            "Resolving ftp.ncbi.nlm.nih.gov (ftp.ncbi.nlm.nih.gov)... 165.112.9.228, 165.112.9.230, 2607:f220:41e:250::10, ...\n",
            "Connecting to ftp.ncbi.nlm.nih.gov (ftp.ncbi.nlm.nih.gov)|165.112.9.228|:21... connected.\n",
            "Logging in as anonymous ... Logged in!\n",
            "==> SYST ... done.    ==> PWD ... done.\n",
            "==> TYPE I ... done.  ==> CWD (1) /genomes/all/GCA/000/003/225/GCA_000003225.1_ASM322v1 ... done.\n",
            "==> SIZE GCA_000003225.1_ASM322v1_feature_table.txt.gz ... 133348\n",
            "==> PASV ... done.    ==> RETR GCA_000003225.1_ASM322v1_feature_table.txt.gz ... done.\n",
            "Length: 133348 (130K) (unauthoritative)\n",
            "\n",
            "GCA_000003225.1_ASM 100%[===================>] 130.22K   431KB/s    in 0.3s    \n",
            "\n",
            "2022-06-14 11:31:28 (431 KB/s) - ‘GCA_000003225.1_ASM322v1_feature_table.txt.gz’ saved [133348]\n",
            "\n",
            "--2022-06-14 11:31:28--  ftp://ftp.ncbi.nlm.nih.gov/genomes/all/GCA/000/740/895/GCA_000740895.1_ASM74089v1/GCA_000740895.1_ASM74089v1_feature_table.txt.gz\n",
            "           => ‘GCA_000740895.1_ASM74089v1_feature_table.txt.gz’\n",
            "Resolving ftp.ncbi.nlm.nih.gov (ftp.ncbi.nlm.nih.gov)... 165.112.9.228, 165.112.9.230, 2607:f220:41e:250::10, ...\n",
            "Connecting to ftp.ncbi.nlm.nih.gov (ftp.ncbi.nlm.nih.gov)|165.112.9.228|:21... connected.\n",
            "Logging in as anonymous ... Logged in!\n",
            "==> SYST ... done.    ==> PWD ... done.\n",
            "==> TYPE I ... done.  ==> CWD (1) /genomes/all/GCA/000/740/895/GCA_000740895.1_ASM74089v1 ... done.\n",
            "==> SIZE GCA_000740895.1_ASM74089v1_feature_table.txt.gz ... 136413\n",
            "==> PASV ... done.    ==> RETR GCA_000740895.1_ASM74089v1_feature_table.txt.gz ... done.\n",
            "Length: 136413 (133K) (unauthoritative)\n",
            "\n",
            "GCA_000740895.1_ASM 100%[===================>] 133.22K   439KB/s    in 0.3s    \n",
            "\n",
            "2022-06-14 11:31:30 (439 KB/s) - ‘GCA_000740895.1_ASM74089v1_feature_table.txt.gz’ saved [136413]\n",
            "\n",
            "--2022-06-14 11:31:30--  ftp://ftp.ncbi.nlm.nih.gov/genomes/all/GCA/000/165/365/GCA_000165365.1_ASM16536v1/GCA_000165365.1_ASM16536v1_feature_table.txt.gz\n",
            "           => ‘GCA_000165365.1_ASM16536v1_feature_table.txt.gz’\n",
            "Resolving ftp.ncbi.nlm.nih.gov (ftp.ncbi.nlm.nih.gov)... 165.112.9.228, 165.112.9.230, 2607:f220:41e:250::10, ...\n",
            "Connecting to ftp.ncbi.nlm.nih.gov (ftp.ncbi.nlm.nih.gov)|165.112.9.228|:21... connected.\n",
            "Logging in as anonymous ... Logged in!\n",
            "==> SYST ... done.    ==> PWD ... done.\n",
            "==> TYPE I ... done.  ==> CWD (1) /genomes/all/GCA/000/165/365/GCA_000165365.1_ASM16536v1 ... done.\n",
            "==> SIZE GCA_000165365.1_ASM16536v1_feature_table.txt.gz ... 249710\n",
            "==> PASV ... done.    ==> RETR GCA_000165365.1_ASM16536v1_feature_table.txt.gz ... done.\n",
            "Length: 249710 (244K) (unauthoritative)\n",
            "\n",
            "GCA_000165365.1_ASM 100%[===================>] 243.86K   643KB/s    in 0.4s    \n",
            "\n",
            "2022-06-14 11:31:32 (643 KB/s) - ‘GCA_000165365.1_ASM16536v1_feature_table.txt.gz’ saved [249710]\n",
            "\n",
            "--2022-06-14 11:31:32--  ftp://ftp.ncbi.nlm.nih.gov/genomes/all/GCA/000/691/945/GCA_000691945.2_ASM69194v2/GCA_000691945.2_ASM69194v2_feature_table.txt.gz\n",
            "           => ‘GCA_000691945.2_ASM69194v2_feature_table.txt.gz’\n",
            "Resolving ftp.ncbi.nlm.nih.gov (ftp.ncbi.nlm.nih.gov)... 165.112.9.228, 165.112.9.230, 2607:f220:41e:250::10, ...\n",
            "Connecting to ftp.ncbi.nlm.nih.gov (ftp.ncbi.nlm.nih.gov)|165.112.9.228|:21... connected.\n",
            "Logging in as anonymous ... Logged in!\n",
            "==> SYST ... done.    ==> PWD ... done.\n",
            "==> TYPE I ... done.  ==> CWD (1) /genomes/all/GCA/000/691/945/GCA_000691945.2_ASM69194v2 ... done.\n",
            "==> SIZE GCA_000691945.2_ASM69194v2_feature_table.txt.gz ... 177542\n",
            "==> PASV ... done.    ==> RETR GCA_000691945.2_ASM69194v2_feature_table.txt.gz ... done.\n",
            "Length: 177542 (173K) (unauthoritative)\n",
            "\n",
            "GCA_000691945.2_ASM 100%[===================>] 173.38K   563KB/s    in 0.3s    \n",
            "\n",
            "2022-06-14 11:31:34 (563 KB/s) - ‘GCA_000691945.2_ASM69194v2_feature_table.txt.gz’ saved [177542]\n",
            "\n"
          ]
        }
      ]
    },
    {
      "cell_type": "code",
      "source": [
        "! wget ftp://ftp.ncbi.nlm.nih.gov/genomes/all/GCF/000/342/415/GCF_000342415.1_JCVI-bewag-v1.1/GCF_000342415.1_JCVI-bewag-v1.1_genomic.gtf.gz\n",
        "! wget ftp://ftp.ncbi.nlm.nih.gov/genomes/all/GCF/000/003/225/GCF_000003225.4_ASM322v1/GCF_000003225.4_ASM322v1_genomic.gtf.gz\n",
        "! wget ftp://ftp.ncbi.nlm.nih.gov/genomes/all/GCF/000/740/895/GCF_000740895.1_ASM74089v1/GCF_000740895.1_ASM74089v1_genomic.gtf.gz\n",
        "! wget ftp://ftp.ncbi.nlm.nih.gov/genomes/all/GCF/000/165/365/GCF_000165365.1_ASM16536v1/GCF_000165365.1_ASM16536v1_genomic.gtf.gz\n",
        "! wget ftp://ftp.ncbi.nlm.nih.gov/genomes/all/GCF/000/691/945/GCF_000691945.2_ASM69194v2/GCF_000691945.2_ASM69194v2_genomic.gtf.gz"
      ],
      "metadata": {
        "colab": {
          "base_uri": "https://localhost:8080/"
        },
        "id": "prMkGPh6NlTE",
        "outputId": "2a9750bb-24b0-4050-f6ab-d14bc3b6a6b3"
      },
      "execution_count": 1,
      "outputs": [
        {
          "output_type": "stream",
          "name": "stdout",
          "text": [
            "--2022-06-14 11:31:15--  ftp://ftp.ncbi.nlm.nih.gov/genomes/all/GCF/000/342/415/GCF_000342415.1_JCVI-bewag-v1.1/GCF_000342415.1_JCVI-bewag-v1.1_genomic.gtf.gz\n",
            "           => ‘GCF_000342415.1_JCVI-bewag-v1.1_genomic.gtf.gz’\n",
            "Resolving ftp.ncbi.nlm.nih.gov (ftp.ncbi.nlm.nih.gov)... 165.112.9.228, 165.112.9.230, 2607:f220:41e:250::10, ...\n",
            "Connecting to ftp.ncbi.nlm.nih.gov (ftp.ncbi.nlm.nih.gov)|165.112.9.228|:21... connected.\n",
            "Logging in as anonymous ... Logged in!\n",
            "==> SYST ... done.    ==> PWD ... done.\n",
            "==> TYPE I ... done.  ==> CWD (1) /genomes/all/GCF/000/342/415/GCF_000342415.1_JCVI-bewag-v1.1 ... done.\n",
            "==> SIZE GCF_000342415.1_JCVI-bewag-v1.1_genomic.gtf.gz ... 690476\n",
            "==> PASV ... done.    ==> RETR GCF_000342415.1_JCVI-bewag-v1.1_genomic.gtf.gz ... done.\n",
            "Length: 690476 (674K) (unauthoritative)\n",
            "\n",
            "GCF_000342415.1_JCV 100%[===================>] 674.29K  1.42MB/s    in 0.5s    \n",
            "\n",
            "2022-06-14 11:31:17 (1.42 MB/s) - ‘GCF_000342415.1_JCVI-bewag-v1.1_genomic.gtf.gz’ saved [690476]\n",
            "\n",
            "--2022-06-14 11:31:17--  ftp://ftp.ncbi.nlm.nih.gov/genomes/all/GCF/000/003/225/GCF_000003225.4_ASM322v1/GCF_000003225.4_ASM322v1_genomic.gtf.gz\n",
            "           => ‘GCF_000003225.4_ASM322v1_genomic.gtf.gz’\n",
            "Resolving ftp.ncbi.nlm.nih.gov (ftp.ncbi.nlm.nih.gov)... 165.112.9.228, 165.112.9.230, 2607:f220:41e:250::10, ...\n",
            "Connecting to ftp.ncbi.nlm.nih.gov (ftp.ncbi.nlm.nih.gov)|165.112.9.228|:21... connected.\n",
            "Logging in as anonymous ... Logged in!\n",
            "==> SYST ... done.    ==> PWD ... done.\n",
            "==> TYPE I ... done.  ==> CWD (1) /genomes/all/GCF/000/003/225/GCF_000003225.4_ASM322v1 ... done.\n",
            "==> SIZE GCF_000003225.4_ASM322v1_genomic.gtf.gz ... 795483\n",
            "==> PASV ... done.    ==> RETR GCF_000003225.4_ASM322v1_genomic.gtf.gz ... done.\n",
            "Length: 795483 (777K) (unauthoritative)\n",
            "\n",
            "GCF_000003225.4_ASM 100%[===================>] 776.84K  1.62MB/s    in 0.5s    \n",
            "\n",
            "2022-06-14 11:31:19 (1.62 MB/s) - ‘GCF_000003225.4_ASM322v1_genomic.gtf.gz’ saved [795483]\n",
            "\n",
            "--2022-06-14 11:31:19--  ftp://ftp.ncbi.nlm.nih.gov/genomes/all/GCF/000/740/895/GCF_000740895.1_ASM74089v1/GCF_000740895.1_ASM74089v1_genomic.gtf.gz\n",
            "           => ‘GCF_000740895.1_ASM74089v1_genomic.gtf.gz’\n",
            "Resolving ftp.ncbi.nlm.nih.gov (ftp.ncbi.nlm.nih.gov)... 165.112.9.228, 165.112.9.230, 2607:f220:41e:250::10, ...\n",
            "Connecting to ftp.ncbi.nlm.nih.gov (ftp.ncbi.nlm.nih.gov)|165.112.9.228|:21... connected.\n",
            "Logging in as anonymous ... Logged in!\n",
            "==> SYST ... done.    ==> PWD ... done.\n",
            "==> TYPE I ... done.  ==> CWD (1) /genomes/all/GCF/000/740/895/GCF_000740895.1_ASM74089v1 ... done.\n",
            "==> SIZE GCF_000740895.1_ASM74089v1_genomic.gtf.gz ... 642403\n",
            "==> PASV ... done.    ==> RETR GCF_000740895.1_ASM74089v1_genomic.gtf.gz ... done.\n",
            "Length: 642403 (627K) (unauthoritative)\n",
            "\n",
            "GCF_000740895.1_ASM 100%[===================>] 627.35K  1.28MB/s    in 0.5s    \n",
            "\n",
            "2022-06-14 11:31:20 (1.28 MB/s) - ‘GCF_000740895.1_ASM74089v1_genomic.gtf.gz’ saved [642403]\n",
            "\n",
            "--2022-06-14 11:31:21--  ftp://ftp.ncbi.nlm.nih.gov/genomes/all/GCF/000/165/365/GCF_000165365.1_ASM16536v1/GCF_000165365.1_ASM16536v1_genomic.gtf.gz\n",
            "           => ‘GCF_000165365.1_ASM16536v1_genomic.gtf.gz’\n",
            "Resolving ftp.ncbi.nlm.nih.gov (ftp.ncbi.nlm.nih.gov)... 165.112.9.228, 165.112.9.230, 2607:f220:41e:250::10, ...\n",
            "Connecting to ftp.ncbi.nlm.nih.gov (ftp.ncbi.nlm.nih.gov)|165.112.9.228|:21... connected.\n",
            "Logging in as anonymous ... Logged in!\n",
            "==> SYST ... done.    ==> PWD ... done.\n",
            "==> TYPE I ... done.  ==> CWD (1) /genomes/all/GCF/000/165/365/GCF_000165365.1_ASM16536v1 ... done.\n",
            "==> SIZE GCF_000165365.1_ASM16536v1_genomic.gtf.gz ... 543030\n",
            "==> PASV ... done.    ==> RETR GCF_000165365.1_ASM16536v1_genomic.gtf.gz ... done.\n",
            "Length: 543030 (530K) (unauthoritative)\n",
            "\n",
            "GCF_000165365.1_ASM 100%[===================>] 530.30K  1.12MB/s    in 0.5s    \n",
            "\n",
            "2022-06-14 11:31:22 (1.12 MB/s) - ‘GCF_000165365.1_ASM16536v1_genomic.gtf.gz’ saved [543030]\n",
            "\n",
            "--2022-06-14 11:31:22--  ftp://ftp.ncbi.nlm.nih.gov/genomes/all/GCF/000/691/945/GCF_000691945.2_ASM69194v2/GCF_000691945.2_ASM69194v2_genomic.gtf.gz\n",
            "           => ‘GCF_000691945.2_ASM69194v2_genomic.gtf.gz’\n",
            "Resolving ftp.ncbi.nlm.nih.gov (ftp.ncbi.nlm.nih.gov)... 165.112.9.228, 165.112.9.230, 2607:f220:41e:250::10, ...\n",
            "Connecting to ftp.ncbi.nlm.nih.gov (ftp.ncbi.nlm.nih.gov)|165.112.9.228|:21... connected.\n",
            "Logging in as anonymous ... Logged in!\n",
            "==> SYST ... done.    ==> PWD ... done.\n",
            "==> TYPE I ... done.  ==> CWD (1) /genomes/all/GCF/000/691/945/GCF_000691945.2_ASM69194v2 ... done.\n",
            "==> SIZE GCF_000691945.2_ASM69194v2_genomic.gtf.gz ... 664794\n",
            "==> PASV ... done.    ==> RETR GCF_000691945.2_ASM69194v2_genomic.gtf.gz ... done.\n",
            "Length: 664794 (649K) (unauthoritative)\n",
            "\n",
            "GCF_000691945.2_ASM 100%[===================>] 649.21K  1.33MB/s    in 0.5s    \n",
            "\n",
            "2022-06-14 11:31:24 (1.33 MB/s) - ‘GCF_000691945.2_ASM69194v2_genomic.gtf.gz’ saved [664794]\n",
            "\n"
          ]
        }
      ]
    },
    {
      "cell_type": "code",
      "source": [
        "! wget ftp://ftp.ncbi.nlm.nih.gov/genomes/all/GCF/000/342/415/GCF_000342415.1_JCVI-bewag-v1.1/GCF_000342415.1_JCVI-bewag-v1.1_genomic.fna.gz\n",
        "! wget ftp://ftp.ncbi.nlm.nih.gov/genomes/all/GCF/000/003/225/GCF_000003225.4_ASM322v1/GCF_000003225.4_ASM322v1_genomic.fna.gz\n",
        "! wget ftp://ftp.ncbi.nlm.nih.gov/genomes/all/GCF/000/740/895/GCF_000740895.1_ASM74089v1/GCF_000740895.1_ASM74089v1_genomic.fna.gz\n",
        "! wget ftp://ftp.ncbi.nlm.nih.gov/genomes/all/GCF/000/165/365/GCF_000165365.1_ASM16536v1/GCF_000165365.1_ASM16536v1_genomic.fna.gz\n",
        "! wget ftp://ftp.ncbi.nlm.nih.gov/genomes/all/GCF/000/691/945/GCF_000691945.2_ASM69194v2/GCF_000691945.2_ASM69194v2_genomic.fna.gz"
      ],
      "metadata": {
        "colab": {
          "base_uri": "https://localhost:8080/"
        },
        "id": "A008T_kAeOK9",
        "outputId": "0783880e-df45-4aca-dfd7-b531c8bf62da"
      },
      "execution_count": 17,
      "outputs": [
        {
          "output_type": "stream",
          "name": "stdout",
          "text": [
            "--2022-06-14 13:50:33--  ftp://ftp.ncbi.nlm.nih.gov/genomes/all/GCF/000/342/415/GCF_000342415.1_JCVI-bewag-v1.1/GCF_000342415.1_JCVI-bewag-v1.1_genomic.fna.gz\n",
            "           => ‘GCF_000342415.1_JCVI-bewag-v1.1_genomic.fna.gz’\n",
            "Resolving ftp.ncbi.nlm.nih.gov (ftp.ncbi.nlm.nih.gov)... 165.112.9.229, 165.112.9.230, 2607:f220:41e:250::11, ...\n",
            "Connecting to ftp.ncbi.nlm.nih.gov (ftp.ncbi.nlm.nih.gov)|165.112.9.229|:21... connected.\n",
            "Logging in as anonymous ... Logged in!\n",
            "==> SYST ... done.    ==> PWD ... done.\n",
            "==> TYPE I ... done.  ==> CWD (1) /genomes/all/GCF/000/342/415/GCF_000342415.1_JCVI-bewag-v1.1 ... done.\n",
            "==> SIZE GCF_000342415.1_JCVI-bewag-v1.1_genomic.fna.gz ... 3635295\n",
            "==> PASV ... done.    ==> RETR GCF_000342415.1_JCVI-bewag-v1.1_genomic.fna.gz ... done.\n",
            "Length: 3635295 (3.5M) (unauthoritative)\n",
            "\n",
            "GCF_000342415.1_JCV 100%[===================>]   3.47M  4.69MB/s    in 0.7s    \n",
            "\n",
            "2022-06-14 13:50:35 (4.69 MB/s) - ‘GCF_000342415.1_JCVI-bewag-v1.1_genomic.fna.gz’ saved [3635295]\n",
            "\n",
            "--2022-06-14 13:50:35--  ftp://ftp.ncbi.nlm.nih.gov/genomes/all/GCF/000/003/225/GCF_000003225.4_ASM322v1/GCF_000003225.4_ASM322v1_genomic.fna.gz\n",
            "           => ‘GCF_000003225.4_ASM322v1_genomic.fna.gz’\n",
            "Resolving ftp.ncbi.nlm.nih.gov (ftp.ncbi.nlm.nih.gov)... 165.112.9.229, 165.112.9.230, 2607:f220:41e:250::11, ...\n",
            "Connecting to ftp.ncbi.nlm.nih.gov (ftp.ncbi.nlm.nih.gov)|165.112.9.229|:21... connected.\n",
            "Logging in as anonymous ... Logged in!\n",
            "==> SYST ... done.    ==> PWD ... done.\n",
            "==> TYPE I ... done.  ==> CWD (1) /genomes/all/GCF/000/003/225/GCF_000003225.4_ASM322v1 ... done.\n",
            "==> SIZE GCF_000003225.4_ASM322v1_genomic.fna.gz ... 2576951\n",
            "==> PASV ... done.    ==> RETR GCF_000003225.4_ASM322v1_genomic.fna.gz ... done.\n",
            "Length: 2576951 (2.5M) (unauthoritative)\n",
            "\n",
            "GCF_000003225.4_ASM 100%[===================>]   2.46M  3.22MB/s    in 0.8s    \n",
            "\n",
            "2022-06-14 13:50:37 (3.22 MB/s) - ‘GCF_000003225.4_ASM322v1_genomic.fna.gz’ saved [2576951]\n",
            "\n",
            "--2022-06-14 13:50:37--  ftp://ftp.ncbi.nlm.nih.gov/genomes/all/GCF/000/740/895/GCF_000740895.1_ASM74089v1/GCF_000740895.1_ASM74089v1_genomic.fna.gz\n",
            "           => ‘GCF_000740895.1_ASM74089v1_genomic.fna.gz’\n",
            "Resolving ftp.ncbi.nlm.nih.gov (ftp.ncbi.nlm.nih.gov)... 165.112.9.229, 165.112.9.230, 2607:f220:41e:250::11, ...\n",
            "Connecting to ftp.ncbi.nlm.nih.gov (ftp.ncbi.nlm.nih.gov)|165.112.9.229|:21... connected.\n",
            "Logging in as anonymous ... Logged in!\n",
            "==> SYST ... done.    ==> PWD ... done.\n",
            "==> TYPE I ... done.  ==> CWD (1) /genomes/all/GCF/000/740/895/GCF_000740895.1_ASM74089v1 ... done.\n",
            "==> SIZE GCF_000740895.1_ASM74089v1_genomic.fna.gz ... 2830446\n",
            "==> PASV ... done.    ==> RETR GCF_000740895.1_ASM74089v1_genomic.fna.gz ... done.\n",
            "Length: 2830446 (2.7M) (unauthoritative)\n",
            "\n",
            "GCF_000740895.1_ASM 100%[===================>]   2.70M  4.20MB/s    in 0.6s    \n",
            "\n",
            "2022-06-14 13:50:39 (4.20 MB/s) - ‘GCF_000740895.1_ASM74089v1_genomic.fna.gz’ saved [2830446]\n",
            "\n",
            "--2022-06-14 13:50:39--  ftp://ftp.ncbi.nlm.nih.gov/genomes/all/GCF/000/165/365/GCF_000165365.1_ASM16536v1/GCF_000165365.1_ASM16536v1_genomic.fna.gz\n",
            "           => ‘GCF_000165365.1_ASM16536v1_genomic.fna.gz’\n",
            "Resolving ftp.ncbi.nlm.nih.gov (ftp.ncbi.nlm.nih.gov)... 165.112.9.229, 165.112.9.230, 2607:f220:41e:250::11, ...\n",
            "Connecting to ftp.ncbi.nlm.nih.gov (ftp.ncbi.nlm.nih.gov)|165.112.9.229|:21... connected.\n",
            "Logging in as anonymous ... Logged in!\n",
            "==> SYST ... done.    ==> PWD ... done.\n",
            "==> TYPE I ... done.  ==> CWD (1) /genomes/all/GCF/000/165/365/GCF_000165365.1_ASM16536v1 ... done.\n",
            "==> SIZE GCF_000165365.1_ASM16536v1_genomic.fna.gz ... 2588853\n",
            "==> PASV ... done.    ==> RETR GCF_000165365.1_ASM16536v1_genomic.fna.gz ... done.\n",
            "Length: 2588853 (2.5M) (unauthoritative)\n",
            "\n",
            "GCF_000165365.1_ASM 100%[===================>]   2.47M  3.60MB/s    in 0.7s    \n",
            "\n",
            "2022-06-14 13:50:41 (3.60 MB/s) - ‘GCF_000165365.1_ASM16536v1_genomic.fna.gz’ saved [2588853]\n",
            "\n",
            "--2022-06-14 13:50:41--  ftp://ftp.ncbi.nlm.nih.gov/genomes/all/GCF/000/691/945/GCF_000691945.2_ASM69194v2/GCF_000691945.2_ASM69194v2_genomic.fna.gz\n",
            "           => ‘GCF_000691945.2_ASM69194v2_genomic.fna.gz’\n",
            "Resolving ftp.ncbi.nlm.nih.gov (ftp.ncbi.nlm.nih.gov)... 165.112.9.229, 165.112.9.230, 2607:f220:41e:250::11, ...\n",
            "Connecting to ftp.ncbi.nlm.nih.gov (ftp.ncbi.nlm.nih.gov)|165.112.9.229|:21... connected.\n",
            "Logging in as anonymous ... Logged in!\n",
            "==> SYST ... done.    ==> PWD ... done.\n",
            "==> TYPE I ... done.  ==> CWD (1) /genomes/all/GCF/000/691/945/GCF_000691945.2_ASM69194v2 ... done.\n",
            "==> SIZE GCF_000691945.2_ASM69194v2_genomic.fna.gz ... 2028215\n",
            "==> PASV ... done.    ==> RETR GCF_000691945.2_ASM69194v2_genomic.fna.gz ... done.\n",
            "Length: 2028215 (1.9M) (unauthoritative)\n",
            "\n",
            "GCF_000691945.2_ASM 100%[===================>]   1.93M  2.87MB/s    in 0.7s    \n",
            "\n",
            "2022-06-14 13:50:43 (2.87 MB/s) - ‘GCF_000691945.2_ASM69194v2_genomic.fna.gz’ saved [2028215]\n",
            "\n"
          ]
        }
      ]
    },
    {
      "cell_type": "markdown",
      "source": [
        "Распаковка\n",
        "\n"
      ],
      "metadata": {
        "id": "IR3cgG7sQJIS"
      }
    },
    {
      "cell_type": "code",
      "source": [
        "! gzip -d GCA*"
      ],
      "metadata": {
        "id": "MQfOumYZP3VD",
        "colab": {
          "base_uri": "https://localhost:8080/"
        },
        "outputId": "afbb599c-5121-4ef5-90cb-cc66d7f6d140"
      },
      "execution_count": 36,
      "outputs": [
        {
          "output_type": "stream",
          "name": "stdout",
          "text": [
            "gzip: GCA_000003225.1_ASM322v1_feature_table.txt: unknown suffix -- ignored\n",
            "gzip: GCA_000003225.1_ASM322v1_genomic.fna: unknown suffix -- ignored\n",
            "gzip: GCA_000165365.1_ASM16536v1_feature_table.txt: unknown suffix -- ignored\n",
            "gzip: GCA_000165365.1_ASM16536v1_genomic.fna: unknown suffix -- ignored\n",
            "gzip: GCA_000342415.1_JCVI-bewag-v1.1_feature_table.txt: unknown suffix -- ignored\n",
            "gzip: GCA_000342415.1_JCVI-bewag-v1.1_genomic.fna: unknown suffix -- ignored\n",
            "gzip: GCA_000691945.2_ASM69194v2_feature_table.txt: unknown suffix -- ignored\n",
            "gzip: GCA_000691945.2_ASM69194v2_genomic.fna: unknown suffix -- ignored\n",
            "gzip: GCA_000740895.1_ASM74089v1_feature_table.txt: unknown suffix -- ignored\n",
            "gzip: GCA_000740895.1_ASM74089v1_genomic.fna: unknown suffix -- ignored\n"
          ]
        }
      ]
    },
    {
      "cell_type": "code",
      "source": [
        "! gzip -d GCF*"
      ],
      "metadata": {
        "colab": {
          "base_uri": "https://localhost:8080/"
        },
        "id": "LCPsu2XbgNDn",
        "outputId": "aff9d693-0c57-4faa-daec-fb14b7765027"
      },
      "execution_count": 18,
      "outputs": [
        {
          "output_type": "stream",
          "name": "stdout",
          "text": [
            "gzip: GCF_000003225.4_ASM322v1_genomic.gtf: unknown suffix -- ignored\n",
            "gzip: GCF_000165365.1_ASM16536v1_genomic.gtf: unknown suffix -- ignored\n",
            "gzip: GCF_000342415.1_JCVI-bewag-v1.1_genomic.gtf: unknown suffix -- ignored\n",
            "gzip: GCF_000691945.2_ASM69194v2_genomic.gtf: unknown suffix -- ignored\n",
            "gzip: GCF_000740895.1_ASM74089v1_genomic.gtf: unknown suffix -- ignored\n"
          ]
        }
      ]
    },
    {
      "cell_type": "code",
      "source": [
        "! ls"
      ],
      "metadata": {
        "colab": {
          "base_uri": "https://localhost:8080/"
        },
        "id": "k6wQTrLlzsVE",
        "outputId": "aaf613d2-6818-42fe-a049-448e85bbe5b2"
      },
      "execution_count": 6,
      "outputs": [
        {
          "output_type": "stream",
          "name": "stdout",
          "text": [
            "GCA_000003225.1_ASM322v1_feature_table.txt\n",
            "GCA_000003225.1_ASM322v1_genomic.fna\n",
            "GCA_000165365.1_ASM16536v1_feature_table.txt\n",
            "GCA_000165365.1_ASM16536v1_genomic.fna\n",
            "GCA_000342415.1_JCVI-bewag-v1.1_feature_table.txt\n",
            "GCA_000342415.1_JCVI-bewag-v1.1_genomic.fna\n",
            "GCA_000691945.2_ASM69194v2_feature_table.txt\n",
            "GCA_000691945.2_ASM69194v2_genomic.fna\n",
            "GCA_000740895.1_ASM74089v1_feature_table.txt\n",
            "GCA_000740895.1_ASM74089v1_genomic.fna\n",
            "GCF_000003225.4_ASM322v1_genomic.gtf\n",
            "GCF_000165365.1_ASM16536v1_genomic.gtf\n",
            "GCF_000342415.1_JCVI-bewag-v1.1_genomic.gtf\n",
            "GCF_000691945.2_ASM69194v2_genomic.gtf\n",
            "GCF_000740895.1_ASM74089v1_genomic.gtf\n",
            "sample_data\n"
          ]
        }
      ]
    },
    {
      "cell_type": "code",
      "source": [
        "print('Количество аннотированных генов\\n\\n')\n",
        "\n",
        "print('Theileria annulata')\n",
        "! grep -c 'RefSeq\tgene' /content/GCF_000003225.4_ASM322v1_genomic.gtf\n",
        "\n",
        "print('Theileria parva strain Muguga')\n",
        "! grep -c 'RefSeq\tgene' /content/GCF_000165365.1_ASM16536v1_genomic.gtf\n",
        "\n",
        "print('Theileria equi strain WA')\n",
        "! grep -c 'RefSeq\tgene' /content/GCF_000342415.1_JCVI-bewag-v1.1_genomic.gtf\n",
        "\n",
        "print('Babesia microti strain RI')\n",
        "! grep -c 'RefSeq\tgene' /content/GCF_000691945.2_ASM69194v2_genomic.gtf\n",
        "\n",
        "print('Theileria orientalis strain Shintoku')\n",
        "! grep -c 'RefSeq\tgene' /content/GCF_000740895.1_ASM74089v1_genomic.gtf"
      ],
      "metadata": {
        "colab": {
          "base_uri": "https://localhost:8080/"
        },
        "outputId": "01e8b18c-e0ac-4beb-d6f6-0e65581de75c",
        "id": "_qixf7nHrcmS"
      },
      "execution_count": 1,
      "outputs": [
        {
          "output_type": "stream",
          "name": "stdout",
          "text": [
            "Количество аннотированных генов\n",
            "\n",
            "\n",
            "Theileria annulata\n",
            "3796\n",
            "Theileria parva strain Muguga\n",
            "4141\n",
            "Theileria equi strain WA\n",
            "5396\n",
            "Babesia microti strain RI\n",
            "3685\n",
            "Theileria orientalis strain Shintoku\n",
            "4058\n"
          ]
        }
      ]
    },
    {
      "cell_type": "code",
      "source": [
        "! wget ftp://ftp.ncbi.nlm.nih.gov/genomes/all/GCA/000/342/415/GCA_000342415.1_JCVI-bewag-v1.1/GCA_000342415.1_JCVI-bewag-v1.1_genomic.gtf.gz\n",
        "! wget ftp://ftp.ncbi.nlm.nih.gov/genomes/all/GCA/000/740/895/GCA_000740895.1_ASM74089v1/GCA_000740895.1_ASM74089v1_genomic.gtf.gz\n",
        "! wget ftp://ftp.ncbi.nlm.nih.gov/genomes/all/GCA/000/003/225/GCA_000003225.1_ASM322v1/GCA_000003225.1_ASM322v1_genomic.gtf.gz\n",
        "! wget ftp://ftp.ncbi.nlm.nih.gov/genomes/all/GCA/000/165/365/GCA_000165365.1_ASM16536v1/GCA_000165365.1_ASM16536v1_genomic.gtf.gz\n",
        "! wget ftp://ftp.ncbi.nlm.nih.gov/genomes/all/GCA/000/691/945/GCA_000691945.2_ASM69194v2/GCA_000691945.2_ASM69194v2_genomic.gtf.gz"
      ],
      "metadata": {
        "colab": {
          "base_uri": "https://localhost:8080/"
        },
        "id": "ekp2eHtKgr-U",
        "outputId": "f4e3d698-43e2-48ec-a0e6-1764ec5e0013"
      },
      "execution_count": 35,
      "outputs": [
        {
          "output_type": "stream",
          "name": "stdout",
          "text": [
            "--2022-06-14 11:47:54--  ftp://ftp.ncbi.nlm.nih.gov/genomes/all/GCA/000/342/415/GCA_000342415.1_JCVI-bewag-v1.1/GCA_000342415.1_JCVI-bewag-v1.1_genomic.gtf.gz\n",
            "           => ‘GCA_000342415.1_JCVI-bewag-v1.1_genomic.gtf.gz’\n",
            "Resolving ftp.ncbi.nlm.nih.gov (ftp.ncbi.nlm.nih.gov)... 130.14.250.13, 165.112.9.229, 2607:f220:41e:250::7, ...\n",
            "Connecting to ftp.ncbi.nlm.nih.gov (ftp.ncbi.nlm.nih.gov)|130.14.250.13|:21... connected.\n",
            "Logging in as anonymous ... Logged in!\n",
            "==> SYST ... done.    ==> PWD ... done.\n",
            "==> TYPE I ... done.  ==> CWD (1) /genomes/all/GCA/000/342/415/GCA_000342415.1_JCVI-bewag-v1.1 ... done.\n",
            "==> SIZE GCA_000342415.1_JCVI-bewag-v1.1_genomic.gtf.gz ... 649965\n",
            "==> PASV ... done.    ==> RETR GCA_000342415.1_JCVI-bewag-v1.1_genomic.gtf.gz ... done.\n",
            "Length: 649965 (635K) (unauthoritative)\n",
            "\n",
            "GCA_000342415.1_JCV 100%[===================>] 634.73K  1.30MB/s    in 0.5s    \n",
            "\n",
            "2022-06-14 11:47:56 (1.30 MB/s) - ‘GCA_000342415.1_JCVI-bewag-v1.1_genomic.gtf.gz’ saved [649965]\n",
            "\n",
            "--2022-06-14 11:47:56--  ftp://ftp.ncbi.nlm.nih.gov/genomes/all/GCA/000/740/895/GCA_000740895.1_ASM74089v1/GCA_000740895.1_ASM74089v1_genomic.gtf.gz\n",
            "           => ‘GCA_000740895.1_ASM74089v1_genomic.gtf.gz’\n",
            "Resolving ftp.ncbi.nlm.nih.gov (ftp.ncbi.nlm.nih.gov)... 130.14.250.13, 165.112.9.229, 2607:f220:41e:250::7, ...\n",
            "Connecting to ftp.ncbi.nlm.nih.gov (ftp.ncbi.nlm.nih.gov)|130.14.250.13|:21... connected.\n",
            "Logging in as anonymous ... Logged in!\n",
            "==> SYST ... done.    ==> PWD ... done.\n",
            "==> TYPE I ... done.  ==> CWD (1) /genomes/all/GCA/000/740/895/GCA_000740895.1_ASM74089v1 ... done.\n",
            "==> SIZE GCA_000740895.1_ASM74089v1_genomic.gtf.gz ... 430334\n",
            "==> PASV ... done.    ==> RETR GCA_000740895.1_ASM74089v1_genomic.gtf.gz ... done.\n",
            "Length: 430334 (420K) (unauthoritative)\n",
            "\n",
            "GCA_000740895.1_ASM 100%[===================>] 420.25K   878KB/s    in 0.5s    \n",
            "\n",
            "2022-06-14 11:47:58 (878 KB/s) - ‘GCA_000740895.1_ASM74089v1_genomic.gtf.gz’ saved [430334]\n",
            "\n",
            "--2022-06-14 11:47:58--  ftp://ftp.ncbi.nlm.nih.gov/genomes/all/GCA/000/003/225/GCA_000003225.1_ASM322v1/GCA_000003225.1_ASM322v1_genomic.gtf.gz\n",
            "           => ‘GCA_000003225.1_ASM322v1_genomic.gtf.gz’\n",
            "Resolving ftp.ncbi.nlm.nih.gov (ftp.ncbi.nlm.nih.gov)... 130.14.250.13, 165.112.9.229, 2607:f220:41e:250::7, ...\n",
            "Connecting to ftp.ncbi.nlm.nih.gov (ftp.ncbi.nlm.nih.gov)|130.14.250.13|:21... connected.\n",
            "Logging in as anonymous ... Logged in!\n",
            "==> SYST ... done.    ==> PWD ... done.\n",
            "==> TYPE I ... done.  ==> CWD (1) /genomes/all/GCA/000/003/225/GCA_000003225.1_ASM322v1 ... done.\n",
            "==> SIZE GCA_000003225.1_ASM322v1_genomic.gtf.gz ... 599010\n",
            "==> PASV ... done.    ==> RETR GCA_000003225.1_ASM322v1_genomic.gtf.gz ... done.\n",
            "Length: 599010 (585K) (unauthoritative)\n",
            "\n",
            "GCA_000003225.1_ASM 100%[===================>] 584.97K  1.16MB/s    in 0.5s    \n",
            "\n",
            "2022-06-14 11:48:00 (1.16 MB/s) - ‘GCA_000003225.1_ASM322v1_genomic.gtf.gz’ saved [599010]\n",
            "\n",
            "--2022-06-14 11:48:00--  ftp://ftp.ncbi.nlm.nih.gov/genomes/all/GCA/000/165/365/GCA_000165365.1_ASM16536v1/GCA_000165365.1_ASM16536v1_genomic.gtf.gz\n",
            "           => ‘GCA_000165365.1_ASM16536v1_genomic.gtf.gz’\n",
            "Resolving ftp.ncbi.nlm.nih.gov (ftp.ncbi.nlm.nih.gov)... 130.14.250.13, 165.112.9.229, 2607:f220:41e:250::7, ...\n",
            "Connecting to ftp.ncbi.nlm.nih.gov (ftp.ncbi.nlm.nih.gov)|130.14.250.13|:21... connected.\n",
            "Logging in as anonymous ... Logged in!\n",
            "==> SYST ... done.    ==> PWD ... done.\n",
            "==> TYPE I ... done.  ==> CWD (1) /genomes/all/GCA/000/165/365/GCA_000165365.1_ASM16536v1 ... done.\n",
            "==> SIZE GCA_000165365.1_ASM16536v1_genomic.gtf.gz ... 781463\n",
            "==> PASV ... done.    ==> RETR GCA_000165365.1_ASM16536v1_genomic.gtf.gz ... done.\n",
            "Length: 781463 (763K) (unauthoritative)\n",
            "\n",
            "GCA_000165365.1_ASM 100%[===================>] 763.15K  1.46MB/s    in 0.5s    \n",
            "\n",
            "2022-06-14 11:48:01 (1.46 MB/s) - ‘GCA_000165365.1_ASM16536v1_genomic.gtf.gz’ saved [781463]\n",
            "\n",
            "--2022-06-14 11:48:01--  ftp://ftp.ncbi.nlm.nih.gov/genomes/all/GCA/000/691/945/GCA_000691945.2_ASM69194v2/GCA_000691945.2_ASM69194v2_genomic.gtf.gz\n",
            "           => ‘GCA_000691945.2_ASM69194v2_genomic.gtf.gz’\n",
            "Resolving ftp.ncbi.nlm.nih.gov (ftp.ncbi.nlm.nih.gov)... 130.14.250.13, 165.112.9.229, 2607:f220:41e:250::7, ...\n",
            "Connecting to ftp.ncbi.nlm.nih.gov (ftp.ncbi.nlm.nih.gov)|130.14.250.13|:21... connected.\n",
            "Logging in as anonymous ... Logged in!\n",
            "==> SYST ... done.    ==> PWD ... done.\n",
            "==> TYPE I ... done.  ==> CWD (1) /genomes/all/GCA/000/691/945/GCA_000691945.2_ASM69194v2 ... done.\n",
            "==> SIZE GCA_000691945.2_ASM69194v2_genomic.gtf.gz ... 555149\n",
            "==> PASV ... done.    ==> RETR GCA_000691945.2_ASM69194v2_genomic.gtf.gz ... done.\n",
            "Length: 555149 (542K) (unauthoritative)\n",
            "\n",
            "GCA_000691945.2_ASM 100%[===================>] 542.14K  1.12MB/s    in 0.5s    \n",
            "\n",
            "2022-06-14 11:48:03 (1.12 MB/s) - ‘GCA_000691945.2_ASM69194v2_genomic.gtf.gz’ saved [555149]\n",
            "\n"
          ]
        }
      ]
    },
    {
      "cell_type": "markdown",
      "source": [
        "## Анилиз организмов"
      ],
      "metadata": {
        "id": "2XWh9Aea4Lq1"
      }
    },
    {
      "cell_type": "code",
      "source": [
        "print('Количество аннотированных генов\\n')\n",
        "\n",
        "print('Theileria equi strain WA')\n",
        "! grep -c 'GenBank\tgene' /content/GCF_000342415.1_JCVI-bewag-v1.1_genomic.gtf\n",
        "\n",
        "print('Theileria orientalis strain Shintoku')\n",
        "! grep -c 'GenBank\tgene' /content/GCF_000740895.1_ASM74089v1_genomic.gtf\n",
        "\n",
        "print('Theileria annulata')\n",
        "! grep -c 'GenBank\tgene' /content/GCF_000003225.4_ASM322v1_genomic.gtf\n",
        "\n",
        "print('Theileria parva strain Muguga')\n",
        "! grep -c 'GenBank\tgene' /content/GCF_000165365.1_ASM16536v1_genomic.gtf\n",
        "\n",
        "print('Babesia microti strain RI')\n",
        "! grep -c 'GenBank\tgene' /content/GCF_000691945.2_ASM69194v2_genomic.gtf"
      ],
      "metadata": {
        "colab": {
          "base_uri": "https://localhost:8080/"
        },
        "id": "U2vRVwdNULvD",
        "outputId": "e45fdd31-f058-4021-899a-d860aa5e26d5"
      },
      "execution_count": 38,
      "outputs": [
        {
          "output_type": "stream",
          "name": "stdout",
          "text": [
            "Количество аннотированных генов\n",
            "\n",
            "\n",
            "Theileria equi strain WA\n",
            "0\n",
            "Theileria orientalis strain Shintoku\n",
            "0\n",
            "Theileria annulata\n",
            "0\n",
            "Theileria parva strain Muguga\n",
            "0\n",
            "Babesia microti strain RI\n",
            "0\n"
          ]
        }
      ]
    },
    {
      "cell_type": "code",
      "source": [
        "#! ls"
      ],
      "metadata": {
        "colab": {
          "base_uri": "https://localhost:8080/"
        },
        "id": "euKeB9m9P717",
        "outputId": "ae3f3f73-dcc2-44b1-e85f-b0e4314ed9df"
      },
      "execution_count": null,
      "outputs": [
        {
          "output_type": "stream",
          "name": "stdout",
          "text": [
            "GCF_000025605.1_ASM2560v1_feature_table.txt\n",
            "GCF_000025605.1_ASM2560v1_genomic.fna\n",
            "GCF_000025605.1_ASM2560v1_genomic.gtf\n",
            "GCF_000512735.1_ASM51273v1_feature_table.txt\n",
            "GCF_000512735.1_ASM51273v1_genomic.fna\n",
            "GCF_000512735.1_ASM51273v1_genomic.gtf\n",
            "sample_data\n"
          ]
        }
      ]
    },
    {
      "cell_type": "code",
      "execution_count": 74,
      "metadata": {
        "id": "382soJYY4h-D"
      },
      "outputs": [],
      "source": [
        "def len_of_covered_seq(file_name):\n",
        "  file1 = open(file_name, \"r\")\n",
        "  sum1 = 0\n",
        "  while True:\n",
        "      line = file1.readline()\n",
        "      if not line:\n",
        "          break\n",
        "      if 'RefSeq\tgene' in line:\n",
        "        stop = int(line.strip().split('\\t')[4])\n",
        "        start = int(line.strip().split('\\t')[3])\n",
        "        sum1 += stop-start\n",
        "      if 'Genbank\tgene' in line:\n",
        "        stop = int(line.strip().split('\\t')[4])\n",
        "        start = int(line.strip().split('\\t')[3])\n",
        "        sum1 += stop-start\n",
        "  file1.close\n",
        "  return sum1"
      ]
    },
    {
      "cell_type": "code",
      "execution_count": 75,
      "metadata": {
        "colab": {
          "base_uri": "https://localhost:8080/"
        },
        "id": "O31KuY8a8rMk",
        "outputId": "554f459d-4074-4b75-f15e-bfb6c32f3b81"
      },
      "outputs": [
        {
          "output_type": "stream",
          "name": "stdout",
          "text": [
            "Суммарная длина покрытых участков \n",
            "\n",
            "Theileria equi strain WA:  8970853\n",
            "Theileria orientalis strain Shintoku:  7382582\n",
            "Theileria annulata:  6839256\n",
            "Theileria parva strain Muguga:  6847468\n",
            "Babesia microti strain RI:  5298199\n"
          ]
        }
      ],
      "source": [
        "print('Суммарная длина покрытых участков \\n')\n",
        "print('Theileria equi strain WA: ',len_of_covered_seq('/content/GCF_000342415.1_JCVI-bewag-v1.1_genomic.gtf'))\n",
        "print('Theileria orientalis strain Shintoku: ',len_of_covered_seq('/content/GCF_000740895.1_ASM74089v1_genomic.gtf'))\n",
        "print('Theileria annulata: ',len_of_covered_seq('/content/GCF_000003225.4_ASM322v1_genomic.gtf'))\n",
        "print('Theileria parva strain Muguga: ',len_of_covered_seq('/content/GCF_000165365.1_ASM16536v1_genomic.gtf'))\n",
        "print('Babesia microti strain RI: ',len_of_covered_seq('/content/GCF_000691945.2_ASM69194v2_genomic.gtf'))"
      ]
    },
    {
      "cell_type": "code",
      "source": [
        "file_ways=['/content/GCF_000342415.1_JCVI-bewag-v1.1_genomic.gtf',\n",
        "'/content/GCF_000740895.1_ASM74089v1_genomic.gtf',\n",
        "'/content/GCF_000003225.4_ASM322v1_genomic.gtf',\n",
        "'/content/GCF_000165365.1_ASM16536v1_genomic.gtf',\n",
        "'/content/GCF_000691945.2_ASM69194v2_genomic.gtf']"
      ],
      "metadata": {
        "id": "vHYRX87gIQT5"
      },
      "execution_count": 77,
      "outputs": []
    },
    {
      "cell_type": "code",
      "source": [
        "orgs=['Theileria equi strain WA','Theileria orientalis strain Shintoku','Theileria annulata','Theileria parva strain Muguga','Babesia microti strain RI']"
      ],
      "metadata": {
        "id": "66kJI9H0JI5W"
      },
      "execution_count": 78,
      "outputs": []
    },
    {
      "cell_type": "code",
      "source": [
        "def sum_len_of_seq(file_name):\n",
        "  file1 = open(file_name, \"r\")\n",
        "  sum = 0\n",
        "  while True:\n",
        "      line = file1.readline()\n",
        "      if not line:\n",
        "          break\n",
        "      if '>' not in line:\n",
        "        sum += len(line.strip())\n",
        "  file1.close\n",
        "  return sum"
      ],
      "metadata": {
        "id": "TbnHFgV0BlLt"
      },
      "execution_count": 76,
      "outputs": []
    },
    {
      "cell_type": "code",
      "source": [
        "for i in range(5):\n",
        "  print(f'Суммарная длина {orgs[i]} :',(sum_len_of_seq(file_ways[i])))"
      ],
      "metadata": {
        "colab": {
          "base_uri": "https://localhost:8080/"
        },
        "id": "m8EksK4027Hz",
        "outputId": "75000d57-d9c3-401f-a69e-73d8ea55b864"
      },
      "execution_count": 113,
      "outputs": [
        {
          "output_type": "stream",
          "name": "stdout",
          "text": [
            "Суммарная длина Theileria equi strain WA : 13722280\n",
            "Суммарная длина Theileria orientalis strain Shintoku : 12709127\n",
            "Суммарная длина Theileria annulata : 15341582\n",
            "Суммарная длина Theileria parva strain Muguga : 9426183\n",
            "Суммарная длина Babesia microti strain RI : 13148172\n"
          ]
        }
      ]
    },
    {
      "cell_type": "code",
      "source": [
        "for i in range(5):\n",
        "  print(f'Процент покрытия {orgs[i]} :',(len_of_covered_seq(file_ways[i])/sum_len_of_seq(file_ways[i]))*100)"
      ],
      "metadata": {
        "colab": {
          "base_uri": "https://localhost:8080/"
        },
        "id": "aIyvw80qHYFF",
        "outputId": "b6267c40-236a-4342-8138-57e56e561b8e"
      },
      "execution_count": 79,
      "outputs": [
        {
          "output_type": "stream",
          "name": "stdout",
          "text": [
            "Процент покрытия Theileria equi strain WA : 65.37436198649203\n",
            "Процент покрытия Theileria orientalis strain Shintoku : 58.08882073489391\n",
            "Процент покрытия Theileria annulata : 44.579861451055045\n",
            "Процент покрытия Theileria parva strain Muguga : 72.64306241455316\n",
            "Процент покрытия Babesia microti strain RI : 40.29608830794121\n"
          ]
        }
      ]
    },
    {
      "cell_type": "code",
      "source": [
        "def sum_of_covered_exons(file_name):\n",
        "  file1 = open(file_name, \"r\")\n",
        "  sum1 = 0\n",
        "  while True:\n",
        "      line = file1.readline()\n",
        "      if not line:\n",
        "          break\n",
        "      if 'RefSeq\texon' in line:\n",
        "        stop = int(line.strip().split('\\t')[4])\n",
        "        start = int(line.strip().split('\\t')[3])\n",
        "        sum1 += stop-start\n",
        "      if 'Genbank\texon' in line:\n",
        "        stop = int(line.strip().split('\\t')[4])\n",
        "        start = int(line.strip().split('\\t')[3])\n",
        "        sum1 += stop-start\n",
        "  file1.close\n",
        "  return sum1"
      ],
      "metadata": {
        "id": "-rNwPHi01M32"
      },
      "execution_count": 110,
      "outputs": []
    },
    {
      "cell_type": "code",
      "source": [
        "for i in range(5):\n",
        "  print(f'Процент покрытия экзонами {orgs[i]} :',(sum_of_covered_exons(file_ways[i])/sum_len_of_seq(file_ways[i]))*100)"
      ],
      "metadata": {
        "colab": {
          "base_uri": "https://localhost:8080/"
        },
        "id": "SMaKcibv1Ntf",
        "outputId": "714f189b-845e-48f5-b887-b92866ac17c7"
      },
      "execution_count": 112,
      "outputs": [
        {
          "output_type": "stream",
          "name": "stdout",
          "text": [
            "Процент покрытия экзонами Theileria equi strain WA : 58.95432100204923\n",
            "Процент покрытия экзонами Theileria orientalis strain Shintoku : 48.49774496706186\n",
            "Процент покрытия экзонами Theileria annulata : 39.63916498311582\n",
            "Процент покрытия экзонами Theileria parva strain Muguga : 62.079412207465104\n",
            "Процент покрытия экзонами Babesia microti strain RI : 36.295988522206734\n"
          ]
        }
      ]
    },
    {
      "cell_type": "code",
      "source": [
        "def cord_genes(file_name):\n",
        "  genes = {}\n",
        "  file1 = open(file_name, \"r\")\n",
        "  sum = 0\n",
        "  while True:\n",
        "      line = file1.readline()\n",
        "      if not line:\n",
        "          break\n",
        "      if ('RefSeq\tgene' in line) or ('Genbank\tgene' in line):\n",
        "        stop = int(line.strip().split('\\t')[4])\n",
        "        start = int(line.strip().split('\\t')[3])\n",
        "        gene_id = ((line.strip().split('gene_id')[1]).split(';')[0]).replace('\\\"', '').replace(' ', '')\n",
        "        genes[gene_id] = [start, stop]\n",
        "      \n",
        "  file1.close\n",
        "  return genes"
      ],
      "metadata": {
        "id": "vC-0b9KQKyiV"
      },
      "execution_count": 80,
      "outputs": []
    },
    {
      "cell_type": "code",
      "source": [
        "JCVI_bewag_v1=cord_genes('/content/GCF_000342415.1_JCVI-bewag-v1.1_genomic.gtf')\n",
        "ASM74089v1=cord_genes('/content/GCF_000740895.1_ASM74089v1_genomic.gtf')\n",
        "ASM322v1=cord_genes('/content/GCF_000003225.4_ASM322v1_genomic.gtf')\n",
        "ASM16536v1=cord_genes('/content/GCF_000165365.1_ASM16536v1_genomic.gtf')\n",
        "ASM69194v2=cord_genes('/content/GCF_000691945.2_ASM69194v2_genomic.gtf')"
      ],
      "metadata": {
        "id": "akY4i1PwLI-0"
      },
      "execution_count": 81,
      "outputs": []
    },
    {
      "cell_type": "markdown",
      "source": [
        "## ZHUNT"
      ],
      "metadata": {
        "id": "83B-Z-yWwotk"
      }
    },
    {
      "cell_type": "markdown",
      "source": [
        "ZHUNT"
      ],
      "metadata": {
        "id": "8BnHg5SAQZbH"
      }
    },
    {
      "cell_type": "code",
      "source": [
        "!pip3 install bio"
      ],
      "metadata": {
        "colab": {
          "base_uri": "https://localhost:8080/",
          "height": 450
        },
        "id": "QiwLrDM0QbBv",
        "outputId": "33c92fa5-37db-4cb8-e523-e68f4c631cd0"
      },
      "execution_count": 82,
      "outputs": [
        {
          "output_type": "stream",
          "name": "stdout",
          "text": [
            "Looking in indexes: https://pypi.org/simple, https://us-python.pkg.dev/colab-wheels/public/simple/\n",
            "Collecting bio\n",
            "  Using cached bio-1.3.9-py3-none-any.whl (270 kB)\n",
            "Requirement already satisfied: tqdm in /usr/local/lib/python3.7/site-packages (from bio) (4.59.0)\n",
            "Requirement already satisfied: requests in /usr/local/lib/python3.7/site-packages (from bio) (2.25.1)\n",
            "Collecting mygene\n",
            "  Using cached mygene-3.2.2-py2.py3-none-any.whl (5.4 kB)\n",
            "Collecting biopython>=1.79\n",
            "  Using cached biopython-1.79-cp37-cp37m-manylinux_2_5_x86_64.manylinux1_x86_64.whl (2.3 MB)\n",
            "Collecting numpy\n",
            "  Downloading numpy-1.21.6-cp37-cp37m-manylinux_2_12_x86_64.manylinux2010_x86_64.whl (15.7 MB)\n",
            "\u001b[K     |████████████████████████████████| 15.7 MB 11.7 MB/s \n",
            "\u001b[?25hCollecting biothings-client>=0.2.6\n",
            "  Using cached biothings_client-0.2.6-py2.py3-none-any.whl (37 kB)\n",
            "Requirement already satisfied: urllib3<1.27,>=1.21.1 in /usr/local/lib/python3.7/site-packages (from requests->bio) (1.26.3)\n",
            "Requirement already satisfied: certifi>=2017.4.17 in /usr/local/lib/python3.7/site-packages (from requests->bio) (2022.5.18.1)\n",
            "Requirement already satisfied: idna<3,>=2.5 in /usr/local/lib/python3.7/site-packages (from requests->bio) (2.10)\n",
            "Requirement already satisfied: chardet<5,>=3.0.2 in /usr/local/lib/python3.7/site-packages (from requests->bio) (4.0.0)\n",
            "Installing collected packages: numpy, biothings-client, mygene, biopython, bio\n",
            "Successfully installed bio-1.3.9 biopython-1.79 biothings-client-0.2.6 mygene-3.2.2 numpy-1.21.6\n"
          ]
        },
        {
          "output_type": "display_data",
          "data": {
            "application/vnd.colab-display-data+json": {
              "pip_warning": {
                "packages": [
                  "Bio",
                  "numpy"
                ]
              }
            }
          },
          "metadata": {}
        }
      ]
    },
    {
      "cell_type": "code",
      "source": [
        "!wget https://raw.githubusercontent.com/vanya-antonov/hse22-project/main/zhunt3-alan.c"
      ],
      "metadata": {
        "colab": {
          "base_uri": "https://localhost:8080/"
        },
        "id": "j_yyblOFQe-b",
        "outputId": "5655d907-de58-4ce8-a669-2c2946ce2ccd"
      },
      "execution_count": 83,
      "outputs": [
        {
          "output_type": "stream",
          "name": "stdout",
          "text": [
            "--2022-06-14 17:13:41--  https://raw.githubusercontent.com/vanya-antonov/hse22-project/main/zhunt3-alan.c\n",
            "Resolving raw.githubusercontent.com (raw.githubusercontent.com)... 185.199.110.133, 185.199.111.133, 185.199.109.133, ...\n",
            "Connecting to raw.githubusercontent.com (raw.githubusercontent.com)|185.199.110.133|:443... connected.\n",
            "HTTP request sent, awaiting response... 200 OK\n",
            "Length: 23973 (23K) [text/plain]\n",
            "Saving to: ‘zhunt3-alan.c.1’\n",
            "\n",
            "zhunt3-alan.c.1     100%[===================>]  23.41K  --.-KB/s    in 0s      \n",
            "\n",
            "2022-06-14 17:13:42 (93.4 MB/s) - ‘zhunt3-alan.c.1’ saved [23973/23973]\n",
            "\n"
          ]
        }
      ]
    },
    {
      "cell_type": "code",
      "source": [
        "!gcc zhunt3-alan.c -lm -o zhunt3"
      ],
      "metadata": {
        "colab": {
          "base_uri": "https://localhost:8080/"
        },
        "id": "Xepc_2dOQuLf",
        "outputId": "f2bf6263-fadb-4553-9057-e5657400b157"
      },
      "execution_count": 84,
      "outputs": [
        {
          "output_type": "stream",
          "name": "stdout",
          "text": [
            "\u001b[01m\u001b[Kzhunt3-alan.c:\u001b[m\u001b[K In function ‘\u001b[01m\u001b[Kuser_regret\u001b[m\u001b[K’:\n",
            "\u001b[01m\u001b[Kzhunt3-alan.c:336:9:\u001b[m\u001b[K \u001b[01;35m\u001b[Kwarning: \u001b[m\u001b[Kimplicit declaration of function ‘\u001b[01m\u001b[Kgets\u001b[m\u001b[K’; did you mean ‘\u001b[01m\u001b[Kfgets\u001b[m\u001b[K’? [\u001b[01;35m\u001b[K-Wimplicit-function-declaration\u001b[m\u001b[K]\n",
            "         \u001b[01;35m\u001b[Kgets\u001b[m\u001b[K(tempstr);\n",
            "         \u001b[01;35m\u001b[K^~~~\u001b[m\u001b[K\n",
            "         \u001b[32m\u001b[Kfgets\u001b[m\u001b[K\n",
            "/tmp/ccbiR63h.o: In function `user_regret':\n",
            "zhunt3-alan.c:(.text+0xba6): warning: the `gets' function is dangerous and should not be used.\n"
          ]
        }
      ]
    },
    {
      "cell_type": "code",
      "source": [
        "import os\n",
        "import subprocess\n",
        "import tempfile\n",
        "from pathlib import Path\n",
        "from subprocess import DEVNULL, PIPE\n",
        "\n",
        "import pandas as pd\n",
        "\n",
        "ZH_EXECUTABLE = Path(\"/content/zhunt3\")\n",
        "assert ZH_EXECUTABLE.is_file()\n",
        "\n",
        "\n",
        "def zhunt(query: str, windowsize: int = 6, minsize: int = 3, maxsize: int = 6):\n",
        "    assert set(query).issubset({\"A\", \"C\", \"G\", \"T\", \"N\"})\n",
        "    fd, temp = tempfile.mkstemp()\n",
        "    os.close(fd)\n",
        "    with open(temp, 'w') as stream:\n",
        "        stream.write(query)\n",
        "\n",
        "    subprocess.run(\n",
        "        [ZH_EXECUTABLE, \n",
        "         str(windowsize), str(minsize), str(maxsize), temp],\n",
        "        check=True, stdout=PIPE, stderr=DEVNULL,\n",
        "        input=query, encoding='ascii'\n",
        "    )\n",
        "    with open(temp + \".Z-SCORE\", 'r') as stream:\n",
        "        df = pd.read_csv(stream,\n",
        "                         names=['Start', 'End', 'nu-1', 'nu-2', 'nu-3', \n",
        "                                'ZH-Score', 'Sequence', 'Conformation'],\n",
        "                         skiprows=1, sep='\\s+')\n",
        "    os.remove(temp)\n",
        "    os.remove(temp + \".Z-SCORE\")\n",
        "    return df[['Start', 'End', 'ZH-Score', 'Sequence', 'Conformation']]"
      ],
      "metadata": {
        "id": "8BLQZr3SQup4"
      },
      "execution_count": 85,
      "outputs": []
    },
    {
      "cell_type": "code",
      "source": [
        "from Bio import SeqIO\n",
        "\n",
        "with open('/content/GCF_000342415.1_JCVI-bewag-v1.1_genomic.fna', 'r') as stream:\n",
        "  sequences1 = list(SeqIO.parse(stream, format='fasta'))\n",
        "\n",
        "for s in sequences1:\n",
        "  print(f\"{s.description} \\n\\t=> {len(s)}\")"
      ],
      "metadata": {
        "colab": {
          "base_uri": "https://localhost:8080/"
        },
        "id": "sMpwkCL6Q19W",
        "outputId": "a7121cac-6ba3-49c8-a62c-f28e22ed134c"
      },
      "execution_count": 86,
      "outputs": [
        {
          "output_type": "stream",
          "name": "stdout",
          "text": [
            "NC_021366.1 Theileria equi strain WA chromosome 1, complete sequence \n",
            "\t=> 3677484\n",
            "NW_004668230.1 Theileria equi strain WA chromosome 2 map unlocalized gcontig_1105316255037, whole genome shotgun sequence \n",
            "\t=> 2060349\n",
            "NW_004668231.1 Theileria equi strain WA chromosome 2 map unlocalized gcontig_1105316255051, whole genome shotgun sequence \n",
            "\t=> 60459\n",
            "NC_021367.1 Theileria equi strain WA chromosome 3, complete sequence \n",
            "\t=> 2338319\n",
            "NW_004668224.1 Theileria equi strain WA chromosome 4 map unlocalized gcontig_1105471998858, whole genome shotgun sequence \n",
            "\t=> 206413\n",
            "NW_004668225.1 Theileria equi strain WA chromosome 4 map unlocalized gcontig_1105316255041, whole genome shotgun sequence \n",
            "\t=> 1422470\n",
            "NW_004668226.1 Theileria equi strain WA chromosome 4 map unlocalized gcontig_1105316255053, whole genome shotgun sequence \n",
            "\t=> 16731\n",
            "NW_004668227.1 Theileria equi strain WA chromosome 4 map unlocalized gcontig_1105316255045, whole genome shotgun sequence \n",
            "\t=> 12434\n",
            "NW_004668228.1 Theileria equi strain WA chromosome 4 map unlocalized gcontig_1105316255033, whole genome shotgun sequence \n",
            "\t=> 1020687\n",
            "NW_004668229.1 Theileria equi strain WA chromosome 4 map unlocalized gcontig_1105316255039, whole genome shotgun sequence \n",
            "\t=> 802252\n",
            "NW_004675959.1 Theileria equi strain WA gcontig_1105316255035 mitochondrial, whole genome shotgun sequence \n",
            "\t=> 9001\n",
            "NW_004675960.1 Theileria equi strain WA gcontig_1105316255047 apicoplast, whole genome shotgun sequence \n",
            "\t=> 47880\n"
          ]
        }
      ]
    },
    {
      "cell_type": "markdown",
      "source": [
        "Ячейка ниже не работает ни с GCF, ни с GCA."
      ],
      "metadata": {
        "id": "MO4vuv70xfJ0"
      }
    },
    {
      "cell_type": "code",
      "source": [
        "Theileria_equi_strain_WA = pd.DataFrame()\n",
        "for i in range(len(sequences1)):\n",
        "  if Theileria_equi_strain_WA.shape==(0,0):\n",
        "    seq = sequences1[i].upper()\n",
        "    Theileria_equi_strain_WA = zhunt(str(seq.seq))\n",
        "    Theileria_equi_strain_WA = Theileria_equi_strain_WA[Theileria_equi_strain_WA['ZH-Score']>=500]\n",
        "  else:\n",
        "    seq = sequences1[i].upper()\n",
        "    Theileria_equi_strain_WA_addition = zhunt(str(seq.seq))\n",
        "    Theileria_equi_strain_WA_addition = Theileria_equi_strain_WA_addition[Theileria_equi_strain_WA_addition['ZH-Score']>=500]\n",
        "    Theileria_equi_strain_WA = Theileria_equi_strain_WA.append(Theileria_equi_strain_WA_addition)"
      ],
      "metadata": {
        "colab": {
          "base_uri": "https://localhost:8080/",
          "height": 356
        },
        "id": "P6eIGu0xfIzb",
        "outputId": "01c1fb3e-bab7-4ad9-8264-f0d5cb543e72"
      },
      "execution_count": 17,
      "outputs": [
        {
          "output_type": "error",
          "ename": "AssertionError",
          "evalue": "ignored",
          "traceback": [
            "\u001b[0;31m---------------------------------------------------------------------------\u001b[0m",
            "\u001b[0;31mAssertionError\u001b[0m                            Traceback (most recent call last)",
            "\u001b[0;32m<ipython-input-17-b98028497a16>\u001b[0m in \u001b[0;36m<module>\u001b[0;34m()\u001b[0m\n\u001b[1;32m      3\u001b[0m   \u001b[0;32mif\u001b[0m \u001b[0mTheileria_equi_strain_WA\u001b[0m\u001b[0;34m.\u001b[0m\u001b[0mshape\u001b[0m\u001b[0;34m==\u001b[0m\u001b[0;34m(\u001b[0m\u001b[0;36m0\u001b[0m\u001b[0;34m,\u001b[0m\u001b[0;36m0\u001b[0m\u001b[0;34m)\u001b[0m\u001b[0;34m:\u001b[0m\u001b[0;34m\u001b[0m\u001b[0;34m\u001b[0m\u001b[0m\n\u001b[1;32m      4\u001b[0m     \u001b[0mseq\u001b[0m \u001b[0;34m=\u001b[0m \u001b[0msequences1\u001b[0m\u001b[0;34m[\u001b[0m\u001b[0mi\u001b[0m\u001b[0;34m]\u001b[0m\u001b[0;34m.\u001b[0m\u001b[0mupper\u001b[0m\u001b[0;34m(\u001b[0m\u001b[0;34m)\u001b[0m\u001b[0;34m\u001b[0m\u001b[0;34m\u001b[0m\u001b[0m\n\u001b[0;32m----> 5\u001b[0;31m     \u001b[0mTheileria_equi_strain_WA\u001b[0m \u001b[0;34m=\u001b[0m \u001b[0mzhunt\u001b[0m\u001b[0;34m(\u001b[0m\u001b[0mstr\u001b[0m\u001b[0;34m(\u001b[0m\u001b[0mseq\u001b[0m\u001b[0;34m.\u001b[0m\u001b[0mseq\u001b[0m\u001b[0;34m)\u001b[0m\u001b[0;34m)\u001b[0m\u001b[0;34m\u001b[0m\u001b[0;34m\u001b[0m\u001b[0m\n\u001b[0m\u001b[1;32m      6\u001b[0m     \u001b[0mTheileria_equi_strain_WA\u001b[0m \u001b[0;34m=\u001b[0m \u001b[0mTheileria_equi_strain_WA\u001b[0m\u001b[0;34m[\u001b[0m\u001b[0mTheileria_equi_strain_WA\u001b[0m\u001b[0;34m[\u001b[0m\u001b[0;34m'ZH-Score'\u001b[0m\u001b[0;34m]\u001b[0m\u001b[0;34m>=\u001b[0m\u001b[0;36m500\u001b[0m\u001b[0;34m]\u001b[0m\u001b[0;34m\u001b[0m\u001b[0;34m\u001b[0m\u001b[0m\n\u001b[1;32m      7\u001b[0m   \u001b[0;32melse\u001b[0m\u001b[0;34m:\u001b[0m\u001b[0;34m\u001b[0m\u001b[0;34m\u001b[0m\u001b[0m\n",
            "\u001b[0;32m<ipython-input-15-0fca12c96dc2>\u001b[0m in \u001b[0;36mzhunt\u001b[0;34m(query, windowsize, minsize, maxsize)\u001b[0m\n\u001b[1;32m     12\u001b[0m \u001b[0;34m\u001b[0m\u001b[0m\n\u001b[1;32m     13\u001b[0m \u001b[0;32mdef\u001b[0m \u001b[0mzhunt\u001b[0m\u001b[0;34m(\u001b[0m\u001b[0mquery\u001b[0m\u001b[0;34m:\u001b[0m \u001b[0mstr\u001b[0m\u001b[0;34m,\u001b[0m \u001b[0mwindowsize\u001b[0m\u001b[0;34m:\u001b[0m \u001b[0mint\u001b[0m \u001b[0;34m=\u001b[0m \u001b[0;36m6\u001b[0m\u001b[0;34m,\u001b[0m \u001b[0mminsize\u001b[0m\u001b[0;34m:\u001b[0m \u001b[0mint\u001b[0m \u001b[0;34m=\u001b[0m \u001b[0;36m3\u001b[0m\u001b[0;34m,\u001b[0m \u001b[0mmaxsize\u001b[0m\u001b[0;34m:\u001b[0m \u001b[0mint\u001b[0m \u001b[0;34m=\u001b[0m \u001b[0;36m6\u001b[0m\u001b[0;34m)\u001b[0m\u001b[0;34m:\u001b[0m\u001b[0;34m\u001b[0m\u001b[0;34m\u001b[0m\u001b[0m\n\u001b[0;32m---> 14\u001b[0;31m     \u001b[0;32massert\u001b[0m \u001b[0mset\u001b[0m\u001b[0;34m(\u001b[0m\u001b[0mquery\u001b[0m\u001b[0;34m)\u001b[0m\u001b[0;34m.\u001b[0m\u001b[0missubset\u001b[0m\u001b[0;34m(\u001b[0m\u001b[0;34m{\u001b[0m\u001b[0;34m\"A\"\u001b[0m\u001b[0;34m,\u001b[0m \u001b[0;34m\"C\"\u001b[0m\u001b[0;34m,\u001b[0m \u001b[0;34m\"G\"\u001b[0m\u001b[0;34m,\u001b[0m \u001b[0;34m\"T\"\u001b[0m\u001b[0;34m,\u001b[0m \u001b[0;34m\"N\"\u001b[0m\u001b[0;34m}\u001b[0m\u001b[0;34m)\u001b[0m\u001b[0;34m\u001b[0m\u001b[0;34m\u001b[0m\u001b[0m\n\u001b[0m\u001b[1;32m     15\u001b[0m     \u001b[0mfd\u001b[0m\u001b[0;34m,\u001b[0m \u001b[0mtemp\u001b[0m \u001b[0;34m=\u001b[0m \u001b[0mtempfile\u001b[0m\u001b[0;34m.\u001b[0m\u001b[0mmkstemp\u001b[0m\u001b[0;34m(\u001b[0m\u001b[0;34m)\u001b[0m\u001b[0;34m\u001b[0m\u001b[0;34m\u001b[0m\u001b[0m\n\u001b[1;32m     16\u001b[0m     \u001b[0mos\u001b[0m\u001b[0;34m.\u001b[0m\u001b[0mclose\u001b[0m\u001b[0;34m(\u001b[0m\u001b[0mfd\u001b[0m\u001b[0;34m)\u001b[0m\u001b[0;34m\u001b[0m\u001b[0;34m\u001b[0m\u001b[0m\n",
            "\u001b[0;31mAssertionError\u001b[0m: "
          ]
        }
      ]
    },
    {
      "cell_type": "code",
      "source": [
        "with open('/content/GCA_000740895.1_ASM74089v1_genomic.fna', 'r') as stream:\n",
        "  sequences2 = list(SeqIO.parse(stream, format='fasta'))\n",
        "\n",
        "for s in sequences2:\n",
        "  print(f\"{s.description} \\n\\t=> {len(s)}\")"
      ],
      "metadata": {
        "colab": {
          "base_uri": "https://localhost:8080/"
        },
        "id": "7l6RYjkrBtbd",
        "outputId": "227474d5-a06b-405e-ed7d-af4db41deb25"
      },
      "execution_count": 18,
      "outputs": [
        {
          "output_type": "stream",
          "name": "stdout",
          "text": [
            "AP011946.1 Theileria orientalis strain Shintoku DNA, chromosome 1, complete genome \n",
            "\t=> 2746313\n",
            "AP011947.1 Theileria orientalis strain Shintoku DNA, chromosome 2, complete genome \n",
            "\t=> 2216979\n",
            "AP011948.1 Theileria orientalis strain Shintoku DNA, chromosome 3, complete genome \n",
            "\t=> 2000793\n",
            "AP011949.1 Theileria orientalis strain Shintoku DNA, chromosome 4, complete genome \n",
            "\t=> 2019511\n",
            "AP011951.1 Theileria orientalis strain Shintoku mitochondrial DNA, partial genome \n",
            "\t=> 2595\n",
            "AP011950.1 Theileria orientalis strain Shintoku apicoplast DNA, partial genome \n",
            "\t=> 24173\n"
          ]
        }
      ]
    },
    {
      "cell_type": "code",
      "source": [
        "Theileria_orientalis_strain_Shintoku = pd.DataFrame()\n",
        "for i in range(len(sequences2)):\n",
        "  if Theileria_orientalis_strain_Shintoku.shape==(0,0):\n",
        "    seq = sequences2[i].upper()\n",
        "    Theileria_orientalis_strain_Shintoku = zhunt(str(seq.seq))\n",
        "    Theileria_orientalis_strain_Shintoku = Theileria_orientalis_strain_Shintoku[Theileria_orientalis_strain_Shintoku['ZH-Score']>=500]\n",
        "  else:\n",
        "    seq = sequences2[i].upper()\n",
        "    Theileria_orientalis_strain_Shintoku_addition = zhunt(str(seq.seq))\n",
        "    Theileria_orientalis_strain_Shintoku_addition = Theileria_orientalis_strain_Shintoku_addition[Theileria_orientalis_strain_Shintoku_addition['ZH-Score']>=500]\n",
        "    Theileria_orientalis_strain_Shintoku = Theileria_orientalis_strain_Shintoku.append(Theileria_orientalis_strain_Shintoku_addition)"
      ],
      "metadata": {
        "id": "E-wAKeRDoWWz"
      },
      "execution_count": 19,
      "outputs": []
    },
    {
      "cell_type": "code",
      "source": [
        "with open('/content/GCA_000003225.1_ASM322v1_genomic.fna', 'r') as stream:\n",
        "  sequences3 = list(SeqIO.parse(stream, format='fasta'))\n",
        "\n",
        "for s in sequences3:\n",
        "  print(f\"{s.description} \\n\\t=> {len(s)}\")"
      ],
      "metadata": {
        "colab": {
          "base_uri": "https://localhost:8080/"
        },
        "id": "929gwk1FBthg",
        "outputId": "28daf279-e9f1-4526-c48f-73250a0259f1"
      },
      "execution_count": 20,
      "outputs": [
        {
          "output_type": "stream",
          "name": "stdout",
          "text": [
            "CR940347.1 Theileria annulata strain Ankara isolate clone C9, *** SEQUENCING IN PROGRESS *** \n",
            "\t=> 2592520\n",
            "CR940349.1 Theileria annulata strain Ankara isolate clone C9, *** SEQUENCING IN PROGRESS *** \n",
            "\t=> 15378\n",
            "CR940350.1 Theileria annulata strain Ankara isolate clone C9, *** SEQUENCING IN PROGRESS *** \n",
            "\t=> 11011\n",
            "CR940351.1 Theileria annulata strain Ankara isolate clone C9, *** SEQUENCING IN PROGRESS *** \n",
            "\t=> 12928\n",
            "CR940348.1 Theileria annulata strain Ankara isolate clone C9, *** SEQUENCING IN PROGRESS *** \n",
            "\t=> 1979170\n",
            "CR940352.2 Theileria annulata strain Ankara isolate clone C9, *** SEQUENCING IN PROGRESS ***, 3 ordered pieces \n",
            "\t=> 1898942\n",
            "CR940353.1 Theileria annulata strain Ankara isolate clone C9, *** SEQUENCING IN PROGRESS *** \n",
            "\t=> 1842271\n",
            "CR940346.1 Theileria annulata strain Ankara isolate clone C9 mitochondrion, *** SEQUENCING IN PROGRESS *** \n",
            "\t=> 5905\n"
          ]
        }
      ]
    },
    {
      "cell_type": "code",
      "source": [
        "Theileria_annulata = pd.DataFrame()\n",
        "for i in range(len(sequences3)):\n",
        "  if Theileria_annulata.shape==(0,0):\n",
        "    seq = sequences3[i].upper()\n",
        "    Theileria_annulata = zhunt(str(seq.seq))\n",
        "    Theileria_annulata = Theileria_annulata[Theileria_annulata['ZH-Score']>=500]\n",
        "  else:\n",
        "    seq = sequences3[i].upper()\n",
        "    Theileria_annulata_addition = zhunt(str(seq.seq))\n",
        "    Theileria_annulata_addition = Theileria_annulata_addition[Theileria_annulata_addition['ZH-Score']>=500]\n",
        "    Theileria_annulata = Theileria_annulata.append(Theileria_annulata_addition)"
      ],
      "metadata": {
        "id": "xb0b66vloZ_O"
      },
      "execution_count": 21,
      "outputs": []
    },
    {
      "cell_type": "code",
      "source": [
        "with open('/content/GCF_000165365.1_ASM16536v1_genomic.fna', 'r') as stream:\n",
        "  sequences4 = list(SeqIO.parse(stream, format='fasta'))\n",
        "\n",
        "for s in sequences4:\n",
        "  print(f\"{s.description} \\n\\t=> {len(s)}\")"
      ],
      "metadata": {
        "id": "aOrHekeTM_g1"
      },
      "execution_count": null,
      "outputs": []
    },
    {
      "cell_type": "markdown",
      "source": [
        "Ячейка ниже не работает ни с GCF, ни с GCA."
      ],
      "metadata": {
        "id": "Fd0JP2h_Abcv"
      }
    },
    {
      "cell_type": "code",
      "source": [
        "Theileria_parva_strain_Muguga = pd.DataFrame()\n",
        "for i in range(len(sequences4)):\n",
        "  if Theileria_parva_strain_Muguga.shape==(0,0):\n",
        "    seq = sequences4[i].upper()\n",
        "    Theileria_parva_strain_Muguga = zhunt(str(seq.seq))\n",
        "    Theileria_parva_strain_Muguga = Theileria_parva_strain_Muguga[Theileria_parva_strain_Muguga['ZH-Score']>=500]\n",
        "  else:\n",
        "    seq = sequences4[i].upper()\n",
        "    Theileria_parva_strain_Muguga_addition = zhunt(str(seq.seq))\n",
        "    Theileria_parva_strain_Muguga_addition = Theileria_parva_strain_Muguga_addition[Theileria_parva_strain_Muguga_addition['ZH-Score']>=500]\n",
        "    Theileria_parva_strain_Muguga = Theileria_parva_strain_Muguga.append(Theileria_parva_strain_Muguga_addition)"
      ],
      "metadata": {
        "id": "7sjEmgrdM93m"
      },
      "execution_count": null,
      "outputs": []
    },
    {
      "cell_type": "code",
      "source": [
        "with open('/content/GCA_000691945.2_ASM69194v2_genomic.fna', 'r') as stream:\n",
        "  sequences5 = list(SeqIO.parse(stream, format='fasta'))\n",
        "\n",
        "for s in sequences5:\n",
        "  print(f\"{s.description} \\n\\t=> {len(s)}\")"
      ],
      "metadata": {
        "colab": {
          "base_uri": "https://localhost:8080/"
        },
        "id": "2WmSW2oqneWy",
        "outputId": "f589bced-ceda-4092-deca-839b7fc2d806"
      },
      "execution_count": 27,
      "outputs": [
        {
          "output_type": "stream",
          "name": "stdout",
          "text": [
            "FO082871.1 Babesia microti strain RI chromosome I, complete genome \n",
            "\t=> 1304281\n",
            "FO082872.1 Babesia microti strain RI chromosome II, complete genome \n",
            "\t=> 1508385\n",
            "LN871598.1 Babesia microti strain RI chromosome III, complete genome \n",
            "\t=> 1766409\n",
            "LN871599.1 Babesia microti strain RI chromosome IV, complete genome \n",
            "\t=> 1816206\n",
            "LN871602.1 Babesia microti strain RI mitochondrion, isoform 3 complete genome \n",
            "\t=> 10547\n",
            "LN871600.2 Babesia microti strain RI mitochondria, complete genome \n",
            "\t=> 11149\n",
            "LN871601.1 Babesia microti strain RI mitochondrion, isoform 2 complete genome \n",
            "\t=> 10547\n",
            "LN871603.1 Babesia microti strain RI mitochondrion, isoform 4 complete genome \n",
            "\t=> 10547\n",
            "LK028575.1 Babesia microti strain RI apicoplast complete genome \n",
            "\t=> 28657\n"
          ]
        }
      ]
    },
    {
      "cell_type": "code",
      "source": [
        "Babesia_microti_strain_RI = pd.DataFrame()\n",
        "for i in range(len(sequences5)):\n",
        "  if Babesia_microti_strain_RI.shape==(0,0):\n",
        "    seq = sequences5[i].upper()\n",
        "    Babesia_microti_strain_RI = zhunt(str(seq.seq))\n",
        "    Babesia_microti_strain_RI = Babesia_microti_strain_RI[Babesia_microti_strain_RI['ZH-Score']>=500]\n",
        "  else:\n",
        "    seq = sequences5[i].upper()\n",
        "    Babesia_microti_strain_RI_addition = zhunt(str(seq.seq))\n",
        "    Babesia_microti_strain_RI_addition = Babesia_microti_strain_RI_addition[Babesia_microti_strain_RI_addition['ZH-Score']>=500]\n",
        "    Babesia_microti_strain_RI = Babesia_microti_strain_RI.append(Babesia_microti_strain_RI_addition)"
      ],
      "metadata": {
        "id": "Tjs3JD2NoZY3"
      },
      "execution_count": 28,
      "outputs": []
    },
    {
      "cell_type": "code",
      "source": [
        "print(Babesia_microti_strain_RI.shape)\n",
        "print(Theileria_annulata.shape)\n",
        "print(Theileria_orientalis_strain_Shintoku.shape)"
      ],
      "metadata": {
        "colab": {
          "base_uri": "https://localhost:8080/"
        },
        "id": "FNi82YygpmBM",
        "outputId": "964d5e2b-5945-4d4e-c355-509e9787ee38"
      },
      "execution_count": 87,
      "outputs": [
        {
          "output_type": "stream",
          "name": "stdout",
          "text": [
            "(3841, 5)\n",
            "(1098, 5)\n",
            "(15038, 5)\n"
          ]
        }
      ]
    },
    {
      "cell_type": "markdown",
      "source": [
        "3841+1098+15038 = 19 977 Участков"
      ],
      "metadata": {
        "id": "XL_acY_y2Y7v"
      }
    },
    {
      "cell_type": "code",
      "source": [
        "import matplotlib.pyplot as plt"
      ],
      "metadata": {
        "id": "dKi1h-Sm4EYS"
      },
      "execution_count": 88,
      "outputs": []
    },
    {
      "cell_type": "code",
      "source": [
        "plt.hist(Babesia_microti_strain_RI['ZH-Score'], bins = 30, color = 'blue')\n",
        "plt.title('Babesia_microti_strain_RI')"
      ],
      "metadata": {
        "colab": {
          "base_uri": "https://localhost:8080/",
          "height": 298
        },
        "id": "VJ5AYXPL3tUp",
        "outputId": "7adba624-51e3-4dd2-d480-e6bc67c268ef"
      },
      "execution_count": 89,
      "outputs": [
        {
          "output_type": "execute_result",
          "data": {
            "text/plain": [
              "Text(0.5, 1.0, 'Babesia_microti_strain_RI')"
            ]
          },
          "metadata": {},
          "execution_count": 89
        },
        {
          "output_type": "display_data",
          "data": {
            "text/plain": [
              "<Figure size 432x288 with 1 Axes>"
            ],
            "image/png": "[encoded data removed]"
          },
          "metadata": {
            "needs_background": "light"
          }
        }
      ]
    },
    {
      "cell_type": "code",
      "source": [
        "plt.hist(Theileria_annulata['ZH-Score'], bins = 30, color = 'green')\n",
        "plt.title('ZTheileria_annulata')"
      ],
      "metadata": {
        "colab": {
          "base_uri": "https://localhost:8080/",
          "height": 298
        },
        "id": "cyasUB5R3t4T",
        "outputId": "466820c7-2f41-4829-f43d-242bcd8cf1e6"
      },
      "execution_count": 90,
      "outputs": [
        {
          "output_type": "execute_result",
          "data": {
            "text/plain": [
              "Text(0.5, 1.0, 'ZTheileria_annulata')"
            ]
          },
          "metadata": {},
          "execution_count": 90
        },
        {
          "output_type": "display_data",
          "data": {
            "text/plain": [
              "<Figure size 432x288 with 1 Axes>"
            ],
            "image/png": "[encoded data removed]"
          },
          "metadata": {
            "needs_background": "light"
          }
        }
      ]
    },
    {
      "cell_type": "code",
      "source": [
        "plt.hist(Theileria_orientalis_strain_Shintoku['ZH-Score'], bins = 30, color = 'red')\n",
        "plt.title('Theileria_orientalis_strain_Shintoku')"
      ],
      "metadata": {
        "colab": {
          "base_uri": "https://localhost:8080/",
          "height": 298
        },
        "id": "nxZl8C623uST",
        "outputId": "fb6845d0-9582-487d-e096-044e760f23d3"
      },
      "execution_count": 91,
      "outputs": [
        {
          "output_type": "execute_result",
          "data": {
            "text/plain": [
              "Text(0.5, 1.0, 'Theileria_orientalis_strain_Shintoku')"
            ]
          },
          "metadata": {},
          "execution_count": 91
        },
        {
          "output_type": "display_data",
          "data": {
            "text/plain": [
              "<Figure size 432x288 with 1 Axes>"
            ],
            "image/png": "[encoded data removed]"
          },
          "metadata": {
            "needs_background": "light"
          }
        }
      ]
    },
    {
      "cell_type": "code",
      "source": [
        "def make_bed(data,fileName, genome_file ):\n",
        "  \n",
        "  to_write = data.copy()\n",
        "  to_write.insert(0, 'chr', str(genome_file).split('.')[0])\n",
        "  to_write['name'] =to_write.chr.astype(str) +'_'+ to_write.Start.astype(str)\n",
        "  to_write[['chr','Start','End','name','ZH-Score']].to_csv(fileName, sep = '\\t', header=False,index=False)"
      ],
      "metadata": {
        "id": "OuSSGU3tRsOk"
      },
      "execution_count": 92,
      "outputs": []
    },
    {
      "cell_type": "code",
      "source": [
        "! ls"
      ],
      "metadata": {
        "colab": {
          "base_uri": "https://localhost:8080/"
        },
        "id": "8icCgaVVd2qP",
        "outputId": "6623d221-99ae-4c39-85e5-3f9e4e4c229e"
      },
      "execution_count": null,
      "outputs": [
        {
          "output_type": "stream",
          "name": "stdout",
          "text": [
            "GCF_000025605.1_ASM2560v1_feature_table.txt   sample_data\n",
            "GCF_000025605.1_ASM2560v1_genomic.fna\t      Z_firstGenome.bed\n",
            "GCF_000025605.1_ASM2560v1_genomic.gtf\t      zhunt3\n",
            "GCF_000512735.1_ASM51273v1_feature_table.txt  zhunt3-alan.c\n",
            "GCF_000512735.1_ASM51273v1_genomic.fna\t      Z_secondGenome.bed\n",
            "GCF_000512735.1_ASM51273v1_genomic.gtf\n"
          ]
        }
      ]
    },
    {
      "cell_type": "code",
      "source": [
        "make_bed(Babesia_microti_strain_RI, 'Babesia_microti_strain_RI.bed','GCA_000691945.2_ASM69194v2_genomic.fna')"
      ],
      "metadata": {
        "id": "ph2GWIGQYHWV"
      },
      "execution_count": 36,
      "outputs": []
    },
    {
      "cell_type": "code",
      "source": [
        "! head Babesia_microti_strain_RI.bed"
      ],
      "metadata": {
        "colab": {
          "base_uri": "https://localhost:8080/"
        },
        "id": "TKySH0Tz6tm7",
        "outputId": "04b354c2-24ba-48be-9a44-3262f161ebfb"
      },
      "execution_count": 37,
      "outputs": [
        {
          "output_type": "stream",
          "name": "stdout",
          "text": [
            "GCA_000691945\t368\t380\tGCA_000691945_368\t1433.027\n",
            "GCA_000691945\t370\t380\tGCA_000691945_370\t2001.188\n",
            "GCA_000691945\t372\t380\tGCA_000691945_372\t2752.447\n",
            "GCA_000691945\t2291\t2301\tGCA_000691945_2291\t524.9901\n",
            "GCA_000691945\t2293\t2301\tGCA_000691945_2293\t766.6232\n",
            "GCA_000691945\t4316\t4328\tGCA_000691945_4316\t826.8355\n",
            "GCA_000691945\t4317\t4327\tGCA_000691945_4317\t2091.083\n",
            "GCA_000691945\t4318\t4328\tGCA_000691945_4318\t1030.205\n",
            "GCA_000691945\t4385\t4393\tGCA_000691945_4385\t516.0707\n",
            "GCA_000691945\t4387\t4393\tGCA_000691945_4387\t883.5764\n"
          ]
        }
      ]
    },
    {
      "cell_type": "code",
      "source": [
        "make_bed(Theileria_annulata, 'Theileria_annulata.bed','GCA_000003225.1_ASM322v1_genomic.fna')"
      ],
      "metadata": {
        "id": "3r_anZRVY_Dw"
      },
      "execution_count": 38,
      "outputs": []
    },
    {
      "cell_type": "code",
      "source": [
        "! head Theileria_annulata.bed"
      ],
      "metadata": {
        "colab": {
          "base_uri": "https://localhost:8080/"
        },
        "id": "GATLTs9K7JpK",
        "outputId": "df431016-25b4-4f32-b26a-49f923542d17"
      },
      "execution_count": 39,
      "outputs": [
        {
          "output_type": "stream",
          "name": "stdout",
          "text": [
            "GCA_000003225\t42684\t42692\tGCA_000003225_42684\t650.9198\n",
            "GCA_000003225\t48918\t48928\tGCA_000003225_48918\t512.4032\n",
            "GCA_000003225\t48920\t48928\tGCA_000003225_48920\t650.9198\n",
            "GCA_000003225\t118505\t118515\tGCA_000003225_118505\t612.3848\n",
            "GCA_000003225\t118583\t118593\tGCA_000003225_118583\t523.1181\n",
            "GCA_000003225\t118585\t118593\tGCA_000003225_118585\t766.6232\n",
            "GCA_000003225\t119925\t119937\tGCA_000003225_119925\t578.4015\n",
            "GCA_000003225\t119927\t119937\tGCA_000003225_119927\t712.187\n",
            "GCA_000003225\t135313\t135325\tGCA_000003225_135313\t984.5185\n",
            "GCA_000003225\t135315\t135325\tGCA_000003225_135315\t1323.054\n"
          ]
        }
      ]
    },
    {
      "cell_type": "code",
      "source": [
        "make_bed(Theileria_orientalis_strain_Shintoku, 'Theileria_orientalis_strain_Shintoku.bed','GCA_000740895.1_ASM74089v1_genomic.fna')"
      ],
      "metadata": {
        "id": "rzny48oT5_d5"
      },
      "execution_count": 40,
      "outputs": []
    },
    {
      "cell_type": "code",
      "source": [
        "! head Theileria_orientalis_strain_Shintoku.bed"
      ],
      "metadata": {
        "colab": {
          "base_uri": "https://localhost:8080/"
        },
        "id": "6iPSvj9Y7JfO",
        "outputId": "f29c021a-8a29-4262-ae7a-83900100b006"
      },
      "execution_count": 41,
      "outputs": [
        {
          "output_type": "stream",
          "name": "stdout",
          "text": [
            "GCA_000740895\t4400\t4412\tGCA_000740895_4400\t583.4285\n",
            "GCA_000740895\t4401\t4413\tGCA_000740895_4401\t966.8622\n",
            "GCA_000740895\t4402\t4414\tGCA_000740895_4402\t583.4285\n",
            "GCA_000740895\t4403\t4415\tGCA_000740895_4403\t860.1321\n",
            "GCA_000740895\t4404\t4416\tGCA_000740895_4404\t1469.169\n",
            "GCA_000740895\t4405\t4417\tGCA_000740895_4405\t1100.572\n",
            "GCA_000740895\t4406\t4418\tGCA_000740895_4406\t1743.107\n",
            "GCA_000740895\t4407\t4419\tGCA_000740895_4407\t779.7725\n",
            "GCA_000740895\t4408\t4420\tGCA_000740895_4408\t742.1338\n",
            "GCA_000740895\t4409\t4421\tGCA_000740895_4409\t1100.572\n"
          ]
        }
      ]
    },
    {
      "cell_type": "code",
      "source": [
        "! sort -k1,1 -k2,2n Babesia_microti_strain_RI.bed > Babesia_microti_strain_RI.sorted.bed \n",
        "! sort -k1,1 -k2,2n Theileria_annulata.bed > Theileria_annulata.sorted.bed \n",
        "! sort -k1,1 -k2,2n Theileria_orientalis_strain_Shintoku.bed > Theileria_orientalis_strain_Shintoku.sorted.bed "
      ],
      "metadata": {
        "id": "0pUFmiSmY_HL"
      },
      "execution_count": 42,
      "outputs": []
    },
    {
      "cell_type": "code",
      "source": [
        "! pip install -q condacolab\n",
        "import condacolab\n",
        "condacolab.install()\n",
        "condacolab.check"
      ],
      "metadata": {
        "colab": {
          "base_uri": "https://localhost:8080/"
        },
        "id": "3Ury5oSSfK-R",
        "outputId": "07f0ce93-2566-408f-b1f5-298a253c07bc"
      },
      "execution_count": 43,
      "outputs": [
        {
          "output_type": "stream",
          "name": "stdout",
          "text": [
            "✨🍰✨ Everything looks OK!\n"
          ]
        },
        {
          "output_type": "execute_result",
          "data": {
            "text/plain": [
              "<function condacolab.check>"
            ]
          },
          "metadata": {},
          "execution_count": 43
        }
      ]
    },
    {
      "cell_type": "code",
      "source": [
        "!conda install -c bioconda bedtools"
      ],
      "metadata": {
        "colab": {
          "base_uri": "https://localhost:8080/"
        },
        "id": "4vZvQiLifO1z",
        "outputId": "b992aace-6c37-4d8e-b1c6-7b094b2b8bd0"
      },
      "execution_count": 44,
      "outputs": [
        {
          "output_type": "stream",
          "name": "stdout",
          "text": [
            "Collecting package metadata (current_repodata.json): - \b\b\\ \b\b| \b\b/ \b\b- \b\b\\ \b\b| \b\b/ \b\b- \b\b\\ \b\b| \b\b/ \b\b- \b\b\\ \b\b| \b\b/ \b\b- \b\b\\ \b\bdone\n",
            "Solving environment: / \b\b- \b\b\\ \b\b| \b\b/ \b\b- \b\b\\ \b\b| \b\bdone\n",
            "\n",
            "# All requested packages already installed.\n",
            "\n"
          ]
        }
      ]
    },
    {
      "cell_type": "markdown",
      "source": [
        "Соединяем участки Z-ДНК и выписываем наибольший скор"
      ],
      "metadata": {
        "id": "XNwmHjuogOtk"
      }
    },
    {
      "cell_type": "code",
      "source": [
        "! bedtools merge -i Babesia_microti_strain_RI.sorted.bed -c 5 -o max > merged_Babesia_microti_Z.bed"
      ],
      "metadata": {
        "id": "kx06LkNvfPWC"
      },
      "execution_count": 45,
      "outputs": []
    },
    {
      "cell_type": "code",
      "source": [
        "! bedtools merge -i Theileria_annulata.sorted.bed -c 5 -o max > merged_Theileria_annulata_Z.bed"
      ],
      "metadata": {
        "id": "b0bmxSYQkpl1"
      },
      "execution_count": 46,
      "outputs": []
    },
    {
      "cell_type": "code",
      "source": [
        "! bedtools merge -i Theileria_orientalis_strain_Shintoku.sorted.bed -c 5 -o max > merged_Theileria_orientalis_Z.bed"
      ],
      "metadata": {
        "id": "d4ec8ght9FR5"
      },
      "execution_count": 47,
      "outputs": []
    },
    {
      "cell_type": "code",
      "source": [
        "! head merged_Babesia_microti_Z.bed"
      ],
      "metadata": {
        "colab": {
          "base_uri": "https://localhost:8080/"
        },
        "id": "-2Ym2JQyuQF4",
        "outputId": "a676ac64-4bcb-42eb-aeaa-4b3c5f1e67d2"
      },
      "execution_count": 48,
      "outputs": [
        {
          "output_type": "stream",
          "name": "stdout",
          "text": [
            "GCA_000691945\t368\t380\t2752.447\n",
            "GCA_000691945\t2291\t2301\t766.6232\n",
            "GCA_000691945\t4316\t4328\t2091.083\n",
            "GCA_000691945\t4385\t4393\t883.5764\n",
            "GCA_000691945\t4602\t4614\t2752.447\n",
            "GCA_000691945\t5281\t5291\t766.6232\n",
            "GCA_000691945\t5618\t5632\t2541.412\n",
            "GCA_000691945\t10100\t10108\t783.823\n",
            "GCA_000691945\t10862\t10870\t766.6232\n",
            "GCA_000691945\t11905\t11920\t2541.412\n"
          ]
        }
      ]
    },
    {
      "cell_type": "code",
      "source": [
        "! head merged_Theileria_annulata_Z.bed"
      ],
      "metadata": {
        "colab": {
          "base_uri": "https://localhost:8080/"
        },
        "id": "YVNm-Rzc903M",
        "outputId": "916a8f06-5536-4dbf-ce4f-307b95bddf3b"
      },
      "execution_count": 49,
      "outputs": [
        {
          "output_type": "stream",
          "name": "stdout",
          "text": [
            "GCA_000003225\t1529\t1541\t612.3848\n",
            "GCA_000003225\t2770\t2782\t612.3848\n",
            "GCA_000003225\t11201\t11213\t783.823\n",
            "GCA_000003225\t42684\t42692\t650.9198\n",
            "GCA_000003225\t48918\t48928\t650.9198\n",
            "GCA_000003225\t51063\t51076\t1280.855\n",
            "GCA_000003225\t69802\t69814\t612.3848\n",
            "GCA_000003225\t72690\t72703\t1733.503\n",
            "GCA_000003225\t91822\t91830\t650.9198\n",
            "GCA_000003225\t97098\t97110\t1202.592\n"
          ]
        }
      ]
    },
    {
      "cell_type": "code",
      "source": [
        "! head merged_Theileria_orientalis_Z.bed"
      ],
      "metadata": {
        "colab": {
          "base_uri": "https://localhost:8080/"
        },
        "id": "GO1ng7WC90is",
        "outputId": "ab37dd50-546f-417c-8c62-f7c90e744fa7"
      },
      "execution_count": 50,
      "outputs": [
        {
          "output_type": "stream",
          "name": "stdout",
          "text": [
            "GCA_000740895\t733\t745\t712.187\n",
            "GCA_000740895\t4400\t4421\t1743.107\n",
            "GCA_000740895\t7848\t7862\t583.4285\n",
            "GCA_000740895\t13778\t13794\t632.2504\n",
            "GCA_000740895\t16626\t16638\t712.187\n",
            "GCA_000740895\t16930\t16942\t2752.447\n",
            "GCA_000740895\t20020\t20032\t569.3077\n",
            "GCA_000740895\t20677\t20689\t1469.169\n",
            "GCA_000740895\t21734\t21746\t583.4285\n",
            "GCA_000740895\t22424\t22436\t742.1338\n"
          ]
        }
      ]
    },
    {
      "cell_type": "code",
      "source": [
        "! awk '{print $1, $2, $3, $1\"_\"$2 , $4}' merged_first_Z.bed   > merged_first_Z_final.bed\n",
        "! awk '{print $1, $2, $3, $1\"_\"$2 , $4}' merged_first_Z.bed  > merged_second_Z_final.bed"
      ],
      "metadata": {
        "id": "QKR02nwqj46D"
      },
      "execution_count": null,
      "outputs": []
    },
    {
      "cell_type": "code",
      "execution_count": 115,
      "metadata": {
        "id": "tPAa_082vOT2"
      },
      "outputs": [],
      "source": [
        "import numpy as np"
      ]
    },
    {
      "cell_type": "code",
      "execution_count": 122,
      "metadata": {
        "id": "edAtFsQNucRt"
      },
      "outputs": [],
      "source": [
        "def make_bed_new(genes, fileName, name):\n",
        "  \n",
        "  to_write = pd.DataFrame(columns=['Start','End'])\n",
        "  to_write['Start'] = np.array(genes).T[0]\n",
        "  to_write['End'] = np.array(genes).T[1]\n",
        "  to_write.insert(0, 'chr', name)\n",
        "  to_write['name'] =to_write.chr.astype(str) +'_'+ to_write.Start.astype(str)\n",
        "  to_write[['chr','Start','End','name']].to_csv(fileName, sep = '\\t', header=False,index=False)"
      ]
    },
    {
      "cell_type": "code",
      "execution_count": 101,
      "metadata": {
        "id": "pHLTnwMjwYB_"
      },
      "outputs": [],
      "source": [
        "def gene_cords(file_name):\n",
        "  genes = []\n",
        "  file1 = open(file_name, \"r\")\n",
        "  sum1 = 0\n",
        "  while True:\n",
        "      line = file1.readline()\n",
        "      if ('RefSeq\tgene' in line) or ('Genbank\tgene' in line):\n",
        "        stop = int(line.strip().split('\\t')[4])\n",
        "        start = int(line.strip().split('\\t')[3])\n",
        "        genes.append([start, stop])\n",
        "      if not line:\n",
        "        break\n",
        "  file1.close\n",
        "  return genes"
      ]
    },
    {
      "cell_type": "code",
      "source": [
        "def cord_genes(file_name):\n",
        "  genes = {}\n",
        "  file1 = open(file_name, \"r\")\n",
        "  sum = 0\n",
        "  while True:\n",
        "      line = file1.readline()\n",
        "      if not line:\n",
        "          break\n",
        "      if ('RefSeq\tgene' in line) or ('Genbank\tgene' in line):\n",
        "        stop = int(line.strip().split('\\t')[4])\n",
        "        start = int(line.strip().split('\\t')[3])\n",
        "        gene_id = ((line.strip().split('gene_id')[1]).split(';')[0]).replace('\\\"', '').replace(' ', '')\n",
        "        genes[gene_id] = [start, stop]\n",
        "      \n",
        "  file1.close\n",
        "  return genes"
      ],
      "metadata": {
        "id": "NvhZ0VPYMhxy"
      },
      "execution_count": 71,
      "outputs": []
    },
    {
      "cell_type": "code",
      "execution_count": 117,
      "metadata": {
        "id": "T_vp-KhUuj4o"
      },
      "outputs": [],
      "source": [
        "Babesia_microti_strain_RI_genes = gene_cords('/content/GCA_000691945.2_ASM69194v2_genomic.gtf')\n",
        "Theileria_annulata_genes = gene_cords('/content/GCA_000003225.1_ASM322v1_genomic.gtf')\n",
        "Theileria_orientalis_genes = gene_cords('/content/GCA_000740895.1_ASM74089v1_genomic.gtf')"
      ]
    },
    {
      "cell_type": "code",
      "source": [
        "Babesia_microti_strain_RI_genes"
      ],
      "metadata": {
        "colab": {
          "base_uri": "https://localhost:8080/"
        },
        "id": "__DRgTgG5qVB",
        "outputId": "84cfb1d8-d9dc-4d0c-a91e-9df882d4043c"
      },
      "execution_count": 118,
      "outputs": [
        {
          "output_type": "execute_result",
          "data": {
            "text/plain": [
              "[]"
            ]
          },
          "metadata": {},
          "execution_count": 118
        }
      ]
    },
    {
      "cell_type": "code",
      "execution_count": 123,
      "metadata": {
        "id": "0-wFwjZcw3q7",
        "colab": {
          "base_uri": "https://localhost:8080/",
          "height": 321
        },
        "outputId": "1b7bfdb6-accc-45e0-853e-5d5088ae7c5f"
      },
      "outputs": [
        {
          "output_type": "error",
          "ename": "IndexError",
          "evalue": "ignored",
          "traceback": [
            "\u001b[0;31m---------------------------------------------------------------------------\u001b[0m",
            "\u001b[0;31mIndexError\u001b[0m                                Traceback (most recent call last)",
            "\u001b[0;32m<ipython-input-123-55a4a943ec31>\u001b[0m in \u001b[0;36m<module>\u001b[0;34m()\u001b[0m\n\u001b[0;32m----> 1\u001b[0;31m \u001b[0mmake_bed_new\u001b[0m\u001b[0;34m(\u001b[0m\u001b[0mBabesia_microti_strain_RI_genes\u001b[0m\u001b[0;34m,\u001b[0m \u001b[0;34m'Babesia_microti_strain_RI.bed'\u001b[0m\u001b[0;34m,\u001b[0m\u001b[0;34m'GCA_000691945.2_ASM69194v2_genomic.fna'\u001b[0m\u001b[0;34m)\u001b[0m\u001b[0;34m\u001b[0m\u001b[0;34m\u001b[0m\u001b[0m\n\u001b[0m\u001b[1;32m      2\u001b[0m \u001b[0mmake_bed_new\u001b[0m\u001b[0;34m(\u001b[0m\u001b[0mTheileria_annulata_genes\u001b[0m\u001b[0;34m,\u001b[0m \u001b[0;34m'Theileria_annulata.bed'\u001b[0m\u001b[0;34m,\u001b[0m\u001b[0;34m'GCA_000003225.1_ASM322v1_genomic.fna'\u001b[0m\u001b[0;34m)\u001b[0m\u001b[0;34m\u001b[0m\u001b[0;34m\u001b[0m\u001b[0m\n\u001b[1;32m      3\u001b[0m \u001b[0mmake_bed_new\u001b[0m\u001b[0;34m(\u001b[0m\u001b[0mTheileria_orientalis_genes\u001b[0m\u001b[0;34m,\u001b[0m \u001b[0;34m'Theileria_orientalis_strain_Shintoku.bed'\u001b[0m\u001b[0;34m,\u001b[0m\u001b[0;34m'GCA_000740895.1_ASM74089v1_genomic.fna'\u001b[0m\u001b[0;34m)\u001b[0m\u001b[0;34m\u001b[0m\u001b[0;34m\u001b[0m\u001b[0m\n",
            "\u001b[0;32m<ipython-input-122-32d45880c4f1>\u001b[0m in \u001b[0;36mmake_bed_new\u001b[0;34m(genes, fileName, name)\u001b[0m\n\u001b[1;32m      2\u001b[0m \u001b[0;34m\u001b[0m\u001b[0m\n\u001b[1;32m      3\u001b[0m   \u001b[0mto_write\u001b[0m \u001b[0;34m=\u001b[0m \u001b[0mpd\u001b[0m\u001b[0;34m.\u001b[0m\u001b[0mDataFrame\u001b[0m\u001b[0;34m(\u001b[0m\u001b[0mcolumns\u001b[0m\u001b[0;34m=\u001b[0m\u001b[0;34m[\u001b[0m\u001b[0;34m'Start'\u001b[0m\u001b[0;34m,\u001b[0m\u001b[0;34m'End'\u001b[0m\u001b[0;34m]\u001b[0m\u001b[0;34m)\u001b[0m\u001b[0;34m\u001b[0m\u001b[0;34m\u001b[0m\u001b[0m\n\u001b[0;32m----> 4\u001b[0;31m   \u001b[0mto_write\u001b[0m\u001b[0;34m[\u001b[0m\u001b[0;34m'Start'\u001b[0m\u001b[0;34m]\u001b[0m \u001b[0;34m=\u001b[0m \u001b[0mnp\u001b[0m\u001b[0;34m.\u001b[0m\u001b[0marray\u001b[0m\u001b[0;34m(\u001b[0m\u001b[0mgenes\u001b[0m\u001b[0;34m)\u001b[0m\u001b[0;34m.\u001b[0m\u001b[0mT\u001b[0m\u001b[0;34m[\u001b[0m\u001b[0;36m0\u001b[0m\u001b[0;34m]\u001b[0m\u001b[0;34m\u001b[0m\u001b[0;34m\u001b[0m\u001b[0m\n\u001b[0m\u001b[1;32m      5\u001b[0m   \u001b[0mto_write\u001b[0m\u001b[0;34m[\u001b[0m\u001b[0;34m'End'\u001b[0m\u001b[0;34m]\u001b[0m \u001b[0;34m=\u001b[0m \u001b[0mnp\u001b[0m\u001b[0;34m.\u001b[0m\u001b[0marray\u001b[0m\u001b[0;34m(\u001b[0m\u001b[0mgenes\u001b[0m\u001b[0;34m)\u001b[0m\u001b[0;34m.\u001b[0m\u001b[0mT\u001b[0m\u001b[0;34m[\u001b[0m\u001b[0;36m1\u001b[0m\u001b[0;34m]\u001b[0m\u001b[0;34m\u001b[0m\u001b[0;34m\u001b[0m\u001b[0m\n\u001b[1;32m      6\u001b[0m   \u001b[0mto_write\u001b[0m\u001b[0;34m.\u001b[0m\u001b[0minsert\u001b[0m\u001b[0;34m(\u001b[0m\u001b[0;36m0\u001b[0m\u001b[0;34m,\u001b[0m \u001b[0;34m'chr'\u001b[0m\u001b[0;34m,\u001b[0m \u001b[0mname\u001b[0m\u001b[0;34m)\u001b[0m\u001b[0;34m\u001b[0m\u001b[0;34m\u001b[0m\u001b[0m\n",
            "\u001b[0;31mIndexError\u001b[0m: index 0 is out of bounds for axis 0 with size 0"
          ]
        }
      ],
      "source": [
        "make_bed_new(Babesia_microti_strain_RI_genes, 'Babesia_microti_strain_RI.bed','GCA_000691945.2_ASM69194v2_genomic.fna')\n",
        "make_bed_new(Theileria_annulata_genes, 'Theileria_annulata.bed','GCA_000003225.1_ASM322v1_genomic.fna')\n",
        "make_bed_new(Theileria_orientalis_genes, 'Theileria_orientalis_strain_Shintoku.bed','GCA_000740895.1_ASM74089v1_genomic.fna')"
      ]
    },
    {
      "cell_type": "code",
      "source": [
        "!apt-get install proteinortho"
      ],
      "metadata": {
        "id": "eVJt0cJEspCr",
        "colab": {
          "base_uri": "https://localhost:8080/"
        },
        "outputId": "8019ead2-6c99-49b9-f9e9-140ab102b648"
      },
      "execution_count": 8,
      "outputs": [
        {
          "output_type": "stream",
          "name": "stdout",
          "text": [
            "Reading package lists... Done\n",
            "Building dependency tree       \n",
            "Reading state information... Done\n",
            "The following package was automatically installed and is no longer required:\n",
            "  libnvidia-common-460\n",
            "Use 'apt autoremove' to remove it.\n",
            "The following additional packages will be installed:\n",
            "  ncbi-blast+ ncbi-data\n",
            "The following NEW packages will be installed:\n",
            "  ncbi-blast+ ncbi-data proteinortho\n",
            "0 upgraded, 3 newly installed, 0 to remove and 45 not upgraded.\n",
            "Need to get 13.2 MB of archives.\n",
            "After this operation, 67.0 MB of additional disk space will be used.\n",
            "Get:1 http://archive.ubuntu.com/ubuntu bionic/universe amd64 ncbi-data all 6.1.20170106-2 [3,645 kB]\n",
            "Get:2 http://archive.ubuntu.com/ubuntu bionic/universe amd64 ncbi-blast+ amd64 2.6.0-1 [9,446 kB]\n",
            "Get:3 http://archive.ubuntu.com/ubuntu bionic/universe amd64 proteinortho amd64 5.16+dfsg-1 [143 kB]\n",
            "Fetched 13.2 MB in 0s (51.1 MB/s)\n",
            "Selecting previously unselected package ncbi-data.\n",
            "(Reading database ... 155632 files and directories currently installed.)\n",
            "Preparing to unpack .../ncbi-data_6.1.20170106-2_all.deb ...\n",
            "Unpacking ncbi-data (6.1.20170106-2) ...\n",
            "Selecting previously unselected package ncbi-blast+.\n",
            "Preparing to unpack .../ncbi-blast+_2.6.0-1_amd64.deb ...\n",
            "Unpacking ncbi-blast+ (2.6.0-1) ...\n",
            "Selecting previously unselected package proteinortho.\n",
            "Preparing to unpack .../proteinortho_5.16+dfsg-1_amd64.deb ...\n",
            "Unpacking proteinortho (5.16+dfsg-1) ...\n",
            "Setting up ncbi-data (6.1.20170106-2) ...\n",
            "Setting up ncbi-blast+ (2.6.0-1) ...\n",
            "Setting up proteinortho (5.16+dfsg-1) ...\n",
            "Processing triggers for hicolor-icon-theme (0.17-2) ...\n",
            "Processing triggers for man-db (2.8.3-2ubuntu0.1) ...\n"
          ]
        }
      ]
    },
    {
      "cell_type": "markdown",
      "source": [
        "# Скачиваем последовательности всех белков 5-ти организмов"
      ],
      "metadata": {
        "id": "TGIg0r2R7JSZ"
      }
    },
    {
      "cell_type": "code",
      "source": [
        "# Theileria equi strain WA\n",
        "!wget -O protein.Hi.faa.gz 'ftp://ftp.ncbi.nlm.nih.gov/genomes/all/GCF/000/342/415/GCF_000342415.1_JCVI-bewag-v1.1/GCF_000342415.1_JCVI-bewag-v1.1_protein.faa.gz'\n",
        "!gzip -d protein.Hi.faa.gz"
      ],
      "metadata": {
        "id": "BBouO_Stuj-i",
        "colab": {
          "base_uri": "https://localhost:8080/"
        },
        "outputId": "fc82e592-1387-490c-8c0d-b1f0a98a851c"
      },
      "execution_count": 1,
      "outputs": [
        {
          "output_type": "stream",
          "name": "stdout",
          "text": [
            "--2022-06-14 20:38:01--  ftp://ftp.ncbi.nlm.nih.gov/genomes/all/GCF/000/342/415/GCF_000342415.1_JCVI-bewag-v1.1/GCF_000342415.1_JCVI-bewag-v1.1_protein.faa.gz\n",
            "           => ‘protein.Hi.faa.gz’\n",
            "Resolving ftp.ncbi.nlm.nih.gov (ftp.ncbi.nlm.nih.gov)... 165.112.9.228, 165.112.9.229, 2607:f220:41f:250::230, ...\n",
            "Connecting to ftp.ncbi.nlm.nih.gov (ftp.ncbi.nlm.nih.gov)|165.112.9.228|:21... connected.\n",
            "Logging in as anonymous ... Logged in!\n",
            "==> SYST ... done.    ==> PWD ... done.\n",
            "==> TYPE I ... done.  ==> CWD (1) /genomes/all/GCF/000/342/415/GCF_000342415.1_JCVI-bewag-v1.1 ... done.\n",
            "==> SIZE GCF_000342415.1_JCVI-bewag-v1.1_protein.faa.gz ... 1642321\n",
            "==> PASV ... done.    ==> RETR GCF_000342415.1_JCVI-bewag-v1.1_protein.faa.gz ... done.\n",
            "Length: 1642321 (1.6M) (unauthoritative)\n",
            "\n",
            "GCF_000342415.1_JCV 100%[===================>]   1.57M  2.72MB/s    in 0.6s    \n",
            "\n",
            "2022-06-14 20:38:03 (2.72 MB/s) - ‘protein.Hi.faa.gz’ saved [1642321]\n",
            "\n"
          ]
        }
      ]
    },
    {
      "cell_type": "code",
      "source": [
        "# Theileria annulata\n",
        "\n",
        "!wget -O protein.Pm.faa.gz 'ftp://ftp.ncbi.nlm.nih.gov/genomes/all/GCF/000/003/225/GCF_000003225.4_ASM322v1/GCF_000003225.4_ASM322v1_protein.faa.gz'\n",
        "!gzip -d protein.Pm.faa.gz"
      ],
      "metadata": {
        "id": "H0a4IP41uwOr",
        "colab": {
          "base_uri": "https://localhost:8080/"
        },
        "outputId": "7419dcd8-909f-4d9e-c899-bf6f49d9ccc0"
      },
      "execution_count": 2,
      "outputs": [
        {
          "output_type": "stream",
          "name": "stdout",
          "text": [
            "--2022-06-14 20:38:03--  ftp://ftp.ncbi.nlm.nih.gov/genomes/all/GCF/000/003/225/GCF_000003225.4_ASM322v1/GCF_000003225.4_ASM322v1_protein.faa.gz\n",
            "           => ‘protein.Pm.faa.gz’\n",
            "Resolving ftp.ncbi.nlm.nih.gov (ftp.ncbi.nlm.nih.gov)... 165.112.9.228, 165.112.9.229, 2607:f220:41f:250::230, ...\n",
            "Connecting to ftp.ncbi.nlm.nih.gov (ftp.ncbi.nlm.nih.gov)|165.112.9.228|:21... connected.\n",
            "Logging in as anonymous ... Logged in!\n",
            "==> SYST ... done.    ==> PWD ... done.\n",
            "==> TYPE I ... done.  ==> CWD (1) /genomes/all/GCF/000/003/225/GCF_000003225.4_ASM322v1 ... done.\n",
            "==> SIZE GCF_000003225.4_ASM322v1_protein.faa.gz ... 1247020\n",
            "==> PASV ... done.    ==> RETR GCF_000003225.4_ASM322v1_protein.faa.gz ... done.\n",
            "Length: 1247020 (1.2M) (unauthoritative)\n",
            "\n",
            "GCF_000003225.4_ASM 100%[===================>]   1.19M  2.03MB/s    in 0.6s    \n",
            "\n",
            "2022-06-14 20:38:05 (2.03 MB/s) - ‘protein.Pm.faa.gz’ saved [1247020]\n",
            "\n"
          ]
        }
      ]
    },
    {
      "cell_type": "code",
      "source": [
        "# Theileria orientalis\n",
        "!wget -O protein.Gk.faa.gz 'ftp://ftp.ncbi.nlm.nih.gov/genomes/all/GCF/000/740/895/GCF_000740895.1_ASM74089v1/GCF_000740895.1_ASM74089v1_protein.faa.gz'\n",
        "!gzip -d protein.Gk.faa.gz"
      ],
      "metadata": {
        "id": "ebYlONz-xRd5",
        "colab": {
          "base_uri": "https://localhost:8080/"
        },
        "outputId": "9e555bd2-63b2-4930-98f2-aa0330951e1a"
      },
      "execution_count": 3,
      "outputs": [
        {
          "output_type": "stream",
          "name": "stdout",
          "text": [
            "--2022-06-14 20:38:06--  ftp://ftp.ncbi.nlm.nih.gov/genomes/all/GCF/000/740/895/GCF_000740895.1_ASM74089v1/GCF_000740895.1_ASM74089v1_protein.faa.gz\n",
            "           => ‘protein.Gk.faa.gz’\n",
            "Resolving ftp.ncbi.nlm.nih.gov (ftp.ncbi.nlm.nih.gov)... 165.112.9.228, 165.112.9.229, 2607:f220:41f:250::230, ...\n",
            "Connecting to ftp.ncbi.nlm.nih.gov (ftp.ncbi.nlm.nih.gov)|165.112.9.228|:21... connected.\n",
            "Logging in as anonymous ... Logged in!\n",
            "==> SYST ... done.    ==> PWD ... done.\n",
            "==> TYPE I ... done.  ==> CWD (1) /genomes/all/GCF/000/740/895/GCF_000740895.1_ASM74089v1 ... done.\n",
            "==> SIZE GCF_000740895.1_ASM74089v1_protein.faa.gz ... 1282553\n",
            "==> PASV ... done.    ==> RETR GCF_000740895.1_ASM74089v1_protein.faa.gz ... done.\n",
            "Length: 1282553 (1.2M) (unauthoritative)\n",
            "\n",
            "GCF_000740895.1_ASM 100%[===================>]   1.22M  2.21MB/s    in 0.6s    \n",
            "\n",
            "2022-06-14 20:38:08 (2.21 MB/s) - ‘protein.Gk.faa.gz’ saved [1282553]\n",
            "\n"
          ]
        }
      ]
    },
    {
      "cell_type": "code",
      "source": [
        "# Theileria parva strain Muguga\n",
        "!wget -O protein.Gm.faa.gz 'ftp://ftp.ncbi.nlm.nih.gov/genomes/all/GCF/000/165/365/GCF_000165365.1_ASM16536v1/GCF_000165365.1_ASM16536v1_protein.faa.gz'\n",
        "!gzip -d protein.Gm.faa.gz\n"
      ],
      "metadata": {
        "id": "u9GurV2Axrew",
        "colab": {
          "base_uri": "https://localhost:8080/"
        },
        "outputId": "f69a2496-3bab-4d84-d19c-3ec40227641c"
      },
      "execution_count": 4,
      "outputs": [
        {
          "output_type": "stream",
          "name": "stdout",
          "text": [
            "--2022-06-14 20:38:08--  ftp://ftp.ncbi.nlm.nih.gov/genomes/all/GCF/000/165/365/GCF_000165365.1_ASM16536v1/GCF_000165365.1_ASM16536v1_protein.faa.gz\n",
            "           => ‘protein.Gm.faa.gz’\n",
            "Resolving ftp.ncbi.nlm.nih.gov (ftp.ncbi.nlm.nih.gov)... 165.112.9.228, 165.112.9.229, 2607:f220:41f:250::230, ...\n",
            "Connecting to ftp.ncbi.nlm.nih.gov (ftp.ncbi.nlm.nih.gov)|165.112.9.228|:21... connected.\n",
            "Logging in as anonymous ... Logged in!\n",
            "==> SYST ... done.    ==> PWD ... done.\n",
            "==> TYPE I ... done.  ==> CWD (1) /genomes/all/GCF/000/165/365/GCF_000165365.1_ASM16536v1 ... done.\n",
            "==> SIZE GCF_000165365.1_ASM16536v1_protein.faa.gz ... 1162937\n",
            "==> PASV ... done.    ==> RETR GCF_000165365.1_ASM16536v1_protein.faa.gz ... done.\n",
            "Length: 1162937 (1.1M) (unauthoritative)\n",
            "\n",
            "GCF_000165365.1_ASM 100%[===================>]   1.11M  1.97MB/s    in 0.6s    \n",
            "\n",
            "2022-06-14 20:38:10 (1.97 MB/s) - ‘protein.Gm.faa.gz’ saved [1162937]\n",
            "\n"
          ]
        }
      ]
    },
    {
      "cell_type": "code",
      "source": [
        "# Babesia microti strain RI\n",
        "!wget -O protein.Gv.faa.gz 'ftp://ftp.ncbi.nlm.nih.gov/genomes/all/GCF/000/691/945/GCF_000691945.2_ASM69194v2/GCF_000691945.2_ASM69194v2_protein.faa.gz'\n",
        "!gzip -d protein.Gv.faa.gz"
      ],
      "metadata": {
        "colab": {
          "base_uri": "https://localhost:8080/"
        },
        "id": "dkmFxCiG6l55",
        "outputId": "7367b33f-1523-4060-fd7b-c5d542216172"
      },
      "execution_count": 5,
      "outputs": [
        {
          "output_type": "stream",
          "name": "stdout",
          "text": [
            "--2022-06-14 20:38:10--  ftp://ftp.ncbi.nlm.nih.gov/genomes/all/GCF/000/691/945/GCF_000691945.2_ASM69194v2/GCF_000691945.2_ASM69194v2_protein.faa.gz\n",
            "           => ‘protein.Gv.faa.gz’\n",
            "Resolving ftp.ncbi.nlm.nih.gov (ftp.ncbi.nlm.nih.gov)... 165.112.9.228, 165.112.9.229, 2607:f220:41f:250::230, ...\n",
            "Connecting to ftp.ncbi.nlm.nih.gov (ftp.ncbi.nlm.nih.gov)|165.112.9.228|:21... connected.\n",
            "Logging in as anonymous ... Logged in!\n",
            "==> SYST ... done.    ==> PWD ... done.\n",
            "==> TYPE I ... done.  ==> CWD (1) /genomes/all/GCF/000/691/945/GCF_000691945.2_ASM69194v2 ... done.\n",
            "==> SIZE GCF_000691945.2_ASM69194v2_protein.faa.gz ... 1032442\n",
            "==> PASV ... done.    ==> RETR GCF_000691945.2_ASM69194v2_protein.faa.gz ... done.\n",
            "Length: 1032442 (1008K) (unauthoritative)\n",
            "\n",
            "GCF_000691945.2_ASM 100%[===================>]   1008K  1.56MB/s    in 0.6s    \n",
            "\n",
            "2022-06-14 20:38:12 (1.56 MB/s) - ‘protein.Gv.faa.gz’ saved [1032442]\n",
            "\n"
          ]
        }
      ]
    },
    {
      "cell_type": "markdown",
      "source": [
        "# Определяем гомологов (ортологи + паралоги)"
      ],
      "metadata": {
        "id": "XfwOSUA-7VJ6"
      }
    },
    {
      "cell_type": "code",
      "source": [
        "!proteinortho5  protein.Hi.faa  protein.Pm.faa  protein.Gk.faa  protein.Gm.faa  protein.Gv.faa"
      ],
      "metadata": {
        "id": "EAQBBgipvaSf",
        "colab": {
          "base_uri": "https://localhost:8080/"
        },
        "outputId": "eaa7081d-8c3a-4a48-a44b-5377217a43b4"
      },
      "execution_count": 132,
      "outputs": [
        {
          "output_type": "stream",
          "name": "stdout",
          "text": [
            "*****************************************************************\n",
            "Proteinortho with PoFF version 5.16 - An orthology detection tool\n",
            "*****************************************************************\n",
            "Detected 2 available CPU threads, Detected NCBI BLAST version 2.6.0+\n",
            "Checking input files\n",
            "Checking protein.Hi.faa... ok\n",
            "Checking protein.Pm.faa... ok\n",
            "Checking protein.Gk.faa... ok\n",
            "Checking protein.Gm.faa... ok\n",
            "Checking protein.Gv.faa... ok\n",
            "\n",
            "**Step 1**\n",
            "Generating indices\n",
            "Building database for 'protein.Hi.faa'\t(5327 sequences)\n",
            "Building database for 'protein.Gm.faa'\t(4061 sequences)\n",
            "Building database for 'protein.Gk.faa'\t(4002 sequences)\n",
            "Building database for 'protein.Pm.faa'\t(3795 sequences)\n",
            "Building database for 'protein.Gv.faa'\t(3601 sequences)\n",
            "\n",
            "**Step 2**\n",
            "Running blast analysis: 100% (10/10)\n",
            "[OUTPUT] -> written to myproject.blast-graph\n",
            "\n",
            "**Step 3**\n",
            "Clustering by similarity (Proteinortho mode)\n",
            "Reading myproject.blast-graph\n",
            "5 species\n",
            "15299 paired proteins\n",
            "24351 bidirectional edges\n",
            "Done                       \n",
            "[OUTPUT] -> written to myproject.proteinortho\n",
            "Writing graph...\n",
            "Cleaning edge list...\n",
            "Removed 361 / 24351 edges\n",
            "Done.\n",
            "[OUTPUT] -> written to myproject.proteinortho-graph\n",
            "\n",
            "All finished.\n"
          ]
        }
      ]
    },
    {
      "cell_type": "code",
      "source": [
        "!head myproject.proteinortho"
      ],
      "metadata": {
        "colab": {
          "base_uri": "https://localhost:8080/"
        },
        "id": "TGVT_qmnBq3G",
        "outputId": "45e424f5-0b16-4ff1-c7d7-94256200ed21"
      },
      "execution_count": 133,
      "outputs": [
        {
          "output_type": "stream",
          "name": "stdout",
          "text": [
            "# Species\tGenes\tAlg.-Conn.\tprotein.Gk.faa\tprotein.Gm.faa\tprotein.Gv.faa\tprotein.Hi.faa\tprotein.Pm.faa\n",
            "2\t2\t1\t*\tXP_762670.1\t*\tXP_025033553.1\t*\n",
            "4\t4\t1\tXP_012965620.1\tXP_762672.1\tYP_009363157.1\tXP_025033552.1\t*\n",
            "2\t2\t1\t*\tXP_762679.1\t*\tXP_025033551.1\t*\n",
            "3\t3\t0.333\t*\tXP_762682.1\tYP_009363169.1\tXP_025033549.1\t*\n",
            "4\t4\t1\tXP_012965618.1\tXP_762686.1\tYP_009363173.1\tXP_025033548.1\t*\n",
            "3\t3\t1\t*\tXP_762688.1\tYP_009363175.1\tXP_025033547.1\t*\n",
            "4\t4\t0.5\tXP_012965622.1\tXP_762697.1\tYP_009363181.1\tXP_025033557.1\t*\n",
            "3\t3\t1\t*\tXP_762712.1\tYP_009363184.1\tXP_025033555.1\t*\n",
            "2\t2\t1\t*\tXP_762713.1\t*\tXP_025033554.1\t*\n"
          ]
        }
      ]
    },
    {
      "cell_type": "markdown",
      "source": [
        "Картинка в адекватном формате"
      ],
      "metadata": {
        "id": "qWdA3upWKSbB"
      }
    },
    {
      "cell_type": "markdown",
      "source": [
        "![image.png](data:image/png;base64,iVBORw0KGgoAAAANSUhEUgAAA7UAAAC5CAYAAAD3cxjTAAAgAElEQVR4nO2dO27jutvGH384S7HxR4pZAL0DG1OkSjkl3drFlKlSppBaq0yZKsVA3oG1ABdBIO2FXyFfdKF4sSzbsp4fYJwzoXgRH74vSYmkRkopBUIIIYQQQgghpIf8360LQAghhBBCCCGEnAsntYQQQgghhBBCekttUpuFU0zDDECGcDrCYuOTXB5nNDr98rSuyaEMC3gVneRkIaY31e/WHNrPFNVbz8JpoW3fqH0NXp+h07F/a2xfeb7TS7Q3tuEW3Er/nuXxsFD/YdOR/lmIaS3NDRa1cdAF8qf+LejK/utzt776mNqkNv1O8Ot/4zOSyhBOJ1j9iqGUOv62y3PSIrcgC6cYTVb4FZ/0+8B7bXL30GT/8IkAgUzw+a984+PlNq+XWN6mbJuFRp9/fHjTI7JwitE0xD2a1HXsP0P4ZwUE6SD7COpP/ak/9b9H/a8D9b9n/WXB9mMZYd7F5Llj/Q3Lj1N8JwJPE8eUsn/4TAD5PLtIwc5njOVWQak1bl2SfrHB+yqBjBXWhYobL9cYkM9B9u8TePmN5bNE8vnvjpxPhvAtggjSij5LtvNB0ZV/u5b95/3Ky+8BOZWLQv2HDfUfNrce37bNn/q343r6z/4GEIjwddFZbff6nya1mwVGoxHmERDNRxiN5oiQYDVxfA09/h9+AYjemp5CHJYzb7AovHquLm/eLAqvv3VPNCqvrovXuCwPtaVfCteU72HZfCGChO2ZRHP96fStL+G97/rP8O9zv1Jh8gSRfOKf16xWt4TjUks2/+HT6gyq+RdtwKaPm36Pi90/ZeEUo8Xm6Cvr2jbX/8E3TVYJkKwwaahjk32Y/VtL/Rztv36vl20jZfuv+3Bb+PlQf6P+mwVGi82xfIsN9R+S/nneuuWpl10+SP1vpL9LDV1h+xX1v1P9++T/VYlUBUKoIFVKpYESkCpWHqSBEoACoCCrMVMViDzsEJQGQqGQRyzL8WIJBRGo9PSHUvxGYllKt5SeIf00EOX8BoTLvZvr76Dvvv3UwntQ/6U2n9+PCDSlcWpfhvjn0JBnofB5/Rfqt2xfNn3s+j02dv+U/7tQJ2mgxLG+bPVf+FtDnVr93ylA0xba6We3vWJ73ufl0zb2vrv+K9dv0bfr/IMpvB3U33jtXj8RpMd6kLGHj6P+p7/1UX8VK1kde1n7pOq11P9e9S+N3Uu/U3rm/C1Q/9Pf7lH/ffzG+u2R/69MamMlD5nE8vwGU7iBUyHqlZbndxCh+P/Huyg0mrro5vyrotvTz8XSGPEAKBtb3oGVnZqt/jT6ltrQ/dd/Goi6U3J2KvVOv5peK2wdifYhVLFMNn1s4Y+OzT/pOqlC/Vrrv5CGtk7t9nG6tLlTO1c/u/0fOrC41nn7obnPxkst5b9o+6T+Rv0LeZ6uPefBHfXvpf6q3p85j8fKhaf+d6h/c/kvNKm1pam9lPpfTf/CpP74q71Q7If/Py4/zl/rzhEhwnw0wmgeHV+TT33fL8/WUEohDQSiuW2JQILvFED2g91xufP+N1khOV6X4WfXYs+uNf38IKA0wOmaO97Q3QnJN1IAwAxrpaBUjOORSA71Z+Tu6z9feiwKm8jH//tVqBMbMzxLIDpuQKinZ6e89KW+/HqHn6YKSb81WkzwJDyyJxr2/umAfC7sZcntZD1D+/pva1+XwGT/h0tWc6y6OjuhurVkHvmFdwL1vxrU/671H/9+gYi+9uO5Db4igeDvBf0A9b+t/reG+t9c/+JBUWq7xFV3Pl9I/+OkdrZWUGkAAYl4PyGFjFudTjX+3y8YB+LZD3YoHkYlEKSFSlUKSm1LBxXsGhNzwZ7+8YRblSLACpOBbKod/35x2BRurz8zd1z/+4POktWkYjSeG+Wj+T5+fhK4n+0cBhOn3/HQjtkzJOonMptJ8T2oXvHC1PyTL77139a+zsfN/gERpFCxRDS/9H7rDRaT8qmI5VPGbeEdQP2vCPW/e/3Hv/Ei9tdsvhCJF1zuvBfqf0v9bw/1p/6X0b98+nH6jUQ84WwNq8X8igCD49u8r5DI11y08W+8iASr9yavOsbvF4Fk9ee8wZQ1/Xp+//t1Rj59ZbzEq0TzYNW7/trGv279Z/8+kYgAaWVSGZfevprYP7kuOqW15in28WmT7yEHM/wNBJLVpHJ4QZinM3uGRIR5IXCzmCMSAS75MP388vePkn+y4Vj/+dt/zQFkbe3LlSb9bPZfZLber6jQXHux9rHBwvgk3hbeHup/wfS9of6d0Er/MZavEtHXBpuvCPJV8yaH+p/i90n/u0uf+nfCAPRv/KRP+u25dLL6ang0wnwXIK28ws5PVt6HIy4M/MdYblMEu3kpjeIS1Nry1FJ44eSx/Ru2eekEMHv61ZN357sAqW5i8qDM1qpSv3Ocmo29/szcd/2n3wnEy+9aJz3L1xRjY21fM/ytts0LL6HO278o2dAf/N4vh5lhrWLIaA6T/REzzf7JhmP9z9aIZXGZkat/srW/9pjtv8x4uT3ex2UWU5we2uR5v+EpkB7hl4H6u+l/eah/L/SfPUNGc8wjn5PSnXKn/jfW30zX+VP/+9a/ay6n/0gppa5T6AzhdILv1/J30Ah5CLIQ08knXtLicpENFqM5dkE6qA+M9xP6p2FD/YcN9R821H/YUP9HofFNLSHEA91BAdkPdkD+3VtCCCGEEEJIJ/x36wIQ8hDM1ojlCPPJCKvCn2XMJ3+EEEIIIYR0yRWXHxNCCCGEEEIIIZeFy48JIYQQQgghhPQWTmoJIYQQQgghhPQWTmoJIYQQQgghhPQWTmoJIYQQQgghhPSWyqR2g0Xxw7+LzW1KRW4E9SeHj3wvQPWHSRZOMX2ML7o7k4VTzYfs9/5wscHJLoo/DxvJQkxH1fj5r+xmy/lMSwVy8c8N8R3z3ywKYdMQ/q2A/qPv0P4PXND+Dyka7cts33kZy2WYVnQypV+Lb0vfM3/v8LPGl/QvXdN3+y9MajOE0zkQKyiloFQMGc17fXPEB+o/eDYLjEZ/gBd565KQq5MPFhYbYPy/X/m3lTeLMyc2/WO8/EAgEqz+nO53s5gjEgHSwje55NE/KsQywtx1cDVeYqtOcZVSUGkAAYGnyeGiDRajCT5f0uM12+XhG9cu/tkQ3yH/zWKE+S5AqhSUShFghYnPwJP+o8fQ/ju1f9jsy3H8JeOSDZ/8g91+x8ttIW6eftG8beG2/G3hTumbK5D+pTMeyP6VgVhCQQQqNV1EHhbqPyRiJSFVrJRSsVQ4/D8ZFLGEAvY/ObAWkAZKAErGlf/PA1Ugiv/WXeNHLMt1XP23U/yCfz4r/vH6WEkIFaSlCxSqf2tOjf7jAaD9d2X//vZVte80EAZNfNPP70c0Gnc93Jy/Pdwv/yr0L9fgEez/v1tOqAkh98IMazWzX0bIozJe4lWuMH9bAIiQyBjbrkwiC/EWATI+ZJDhZwfI13Mz9IxfzX/zhQi/EB9frGQI3yIAwHcKYKxLpAj9B+k5Xdp/a/u6cPrZP3wmAi8fDRnbwtvinT79C3HDcFDUBl8RIF5+t7Y30keoPyHDIV9+9PWsoGKZL7N7/urn8qMWzNYxZBIhSgSCv+ZB1OZ9hUQEsFymJfv3WYmb4jsReEJx72t1j18p94p/9otfzx+AeMIE2O+/neD7NUUg/O+N9BHaP9Cx/XvZV8P4K5o378l1SP+453ayAoIPVFcP28KN+TuEW9MnN+KB7F//AjdfGsBX/EOF+g8aLu8ZNGkgPJaFPRj7JYX1ZXsHn1j4nb01I1ayumzxkG91uaHWDjX+2Su+Jv9YKohAxYEo3LtmyaXT7dF/9Bnafwf272VfLuOv3IaPZfC2330ejcZtC6/k7x1uS98A/Uun9N3+tZPafF21614a8mhQ/4HDToMMkv1AS0glawOuMyd4ulwCoRnsafbE6Safqsk/u8fX5h9LzUBdH98K/QfpJR3av4d9OY+/inZ2jv3a7PTW4ZeORwZBbflxFk4xjwSCdMulAQOE+hNCBsnmHatEIPhYY/0qAd/TOd0ywfsqadjWkeT730oUT0e2+Wd7/Mb8J08QAOTr8vT37Ac7SDxzKxsZAl3av6N9+Yy/sp+dd/o1DkuWzwgv5X9GuFP+hPhSnOGmpaULZGhQf6KU4pNQMkD2y+WqpxEf7eBCb2oNtlV9g6o9/dTgn23xbfmXr29YHnhcntnBGxhCbkb39m+zL6/x194Oi8tEnez3dLWSMJ0+bAnX5O8V3pQ+/QtpSWFSuzdqza+nJzsTL6j/sNHsGdLuLSLk8SgPYPccBlj5Nz4uMKm1DSQrn1TQLCW0+efm+C75V3yA7mYbB530H6S/XMf+TfZlt++SbWvHZab06/ZZjm8Lt+dvDrenn19G/0LaMVJKqcu88yWEEEIIIYQQQq6L4ZM+hBBCCCGEEELIfcNJLSGEEHI2GyyO34bV/y5/4BQh5D6g/RNyL3D5MSGEEEIIIYSQ3sI3tYQQQgghhBBCegsntYQQQgghhBBCegsntYQQQgghhBBCegsntYQQQgghhBBCekvDpDZDOB1hNJoizK5bIHIPUP/hctB+gSEd2JiFU017359qudjgVC/Fn38dbRaF+NMQdfMy1X/llM3akZqVMmqP3CxfMy3ccF4H5Xuc1hxAc3x7+Vzu30Y37bNz/bMQU6eTUdvVb2N8p/xd0rfeaA/9x77MTe11GiK7kv2bw832XbPftvZvjF+/d6P/cG7/Nnpq/4cUjfqa7c/FP5vSt+nrHe7dfwzVv/SLLJxq+v0eoTSkgVAQQgkIFaS6K8gjQ/0HSiwVIFQQSAVIFd+6PFclVYGAggjUocnHsvjvPFwWKiWW8KonXXooJ2io/2r+sZKAEkcDzcOb/62LU6mBQJTLU78DQ3xb+Rzu30an7bN7/etZBhUf265+bfqa83dJ30Kf/UcaKIGyvub6ubz9m8Nd7LuUm5LV+/HSVBPfoq/df9Qi+I0xem7/Lvqa7M9Wv37+Vdc+zOG2/M3hA/cvd09Bn1ge/1u0h76gmdTGSkKoID389/qFIreE+g+TWMlDRxEPtNMoDmxrg9z6oEY7EG5EY0+HTjo9hPvVf2kQkwZKVONU0omleRLpNGjyGLSWB1m2+7em1n377FT/OtX6bFe/Z8Z3HiRbU+u9/zDX5zXs3xDuYN9l6pNev/ZRjW/X13dS61eevtu/v/+rtkdz/fqmb3soUg9vN6nVlHhg/qUP5A9q9r9zO7Yb81/1ze1mMUckY6gxsLj+i2NyY6j/UJlhrWa3LsRtGS/xKleYvy0AREhkjO2lqmTzhQi/EI8Pf8gQvkUAgO8UwLhl/affSKp/mzxB4BM/GTAbZ/jZAfL13Dxaxrfevy2BK7TPLvWvkoV4iwAZHzK4sj61/NvSf/8xW8eQozn+hL+x/f0Pb5FAkF7onmztP7WEw2bflbDsHz4TgZePQ4Bv+6jGv7C+3u2v5/bf2v9dOP2avp7hV6f//oVch/Ke2izEWyQRr9l4Bgn1JwNnto4hkwhRIhD8NdvB5n2FRASwXHZCPGEC7PeXTfD9miIQ55Z0g68IEC+/8/HK7BkSEd6Oe2EyhH9WhYFwiu9E4AnFvW2aPfPRvGFPlmP8pvJd/P67oVP9C2T/Pitx29avX/x6/rb0h8AMfwOBZPWOxfsKCD6wNNz8xe3fFG61732ZDnsqJ9Xyu7WP5viONPqPMvb2dxvux/832J+pfh3St+lr1d+mr6P+w/Qv90y+V/nrWUHFEjJWUM9fZ557cVsKk9rcSSL4izvzM+QqUH9CkP1gZwiO5qeDLua7AOl26dUpp+EUo8knXlKF858dZQinc0SQeF0W3qSkAbCa7Mv3B3gNcBzTZD/YIcHqDfjIt50gv/x04MZ4uYXahykVQyYrTA6dmkN8c/kuef8d0rH+ORu8rxLI10LctvXrFV+Tvy39gTBefiAQEaJIf+9d239zuMW+D1etD/ab4uVzcjqMx7F9NMZ3wOg/Stja3w25C/+vtz+X+rWlb9PXFG7L313/4fqX+2WM5TZvM9nPDrufDJitoc7q327McSFybVMw91QOCupPDgx2z8rhsBCpZO2QDc2eKh9ime9TqdmYJk1L/ef7Xhxss5SOzp4th4WcGV9bPp/7t9FZ++xQ/2JKgdDsJWtZvx7x9fnb0veg5/5Dv9ezY/s/xz5s9XxR+/fI13Kdrf1Z6aP9e+h7ln/vvP1cLnzo/oV0y/FN7eYrApIVJselKXNESLCa2JYRkEeA+pPBs3nHKhEIPtZYv0ogmnt+bsLA5AkC0Lydk3j2eGOZhVPMI4Eg3VqXBm6+IkA+F1ZeJPv9eUUEniYNef1U31nY4zeW70L33yld6n/KBO+rpGHZXYv6dYxvzt+vfREPbO3/DPuo27eGw5JUAL72X4/vR91/ALb2d1PuwP/72F+pfs/1rzZ9DeF6fc3h9C+kc5rnu3xTN2yo/2AZ5JPQ/Kl27TTaYz20f1Pn/MkF0xsOR5vUfW6i+obEePrk/mTP2umXhvi28jnd/z7fVm8IzqJ7/feJNpa9bf066WvL39a+bqbP9ejkTa2yt3+fT7LYPyfT8EkYV/s3fXLFRV+N/3CK+8D2b9PXx7/r6vecT/rYPgnVGN6kryGc/oVcA05qSQPUf1jsO0FUf8NoA9pB4qGDzb/xcIFJTaWONcvbmut/P+jS/A7JuBzHX7qmMqAthTUsW2uOby+f+f4PlzQNarptn9fR3/5txnb1a9bXnL9b+rfS55p0Nam1t39zuNm+6/XvZ7+2+HZ97f7D4dukD23/Jn09/bu2fv36F5u++mXR54bTv5DrMFJKKc0LXEIIIYQQQggh5O75P/slhBBCCCGEEELIfcJJLSGEtGKDxej0qQfd7/IHDpH7gfoPG+o/bKg/IfcClx8TQgghhBBCCOktfFNLCCGEEEIIIaS3cFJLCCGEEEIIIaS3cFJLCCGEEEIIIaS3cFJLCCGEEEIIIaS3VCa1lVPceGTbwKD+JEM4HWE0WoDqD5MsnGIaZrcuxlXJwilGoynKt733h4sNTnZR/HnYSBZi6nQyajmfaalALv65Ib5T/pV7PMv/03/0Hdr/gQva/yHFRSH+NES5ls32nZexXIZpRSdT+rX4tvQ983cpX3v/QP/SNX23/8KkNkM4nQOxglIKSsWQ0bzXN0d8oP6DZ7PAaPQHeJG3Lgm5OvlgYbEBxv/7hV//G+ftoTbwekzGyw8EIsHqz+l+N4s5IhEgXc+O18mjf1SIZYS56+BqvMRWneIqpaDSAAICT5PDRRssRhN8vqTHa7bL8T7MxT8b4lvzzxBOi3FTBDtP/0//0WNo/53aP/IJ53wXID3YF1aYHCeOjuMvGZds+OQfbOkD4+W2EDdPvzhvtYXb8reGt/UP9C8d8kD2rwzEEgoiUKnpIvKwUP8hESsJqWKllIqlwuH/yaCIJRSw/8mBtYA0UAJQMq78fx6oAlH8t+4aP2JZruPqv53iF/zzWfEP16eBElWb9/ID9B+PAO2/K/uPlYRQQXEwFUuF6t9KwWX7TgNh0MQ3/fx+RFPmmnBz/i7la+Mf6F+uwSPY/3+3nFATQu6FGdZqZr+MkEdlvMSrXGH+tgAQIZExtl2ZRBbiLQJkfMggw88OkK/nZugZv5p/+o2kes3kCQKf+MmA2bgaWIX+g/ScLu1/84UIvxAf7ShD+BYBAL5TAFb7unD62T98JgIvHw0Z28K9aesf6F+IG4aDojb4igDx8ru1vZE+Qv0JGQ758qOvZwUVy3yZ3fNXP5cftWC2jiGTCFEiEPw1D6I27yskIoDlMi3Zv89K3BTficATintfq3v8SrlX/LNf/Fr+s2dIRHg7RsgQ/lnVJ7rkQaH9Ax3bv3hCvtI/xHQ0wfdrikA0pq4ff0Xz5j25Dukf99xOVkDwgerqYVu4MX+XcHKnPJD961/g5ksP+Ip/qFD/QcPlPYMmDYRhWdqDs19SWF+2d/CJhd/ZWzNiJavLFg/5Vpcbau1Q45+94mvyL6ZxuP84UMKwPLL59ug/+gztvwP7j6WCCFQciELamiXNpbxMNpTb8LEMXukX8mhcYmoLr+TvE97WP9C/dErf7V87qc3XVZ/RmZGHgPoPHHYaZJDsB3JCKlkb0JkGiJ65BEIz2NPsiWuYfOr9s3t8ff4azvUD9B+kl3Ro/7HUTIR97LspzeI+U7f0tfGvGc5JLemQ2vLjLJxiHgkE6ba+9IA8PNSfEDJINu9YJQLBxxrrVwnoTv9snwneV0nDto4k3/9Wong6ss0/2+Ob86+U9CsC5DO4k40Mgi7tf/IEAUC+Lk92l/1gB4nngoH5jL+yn513+jUOS5bPCC/lf0Y4IZ1QnOGmpaULZGhQf6KU4pNQMkD2y+WqpxEf7eBCb2oNtlV9g6o9/dTgn23xbfmXL2tY/nhcntniDQ4hd0f39l+2x/ryXq/x194Oi8tEbelXSqMkTKcfW8I1+TuHm/wD/QtpSWFSuzdqza+nJzsTL6j/sNHsGdLuLSLk8dBO4g4DrPwbHxeY1NoGkpVPKmiWEtr8c3N8e/5On3NoHHTSf5D+ch37r9hIKTG7fZfsUzsuM6Vft89yfFu4PX9zuKN/oH8hLRkppdRFXvkSQgghhBBCCCFXxvBJH0IIIYQQQggh5L7hpJYQQgg5mw0Wx2/D6n+XP3CKEHIf0P4JuRe4/JgQQgghhBBCSG/hm1pCCCGEEEIIIb2Fk1pCCCGEEEIIIb2Fk1pCCCGEEEIIIb2Fk1pCCCGEEEIIIb2lNKnNwmn51DYe2TYoqD/ZLAr6T0NkHnFt7adtOLkOWTjFNPRRvv/kbW+K8m3vTzVdbABkCKfVU00XcG6hWYip08mo5XympQJVTlnV2odH/Kb7bWV/h/w96ubm7Musud/N4uAHW+pfTM/gX83hlTKc5T+b24df/KZ7N7U/c/nd6KZ9dW7/hxSN+prtr6ZPrX7N6V+8f9bkv79yX1fV+rxf/cmJ3vf/qpFYSUDJuPkK8shQ/6ERSyiIQKVKKaVSFQgonN0AbO2nbTi5LLneMlZKxfL431N7eHT27b1wvzp7KLbHWEIBUp3dRNNACQgVHCs4b/Mi0NV4NX/dtfb4xbA0EIb7M6XVQCwVIFQQyHb1cgvSQImqvynp015/m381h1f1q+tZyU3jP3001cS36uvT/mzl1xWpy/bVvf276GuyvzQQxv7Yr//2739t+ZeuE6Li2+5d/6HzOP2/YVJ7RqMjDwT1HxaxkqVOSJ06kbOagK39tA0nXZAP1Pa/oT1RKE5sapOc+qBWOxHyIJaaSY1HYuVBrC1+0ySleXBYTd9SGiUPaVnSvVfM9dlWf5t/tYSngRLVOjXWc91/+rWvany7vsb0vctf5Qrtq1P79+9fq+3RPKn0Td+//3Wb1B7KUSlPH/QnD9H//9f4Cjf7h89E4OVjfKV3xuSuoP7DYvOFCL8QH+XOEL5FAIDvFIBvM7C1n7bhhFya8RKvcoX52wJAhETG2M46yisL8RYBMj5kkOFnB8jXczO0xZ/hbyAwmU/xlG6xHG+wmEcQQYrL3OIMa9VVZV2H2TqGHM3xJ/yN7e9/eIsEgvRC92Tzr6klHN9IqmlOniDwiZ8MmFXdZM1/eravWnybvpb0U8/y17hC++rS/i/dv7ZNv6P+d7OYI5Ix1BhYFAP6oD95CGoHRR3X5E9WQPCBJceUg4L6DxjxhAmw3/83wfdrikD4JWFrP23DSVfke5W+nhVULCFjBfX85b2vuu/M1jFkEiFKBIK/5kHU5n2FRASwXKYl+/dZiZviOxF4QnHvbXVPWil3fEWAePm9H6/a44+XW6j4F1aTEUajORArbBsNrJr+EMgn/snqHYt3u//x1t/mX03hs2dIRHg7Cpoh/LOqTRSa/adb+zrf/1rSdyz/renU/r361wb7i+bNe3Id0m/d/5ryz0K8RRLxWlMhPdF/uDxO/1+b1M7WCkopKJXi5XPCw1oGBvUfNmk4xWjyiZdUQdc32bC1n7bhpCvGWG5zzbOfHXY/GTBbQ22XA5rUAMh+sDMER/PTQSfzXYD0rPrZ4H2VQL4W4mY/2CHB6g34yLcFIQ2A1UR3IEqGcDpHBInXw6jTIX4WTjGa7xCk+cAlmpsOeqmkPxDGyw8EIkIU6e+9rf42/9ocPsM6F3Sf/x/gNUB1TtToPx3b19n+15q+W/lvTsf279a/6u1vvNzutVFQKoZMVphUJh229Nv0v+b880kqgr8NKz96ov9geaD+37g4mWvXhw31Hw6xzPdRlPbQtTysydZ+2oYTclEOh8VIJWuHrGj21J2bS+mApgOaPXEN9pfve9Jda4pvOPinsq1On74HPbdb/d7Qlvrb/Os5/tfLf7q3L2v62r9fMH0bnbWvDu3fQ19n+yvWQ+ftxyH/Wt6We7g7/ckjYP9O7WFJAxkm1H8YTJ4gAM3bI4nnNltZbO2nbTghl2LzjlUiEHyssX6VQDTH5RcK5G9p9ct6k/3+ySICTwUDyMIp5pFAkG41S0MN8bMf7CppHWy+iDl9cjY2/3qG/918RYB8Nu+JLvlPe/syx7fhl75T+a9Jl/bvqK+P/WU/hXfK5/bfLfrfYv6brwhIVpgcl57PESHJtzo0LGG9O/3JY9A83z3jSH/yQFD/oeH0SYD9iY/2J6W29tM2nJBLkre32mnEx3Z+oTe1hrcM1Te42tNPDW8/zPFt92dPf3+R3f57/ialkze1yu5ffT7JYv+cTMMnYQztyxa/kLk2b5/0G8t/s/bVvf3b9HWyv9PFSkBzurXnJ33O7n81+dfjW052viv9yaNQmNTujQCnX09PdCZnQf1JpQ3oGkBjp2NrP23DCekO7SDr0Nbzb3xcYFJrf1BT+qSCZikhNL/6tzN18XVpFO/XLX0f+89/LZYx34iuJrV2/2oON39uw81/NrcPf/+s01UcXuwAACAASURBVNfU/pw+F3Kj9nUd+zfpa7e/Uv1p9TWl377/tedfuro2qb1n/cnjMFJKKde3uoQQQgghhBBCyD1h31NLCCGEEEIIIYTcKZzUEkIIIWezwWJ0+tSH7scvUz0y1H/YUH9C7gUuPyaEEEIIIYQQ0lv4ppYQQgghhBBCSG/hpJYQQgghhBBCSG/hpJYQQgghhBBCSG/hpJYQQgghhBBCSG9pmNRmCKcjjEZThNl1C0TuAeo/XA7aLzCkAxuzcKpp7/tTLRcbnOql+POvo82iEH8aom5epvqvnLJZO1KzUkbtkZvla6aFG87roHyP05oDaI7vXf6z/Es37bNz/bMQU6eTUU31a9PfM762/m36Wm+0h/5jX2ZNfW4WBzu9jv2bw832XbPftvZvjF+5d4f27Za+jZ7a/yFFo75m+3bxz6b0bfXvHd7oH5rGj/fr/8mJLJye4ffvCKUhDYSCEEpAqCDVXUEeGeo/UGKpAKGCQCpAqvjW5bkqqQoEFESgDk0+lsV/5+GyUCmxhFc96dJDOUFD/Vfzj5UElDgaaB7e/G9dnEoNBKJcnvodGOO7lL8YN/czp/q20mn77F7/epZBxcea6temv1t8c/1b9LXRZ/+RBkqgrG9Zn+7t3xzuYt+l3JSs3o+Xvpr4vvrW2retfLYi9dv+XfQ12bfNP1v7l/LVlvqvh9v7h8J1tfHjvfv/oVNof7E8/tdLnztBM6mNlYRQQXr47/ULRW4J9R8msZKHjiIeaKdRHNjWBrn1QY12INyIxp4OnXR6CPer/9IgJg2UqMappBNL0yDHcdBkHCSZyt80SHZtZ1don53qX6danzZ9tPGrg3CfQaxn+7CUpvf+w1yf17B/Q7iDfZepTyL89K3GP9M/NeZnm5TXUuu5/dv018SotEezf/ZN31b/DZNQ6802jR974P/J/kHN/nd2X3Bb/qu+ud0s5ohkDDUGFtd/cUxuDPUfKjOs1ezWhbgt4yVe5QrztwWACImMsb1UlWy+EOEX4vHhDxnCtwgA8J0CGLes//QbSfVvkycIfOInA2bjDD87QL6em4ctvq38M/wNBCbzKZ7SLZbjDRbzCCJI4VaiK7TPLvWvkoV4iwAZHzLoXh9z/bfNv//+Y7aOIUdz/Al/Y/v7H94igSC90D3Z7D+1hMNm35Ww7B8+E4GXj0OAp761+J761tq3LX0bPbd/q/+/cvq2+vfWZ1+MxvFjD/w/eQjKe2qzEG+RRLxm4xkk1J8MnNk6hkwiRIlA8NdsB5v3FRIRwHLZCfGECbDffzbB92uKQJxb0g2+IkC8/M7HK7NnSER4O+6FyRD+WRUGwim+E4EnFPe+afY0RfOGPVmO8Q2Ml1uo+BdWkxFGozkQK2yXbUdzl6VT/Qtk/z4rcX3rt6K/Q3xz/bfXt//kA+9k9Y7F+woIPmBqnhe3f1O41b73ZTrsqZxUy++mb3N8P+rt+7Lpd8X9+P+qfe9p9M9u6dvq36qPKX/L+LEP/n+45HuVv54VVCwhYwX1/NVw7sd9U5jU5k4SwV/HJyfksaD+hCD7wc4QHM1PB13MdwHS7dLrIXsaTjGafOIlVTj/2VGGcDpHBInXZeFNShoAq8m+fH+A1wDHMU32gx0SrN6Aj3zbCfLLTwdujJdbqH2YUjFkssLk0Kk5xLeWOpxiNN8hSPOOM5qfcxBRx3Ssf84G76sE8rUQ16t+Nfo7xDfW/wX0fQTGyw8EIkIUFW3rRNf23xxuse/DVeuD/aZ4+ZycDvtx1Lcxvhea9n3R9DvkLvy/zr9b/LNj+rb6N4Wb87ePH3vh/wfLGMtt3maynx12PxkwW0Od1b/dmONC5NqmYO6pHBTUnxwY7J6Vw2EhUsnaIRuaPVU+xDLfp6I5mKeWpqX+830vDrZZSkdnz5bDQs6N77Wn9gwf01n77FD/YkraA1Lc61evvy2+rf7PaB9N9Nx/6PeCdmz/Pv6hlKahni9q/+75Oh8AdG476aP9e+h7ln/vvP045G8cP/bB/5NH4PimdvMVAckKk+PSlDkiJPlSgR6+giZ+UH8yeDbvWCUCwcca61cJRHNc7EXC5AkC0Lydk3j22qo2xTwSCNKtdene5isC5HPhyXmy359XROBp0pDXT/WdhV/8SmLYVa/d18nd0KX+p0zwvkrqywoBuNSvWX9DfKf6b6EvMWOz/zP8Q92+NRyWpAI4S99SfBdM7fsS6XfIHfh/H/9e8s/n9i+2+jeEF/O3jh/74P/JY9A83+WbumFD/QfLIJ+E5k+Sa6fRHuuh/Zs6508uNNR/GgjnJ9u6z01U36BUT9esZKaE7pMSLvENb2qb67ecb6s3CGfRvf77RBvLbqtfm/7m+Pb6d9L3Zvpcj07e1Cq7/ft8ksX+OZmGT8K42r/p8z8mfZ21b0j/ge3fpq+Pf9f553M+6WP7JFRjuCb/evz6m9r79f/kUeCkljRA/YfFvhNE9TeMNmDsYPNvPFxgUlOpY83ytub63w8KNL9DMi7H8ZeuqQxoS2ENy9aa47u0n+o9aAYmjYOabtvndfS3fye0uX7t+pvj69Ko1785vrqZPtekq0mt2f7t4Wb7rtd/W/stx3e3b9N3km3le2z7N+nr6d+19efXv9j01S+LtuhXuh/9cvd79P/kcRgppZThRS4hhBBCCCGEEHK3/J/9EkIIIYQQQggh5D7hpJYQQlqxwWJ0+tSD7ndvX64gl4T6DxvqP2yoPyH3ApcfE0IIIYQQQgjpLXxTSwghhBBCCCGkt3BSSwghhBBCCCGkt3BSSwghhBBCCCGkt3BSSwghhBBCCCGkt5QmtVk4LZ/axiPbBgX1J0CGcDrCaLQA1R8mWTjFNMxuXYyrkvu+Kcq3vT/VdLHByS6KPw8byUJMnU5GLeczLRWocsqq1j97xG+638Zwpxvtof/Yl1lTn5vFCKNpiKyt/sX0DvGnIarVaw6vlKFSXrf+u7l9+MWv3LtD+66lX2ufLnTTvjq3/0OKRn3N9u1Sf6b0bfp6hzfqd6irQn06+z8bffQv/aL3/b9qJFYSUDJuvoI8MtR/cMRSAUIFgVSAVJR+SKQqEHt7j+XxvxCBSm9dtKuQ33/xfmNZ/HehforhbewkDZSAUMGxgnOfKwJdjVfz111rj18MSwNRu7/mcAf67D/SQIlqf1fSp73+uvaEQoLm8Ko+db0quWn6b1P7cIjvq2+lfaeBKN2vN522r+7t30Vfk33b6s/WvipXW8Z39XBX/XK/ISq+TXuh/ZpSkXrsX+6ex+n/DZNam9Mkjw31HxaxkoeOImanMVTygdr+N7QnWsWJTW2SUx/UaidCHsRSM6nxSKw8iLXFb5qkHOzcFm4tTe/9h7k+2+ofK1kdwB8G6alDeBooUa1TYz3X+2+/9lWN769vNb92k9ortK9O7d+mvyZGpT2a6883fdv4ruEhl/VmD+XQlKd6pVd77L9/6QOP0P//1/gKN/uHz0Tg5WN8pXfG5K6g/gNjhrWa3boQhNyO8RKvcoX52wJAhETG2HZlElmItwiQ8SGDDD87QL6em6Et/gx/A4HJfIqndIvleIPFPIIIUsycwm3033/M1jHkaI4/4W9sf//DWyQQpBe6p80XIvxCfOxOM4RvEQDgOwWQWsLxjaSa5uQJAp/4yYBZtZuu9d+e7asW31PfWvtuyxXaV5f2b9O/7TDLN33b+O7M8d9mMUckY6gxsDBd6N0++u9fyHWoHRR1XJM/WQHBB5ac0wwK6k/IEMn3Kn09K6hYQsYK6vlLu+/vkZmtY8gkQpQIBH/Ng6jN+wqJCGC5TEv277MSN8V3IvCE4t4z057WDb4iQLz83o9X7fHHyy1U/AuryQij0RyIFbYFB28Lf3zyiX2yesfi3d7/eesvnjAB9vsLJ/h+TREIx/DZMyQivJ02KSL8s6pNdJv7b7f2dan+v96+90Rz457iW9Op/dv0L6dese89pvpzSN+mr1V/U/5ZiLdIIl7bK6SxfZAb8UD9f/NLXNuafPLYUP/BwuU9gyYNxHC3HeyXFNaX7e39IQq/s/cbaZb6HvKtLjfU2uGhLIUwh/j5v/f3FUsF3Z49Q7j77fXZf2jqtvT3M/Xf70+Li3Vc2cdmDFeq0Db37TM27Ums9N9e7UsTv3ovRn1dzuPIrznLhrpsX13Zv4u+tbzsdXwsg1f6hTwaRXLbk9u8J9+0/LjleS299i/3T9/7f8OkVrHxDB3qP0yoOxkkh8NipJK1AZ1pgOiZi/YAJt0gUD/4y/c96a41xTcc/JO6hHvQc/+h3+vXUv/9Q4Ky7oU6t4U3pmmo59qeabf2ZU3fkq/zAWPntpPO2leH9u+hr96+m9Is7jPtsv045F/LW38P3gfQ+ZaLDBr7d2oPSxrIMKH+hJAhsHnHKhEIPtZYv0ogmnt+bsIpE7yvkvqyQgBAst8/WUTgqeCAs3CKeSQQpFvN0lBD/OwHu0pa+Z7MQ8KWcNKOfV3K1+VJ9+wHO0g8zxzCNWy+IkA+m/c8l/pve/syx3fB1L7LZD87r5Q7p0v7d9TXbN9lSvV3RvsBYNfXEF7Mf/MVAckKk+PS9jkiJPlWhtISVvf2QchZNM93fY5/J48H9R8sfBJKBsd+OV31NOKjHVzoTa3BtqpvMLSnnxre4Jjj2+7PFn7MZL88s8Ubnjunkze1qqqH7yd9NGk5LE81faKp2r5s8QuZN+ftqv2+HdXSv1n76t7+bfra7LuEpv7O+aSP7ZNQjeFN+pXia+7Fpt0A/AvplsKktr5ngNsphwT1HzaaPUPavUWEPB7GCVz+jY8LTGrtDwpLn1TQLCWs26fu25lNe/6qaVQHhrZwZRh0Po7/6GpSW6ujhjyaws2f23Drv5vbhy2+i77m9l3Ku2l8caP2dR37N+lrt297/ZnS99dXvyzadXzYvNzd+KJkAP6FdMtIKaXOesVLCCGEEEIIIYTcGPueWkIIIYQQQggh5E7hpJYQQgg5mw0WxwNS9L/LHzhF7gfqP2yoPyH3ApcfE0IIIYQQQgjpLXxTSwghhBBCCCGkt3BSSwghhBBCCCGkt3BSSwghhBBCCCGkt3BSSwghhBBCCCGktzRMajOE0xFGoynC7LoFIvcA9R8qm0Xh1MZpCB/5s3BaO/Vx2pMGlJe92t73p1ouNjjZRPG3gO+hlvb6PeSjS7tyymbtSM1KGbVHbpavmRZu2E2/5vj28tnCXTDVz/l0rn8WYup0Mmqb+rXFN7QP5/JZb7QTfbplX2bNjW4WBzu9jv2bw832XbPftvZvjO/gn7Tjh7bto6f2f0jRqK/Zvl38syl9m77e4T79x6D9S7/Iwmlvxm1alIY0EApCKAGhglR3BXlkqP8wiSUURKByyVMVCCjI2Dl+Ggiv6++L/f0e719fH8XbiyUUIJXrHVvrN5YKECoIpCbdav6xkoASRwPNw5v/rYtTqQGrfqb4buVrDnfAWD9t6V7/epZBxce2qV+3+Ob2YSufhU716Zg0UAJlfcv33739m8N99cvbQtmcfWxOE9/BPxXTzscRJ3tq3T56bv8u+prs2+af/fpvXfswh9vy9+7/h+Rf7p5C+4vl8b8l++0JmkltrCSECtLDf69fKHJLqP8w0eh96EQc20C/J7WqPLCtDXLrgxrtQLgRW/3GSh466tit0y4NYtJAiWqcSjqxND+kcBo0eehbHmT5h1eu9q4fbzrVv061PtvWrzG+Q/uwlc9Smu716RhzfV7D/g3h3vrVJ5l+elbj2/RtmgQfrmvbPvpu//79a7U9mv2zb/q2hyINDykuOKkdmn/pA/mDmv2vp2O5/6pvbjeLOSIZQ42BxfVfHJMbQ/0HyuYLEX4hHh/+kCF8iwAA3ymAcVPEB2K8xKtcYf62ABAhkTG2swulba3fGdaqRWbpN5Lq3yZPEPjETwbMxhl+doB8PTePtvHb0rJ+XOhS/ypZiLcIkPEhg471sbYPW/lsXEGfjpmtY8jRHH/C39j+/oe3SCBIL3RPNvtPLeHw1e8fPhOBl49DgGf7qsW36TvD30BgMp/iKd1iOd5gMY8gghQzp/g2em7/XfevvunX9PUMb8sA/Qu5DuU9tVmIt0giXrPxDBLqP2zEEybAfv/LBN+vKQLhmUY0P3tP7j0wW8eQSYQoEQj+mu1g875CIgJYLjtxifo95Y6vCBAvv/PxyuwZEhHejnthMoR/VoWBcIrvROAJxb1Nmj1vjfo5xm8qn3f4behU/wLZv89K3Lb1a4lvbR+28g2BfGKWrN6xeF8BwQeWhsZ5cfs3hTvqd9xTOamW3619Nce3M15uoeJfWE1GGI3mQKyw9UngDrgf/9/gH039q0P6Nn2t+tv6d8f+f5j+5Z7J9yp/PSuoWELGCur5q5djuMKkNneSCP6C7WyIUH8CpOEUo8knXlIF32cb4+UWKt/SAKViyGSFSd+cYvaDnSE4mp8OuJjvAqTbpdekrE39FgqJcDpHBInXZeFNShoAq8m+fH+A1wDHMU32gx0SrN6Aj71G+eWnAzeM+jnEN5fPJ/yGdKx/zgbvqwTytRC3bf1a41vah618A2G8/EAgIkSRvm12bf/N4W76zdYH+03x8jk5Hfbj2L4a4zuQhVOM5jsEaT4wjub9OSjwyF34f71/dOlfbenb9DWF2/J37/+H61/ulzGW27zNZD877H4yYLaGOqt/uzHHhci1TcHcUzkoqP+wiWW+j6LWBs7fM9i/vS+Hw0KkkrVDNjR7qnzwqV+XvY4utlnb01aNY9H3zPi28jmXv4nO2lWH+hdTqh6go5RqX79t9bWVz4Pe2X0Z/V6/ju3/HP9rq+eL2r/t74aDpaoNqW376KP9e+h7ln/vvP1cLnzo/oV0y/FN7eYrApIVJselKXNESPKlJH1720K8of4DZ/IEAWjeHkk8n/lGMfsxPfO+QzbvWCUCwcca61cJRHPPzw0YuFD9ZuEU80ggSLfWpYGbrwiQz4WVF8l+f14RgadJQ141/ezxbeXzKf/V6VL/UyZ4XyUNy67b1q+fvvX2YSsfORub/Z/hH/T6VTgsSQXg2z7q8Q1kP9hV09rfU2+4A//v4x9L/vnc/sWmryHc1r/rw+lfSMc0z3f5pm7YUP+h4fRJgP2Jj9YnpfvrvD7ZclPyp9q102iP99n+TZ3zJxdMT7gdbVL3uYnqE3Lj6cMa/WzxbeVzKr9L++rkSX33+u8TbSz7RerXUd/Gz5HY6vZm+lyPTt7UKrv9+3ySxf45mYZPwrjav+nzP4Y3tc32Y4t/LOTD2r9NXx//rvPP53zSx/ZJqMZwW//eFE7/QjqGk1rSAPUfHvuO0HSku6HTKR0H32bZ8g3QDsAO95p/4+ECkxpT/VbCjr/iJz904acyuRzHX7qmMqB10a85vq189vLn1dDUvmz1047r6G//Tuj59WuL79I+HL5jeiN9rklXk1q7fzWHm/Wr17+f/driu+hbbaPFNuLYPh7a/k36evp3rb5+/YtNX/2y6PPD6V/INRgppZTuDS4hhBBCCCGEEHLv/J/9EkIIIYQQQggh5D7hpJYQQlqxwWJ0+tSD7nf5A4fI/UD9hw31HzbUn5B7gcuPCSGEEEIIIYT0Fr6pJYQQQgghhBDSWzipJYQQQgghhBDSWzipJYQQQgghhBDSWzipJYQQQgghhBDSW0qT2iyclk9t45Ftg4L6EyBDOB1hNFqA6g+TLJxiGma3LsZVyX3fFOXb3p9qutjgZBfFn4eNZCGmTiejlvOZlgpUOWW1GNE7fV3ZDek700f/sS+z5n43ixFG0xBZW/2L6R3iT0NUrcwcXilDpbxu/Xdz+/KL79B+avZUTaMp3EQ37atz+z+kaNTXbH81fWr+wZy+TV/vcFv78Qx3o4/+pV/0vv9XjcRKAkrGzVeQR4b6D45YKkCoIJAKkIrSD4lUBWJv77E8/hciUOmti3YV8vsv3m8si/8u1E8xvI2dpIESECo4VnDuc0Wgq/Fq/qZrG9I32vcZ6Vfps/9IAyWq/V2p/trrr2tPKCRoDs//fdKj+u9abpr+20dTTXyH9lNMOw2E1n/kfxeVtu9SpC7bV/f276Kvyf7SQJTai1/6tast47t6uC3/tuFW+uxf7p7H6f8Nk1qb0ySPDfUfFrGSh44iZqcxVPKB2v43tCdaxYlNbZJTH9RqJ0IexFIzqfFIrDyItaXvb9+29CtX995/VO+3XH9t9Y+VrE7iDoP01CE8DZSo1qmxnuv9t1/7qsa36ds0CdZdJ1SQau7XyBXaV6f2b9NfE6PSHs2TQt/0beO7hocUN5vU9t+/9IFH6P//a3yFm/3DZyLw8jG+0jtjcldQ/4Exw1rNbl0IQm7HeIlXucL8bQEgQiJjbLsyiSzEWwTI+JBBhp8dIF8vlGEt/a7tu//+Y7aOIUdz/Al/Y/v7H94igSC90D1tvhDhF+Jjd5ohfIsAAN8pgNQSjm8k1TQnTxD4xE8GzKrddK3/9mxftfg2fWf4GwhM5lM8pVssxxss5hFEkKIYa7OYI5Ix1BhYuJXEMf8L0KX92/RvO8zyTd82vru78V///Qu5DrWDoo5r8icrIPjA8l7aNLkK1J+QIZLvVfp6VlCxhIwV1POXdt/fIzNbx5BJhCgRCP6aB1Gb9xUSEcBymZbs32clborvROAJxb2xpj2HG3xFgHj5rR0P19P3xZz+Y5JPzJLVOxbv9v7PW3/xhAmw3/88wfdrikA4hs+eIRHh7dggMoR/VrWJbnP/7da+2vT/4+UWKv6F1WSE0WgOxArbYgJZiLdIIl7f7+SkU/u36V9OXW9/0bx5T65D+jZ9rfqb8r9EOLkRj9P/1ya1s7WCUgpKpXj5nPCwoIFB/QkZImMstwrrGZD97LD7yYDZGmq7HNCkBkD2g50hOJqfDjmZ7wKkZ9XPBu+rBPK1EDf7wQ4JVm/AR74tCGkArCa6A1EyhNM5Iki8amcdmvS9sKX/uIyXHwhEhCjS33tb/dNwitHkEy9pbmvu4TOs8waxz/8P8BqgOidq7L8d21eb/j8LpxjNdwjSfGAczYsHAeWTcAR/cb9TWnRu/zb994XQ2t94ud1ro6BUDJmsMKlMOmzp2/Q1hdvybxtObskD9f/Gxclcuz5sqP8woe5kkBwOi5FK1g5Z0eypOzcX7QE6uj2G+sNc8n1PzXvxmg7oKSRgtG9b+lZ67j/0e09b6h/LfJ9aSZeCvrbwxjQN9VwKd29f1vS99tTu86wdOuO7p9ahXK3p0P499HW2v2I9dN5+bhB+6XhkENi/U3tY0kCGCfUnhAyBzTtWiUDwscb6VQLRHJdfqJK/RdUv6032+yeLCDwVHHAWTjGPBIJ027A01JS+HXv65CwmTxCA5u28xPPMIVzD5isC5LP5zWep/7a3L3N8A9kPdtW09vd0LGuywuS49HmOCEm+VPle3tZ1af+O+vrYX/ZTeKd8RvsBYNfXEF7Kv4NwQs6ieb57xpH+5IGg/oOFT0LJ4Mj9Xe004qMdXOhNrcG2qm9Ytaef2t7guNhuwzVO6e9PfO3kDcyd0MmbWlXV0/eTPpq0jHXc8EkYQ/uyxS9k3vimttl+dOlr2trN2lf39m/T18n+ThcrAc3p1p6f9LF9EqoxXJP/RcIH4F9ItxQmtXsjwOnX0xOdyVlQ/2FT1z//tViGSEhP0A7ADwOs/BsfF5jU2h8Ulj6poFlKWLdP12/L2uzbJX1lGHQ+jv/oalJbq6OGPJrCzZ/bcOu/m9uXLb6LvtU2ZJt0+0xqu21f17F/k752+ytpp9XXlL6/vvpl0d2F58V4fP9CumWklFJer3YJIYQQQgghhJA7wb6nlhBCCCGEEEIIuVM4qSWEEELOZoPF6PSpD92PX0Z7ZKj/sKH+hNwLXH5MCCGEEEIIIaS38E0tIYQQQgghhJDewkktIYQQQgghhJDewkktIYQQQgghhJDewkktIYQQQgghhJDeUpnUVk5x45FtA4P6kwzhdITRaAGqP0yycIppmN26GFclC6cYjaYo3/beHy42ONlF8edhI1mIqdPJqOV8pqUCGfyzd/r1sud10Nb/03/0Hdr/gQva/yHFRSH+NES5ls3jr5p91vyDOX2bfXuHV/J3Kd/+yn1dVuvbBfqXrum7/RcmtRnC6RyIFZRSUCqGjOa9vjniA/UfPJsFRqM/wIu8dUnI1ckHC4sNMP7fL/z63zhvD7WB12MyXn4gEAlWf073u1nMEYkA6Xp2vE4e/aNCLCPMXQdX4yW26hRXKQWVBhAQeJocLtpgMZrg8yU9XrNdjvdhFv/skr7FvsfLbSF+nr7XvJb+o8fQ/ju1f+QTzvkuQKoUlEoRYIXJ0cAcx18yLtn4yT/Y0rfbt5P9G/J3CgeQhX+wgoBwrLfCDdK/dMYD2b8yEEsoiEClpovIw0L9h0SsJKSKlVIqlgqH/yeDIpZQwP4nB9YC0kAJQMm48v95oApE8d+6a/yIZbmOq/92im/wz+X0fO07v18RuHp/+o9HgPbflf3HSkKokjnFUqH6t1Jw2b7TQBg08U3fZt/1cHP+9vByOTXltcajf+maR7D//245oSaE3AszrNXMfhkhj8p4iVe5wvxtASBCImNsuzKJLMRbBMj4kEGGnx0gXy+UYS19T/vO/uEzEXj5qL9p0UP/QXpOl/a/+UKEX4iP5pQhfIsAAN8pAFczu1T6Nvv2tn/HYi7miGQMNQYWXjHpX4gbhoOiNviKAPHyu7W9kT5C/QkZDvnyo69nBRXLfJnd81c/lx+1YLaOIZMIUSIQ/DUPojbvKyQigOUyLdm/z0rcFN+JwBOKe2NNe87M/rmevhvHPXmTFRB8QLN6kDwktH+gY/sXT5gA+/3vE3y/pgga1+A22Hc0b96T65C+zb6t9m/K3xaehXiLJOI1J6f3x+PYf8OkNl/fH0Hilb3aAKH+hAyLMZZbhfUMyH522P1kwGwNtV0O66FWDEHiTwAAAqJJREFU9oOdITianw5Bme8CpGfVzwbvqwTytRA3+8EOCVZvwMd+P1oaAKuJbs+ezT9r0ndktj7sh0vx8jnhYYGDgfYPoHP7T8MpRpNPvKR5XTcUQmvftT2vyQqTyqTDlr7Nvk3htvzN4RnCPysg+AtOae+RB7J/3ZrkfF21z3p38khQ/4HDPStkkOT7yCCkkqK6p0izp+7cXAKh2Qur22MWK6nZs2fzz/r0Swm42fe5foD+g/SSDu0/lvk+xZJdnmff5TSL+0zd0tfG7zo8lpqynTnGpH8hBmpvarNwinkkEKRbLj0aINSfEDJINu9YJQLBxxrrVwn4nv7rlgneV0nDsuEk3/9Wong6sot/NqV/BocljYQ8Ol3a/+QJAtCszpB4Lry69Bl/ZT+Fd8qO6dew2bchvJS/JXzzFQHJCpPj1oo5IiRYTRqWMRNyLsUZbhoIvqEbMNSfKKX4JJQMkPytRu004qMdXOhNrcG2qm9Ytaef2vyzi+062XdeH7XTUfcnvrZ6g0PI3dG9/Zftef9WuJCg1/hrb4dF+7SlXymN3r5dwzX5e4U3vamlfyEtKUxq90at+fX0ZGfiBfUfNvtOsKY/H3KQx6c8gN1zGGDl3/i4wKTWNpCsfFJBs5TQ7J9N6dvsux6uvdfGQSf9B+kv17H/io2UErPbd8k3aO3TlL7Nvu32b8vfXr7S1Z6TWvoX4sZIKaUu886XEEIIIYQQQgi5LoZP+hBCCCGEEEIIIfcNJ7WEEELI2WywGJ0+9aH78cs4hDwqtH9C7gUuPyaEEEIIIYQQ0lv4ppYQQgghhBBCSG/hpJYQQgghhBBCSG/hpJYQQgghhBBCSG/hpJYQQgghhBBCSG/hpJYQQgghhBBCSG/hpJYQQgghhBBCSG/5f011m2E/Lj9mAAAAAElFTkSuQmCC)"
      ],
      "metadata": {
        "id": "3F_u9aHlKIym"
      }
    },
    {
      "cell_type": "markdown",
      "source": [
        "## Пример работы с bedtools"
      ],
      "metadata": {
        "id": "Jek4Q-uu2IN0"
      }
    },
    {
      "cell_type": "code",
      "source": [
        "## \"это файлы бед для примера\"\n",
        "f = open('Test1.bed', 'a') \n",
        "f.write(\"chr1{0}300{0}500{0}+{1}chr1{0}800{0}1000{0}+\".format('\\t','\\n'))\n",
        "f.close()\n",
        "f2 = open('Test2.bed', 'a') \n",
        "f2.write(\"chr1{0}400{0}600{0}+{1}chr1{0}3{0}103{0}-\".format('\\t','\\n'))\n",
        "f2.close()"
      ],
      "metadata": {
        "id": "7NB1Y1mo2L3L"
      },
      "execution_count": null,
      "outputs": []
    },
    {
      "cell_type": "code",
      "source": [
        "!  head Test1.bed"
      ],
      "metadata": {
        "colab": {
          "base_uri": "https://localhost:8080/"
        },
        "id": "9QY7BktX2UJh",
        "outputId": "ff033703-458f-4a7c-d31f-abc64ca360ed"
      },
      "execution_count": null,
      "outputs": [
        {
          "output_type": "stream",
          "name": "stdout",
          "text": [
            "chr1\t300\t500\t+\n",
            "chr1\t800\t1000\t+"
          ]
        }
      ]
    },
    {
      "cell_type": "code",
      "source": [
        "! head Test2.bed"
      ],
      "metadata": {
        "colab": {
          "base_uri": "https://localhost:8080/"
        },
        "id": "-BQ405xS2VkR",
        "outputId": "70fa76e1-be8b-48a4-a7fd-20cf17f676bc"
      },
      "execution_count": null,
      "outputs": [
        {
          "output_type": "stream",
          "name": "stdout",
          "text": [
            "chr1\t400\t600\t+\n",
            "chr1\t3\t103\t-"
          ]
        }
      ]
    },
    {
      "cell_type": "code",
      "source": [
        ""
      ],
      "metadata": {
        "id": "PbBoTs8tUqYN"
      },
      "execution_count": null,
      "outputs": []
    },
    {
      "cell_type": "markdown",
      "source": [
        "Для нахождения пересекающихся участков нам понадобится утилита ***intersect*** пакета bedtools ([подробная документация с примерами](https://bedtools.readthedocs.io/en/latest/content/tools/intersect.html))"
      ],
      "metadata": {
        "id": "cBYtIYTw2a-r"
      }
    },
    {
      "cell_type": "code",
      "source": [
        "! intersectBed -a Test1.bed -b Test2.bed -wb\n",
        "# wb -сохранить имена второго файла"
      ],
      "metadata": {
        "colab": {
          "base_uri": "https://localhost:8080/"
        },
        "id": "LeP41MC52ZY-",
        "outputId": "bc42e384-5874-4d7b-a5a6-628c01c0398f"
      },
      "execution_count": null,
      "outputs": [
        {
          "output_type": "stream",
          "name": "stdout",
          "text": [
            "chr1\t400\t500\t+\tchr1\t400\t600\t+\n"
          ]
        }
      ]
    },
    {
      "cell_type": "markdown",
      "source": [
        "Визуализация структуры генов (для оценки консервативности z-dna в генах)"
      ],
      "metadata": {
        "id": "VPe8NXuY2kf2"
      }
    },
    {
      "cell_type": "code",
      "source": [
        "! pip install dna_features_viewer\n"
      ],
      "metadata": {
        "colab": {
          "base_uri": "https://localhost:8080/",
          "height": 696
        },
        "id": "xEmf6wvJwT8E",
        "outputId": "3e01f58a-69b7-49d7-efaf-e9fd69826c37"
      },
      "execution_count": 114,
      "outputs": [
        {
          "output_type": "stream",
          "name": "stdout",
          "text": [
            "Looking in indexes: https://pypi.org/simple, https://us-python.pkg.dev/colab-wheels/public/simple/\n",
            "Collecting dna_features_viewer\n",
            "  Downloading dna_features_viewer-3.1.1-py3-none-any.whl (30 kB)\n",
            "Requirement already satisfied: Biopython in /usr/local/lib/python3.7/site-packages (from dna_features_viewer) (1.79)\n",
            "Collecting packaging\n",
            "  Downloading packaging-21.3-py3-none-any.whl (40 kB)\n",
            "\u001b[K     |████████████████████████████████| 40 kB 7.6 MB/s \n",
            "\u001b[?25hCollecting matplotlib>=3\n",
            "  Downloading matplotlib-3.5.2-cp37-cp37m-manylinux_2_5_x86_64.manylinux1_x86_64.whl (11.2 MB)\n",
            "\u001b[K     |████████████████████████████████| 11.2 MB 25.9 MB/s \n",
            "\u001b[?25hCollecting kiwisolver>=1.0.1\n",
            "  Downloading kiwisolver-1.4.3-cp37-cp37m-manylinux_2_5_x86_64.manylinux1_x86_64.whl (1.1 MB)\n",
            "\u001b[K     |████████████████████████████████| 1.1 MB 47.5 MB/s \n",
            "\u001b[?25hCollecting cycler>=0.10\n",
            "  Downloading cycler-0.11.0-py3-none-any.whl (6.4 kB)\n",
            "Collecting pillow>=6.2.0\n",
            "  Downloading Pillow-9.1.1-cp37-cp37m-manylinux_2_17_x86_64.manylinux2014_x86_64.whl (3.1 MB)\n",
            "\u001b[K     |████████████████████████████████| 3.1 MB 39.9 MB/s \n",
            "\u001b[?25hCollecting fonttools>=4.22.0\n",
            "  Downloading fonttools-4.33.3-py3-none-any.whl (930 kB)\n",
            "\u001b[K     |████████████████████████████████| 930 kB 72.2 MB/s \n",
            "\u001b[?25hRequirement already satisfied: numpy>=1.17 in /usr/local/lib/python3.7/site-packages (from matplotlib>=3->dna_features_viewer) (1.21.6)\n",
            "Collecting python-dateutil>=2.7\n",
            "  Downloading python_dateutil-2.8.2-py2.py3-none-any.whl (247 kB)\n",
            "\u001b[K     |████████████████████████████████| 247 kB 94.5 MB/s \n",
            "\u001b[?25hCollecting pyparsing>=2.2.1\n",
            "  Downloading pyparsing-3.0.9-py3-none-any.whl (98 kB)\n",
            "\u001b[K     |████████████████████████████████| 98 kB 9.8 MB/s \n",
            "\u001b[?25hCollecting typing-extensions\n",
            "  Downloading typing_extensions-4.2.0-py3-none-any.whl (24 kB)\n",
            "Requirement already satisfied: six>=1.5 in /usr/local/lib/python3.7/site-packages (from python-dateutil>=2.7->matplotlib>=3->dna_features_viewer) (1.15.0)\n",
            "Installing collected packages: typing-extensions, pyparsing, python-dateutil, pillow, packaging, kiwisolver, fonttools, cycler, matplotlib, dna-features-viewer\n",
            "Successfully installed cycler-0.11.0 dna-features-viewer-3.1.1 fonttools-4.33.3 kiwisolver-1.4.3 matplotlib-3.5.2 packaging-21.3 pillow-9.1.1 pyparsing-3.0.9 python-dateutil-2.8.2 typing-extensions-4.2.0\n"
          ]
        },
        {
          "output_type": "display_data",
          "data": {
            "application/vnd.colab-display-data+json": {
              "pip_warning": {
                "packages": [
                  "cycler",
                  "dateutil",
                  "packaging"
                ]
              }
            }
          },
          "metadata": {}
        }
      ]
    },
    {
      "cell_type": "code",
      "source": [
        "from dna_features_viewer import GraphicFeature, GraphicRecord\n"
      ],
      "metadata": {
        "id": "Ekvpl4qhwUz4"
      },
      "execution_count": null,
      "outputs": []
    },
    {
      "cell_type": "code",
      "source": [
        "# пример для нескольких геномов\n",
        "import matplotlib.pyplot as plt\n",
        "\n",
        "fig, ((ax1, ax2 ,ax3, ax4)) = plt.subplots(nrows=4, ncols=1,figsize=(12, 6))\n",
        "\n",
        "features=[\n",
        "    GraphicFeature(start=20, end=40, strand=+1, color=\"#ffd700\",\n",
        "                   label=\"Z-DNA\"),\n",
        "    GraphicFeature(start=20, end=500, strand=+1, color=\"#ffcccc\",\n",
        "                   label=\"Gene 1 with a very long name\"),\n",
        "\n",
        "]\n",
        "record = GraphicRecord(sequence_length=1000, features=features)\n",
        "record.plot(ax=ax1)\n",
        "\n",
        "features2=[\n",
        "    GraphicFeature(start=22, end=45, strand=+1, color=\"#ffd700\",\n",
        "                   label=\"Z_DNA\"),\n",
        "           GraphicFeature(start=100, end=110, strand=+1, color=\"#ffd700\",\n",
        "                   label=\"Z_DNA\"),\n",
        "    GraphicFeature(start=20, end=500, strand=+1, color=\"#ffcccc\",\n",
        "                   label=\"Gene 1 with a very long name\"),\n",
        "]\n",
        "record2 = GraphicRecord(sequence_length=1000, features=features2)\n",
        "record2.plot(ax2)\n",
        "features3=[\n",
        "    GraphicFeature(start=10, end=600, strand=+1, color=\"#ffcccc\",\n",
        "                   label=\"GENE_X\"),\n",
        "    GraphicFeature(start=20, end=38, strand=+1, color=\"#ffd700\",\n",
        "                   label=\"z-dna\"),\n",
        "]\n",
        "record3 = GraphicRecord(sequence_length=600, features=features3)\n",
        "record3.plot(ax3)\n",
        "\n"
      ],
      "metadata": {
        "colab": {
          "base_uri": "https://localhost:8080/",
          "height": 427
        },
        "id": "EmNC-HQ1wbjr",
        "outputId": "7a3b0c45-db03-4545-abf6-825a41b620b5"
      },
      "execution_count": null,
      "outputs": [
        {
          "output_type": "execute_result",
          "data": {
            "text/plain": [
              "(<matplotlib.axes._subplots.AxesSubplot at 0x7f4d54af5110>,\n",
              " ({GF(GENE_X, 10-600 (1)): 0, GF(z-dna, 20-38 (1)): 1.0},\n",
              "  {GF(z-dna, 20-38 (1)): {'annotation_y': 2.0, 'feature_y': 1.0}}))"
            ]
          },
          "metadata": {},
          "execution_count": 50
        },
        {
          "output_type": "display_data",
          "data": {
            "text/plain": [
              "<Figure size 864x432 with 4 Axes>"
            ],
            "image/png": "[encoded data removed]"
          },
          "metadata": {}
        }
      ]
    },
    {
      "cell_type": "code",
      "source": [
        ""
      ],
      "metadata": {
        "id": "R58dAVmvxPwf"
      },
      "execution_count": null,
      "outputs": []
    }
  ]
}